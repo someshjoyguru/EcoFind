{
  "cells": [
    {
      "cell_type": "markdown",
      "metadata": {
        "id": "view-in-github",
        "colab_type": "text"
      },
      "source": [
        "<a href=\"https://colab.research.google.com/github/someshjoyguru/EcoFind/blob/main/Google_Colab_Notebooks/dataset2.ipynb\" target=\"_parent\"><img src=\"https://colab.research.google.com/assets/colab-badge.svg\" alt=\"Open In Colab\"/></a>"
      ]
    },
    {
      "cell_type": "code",
      "source": [
        "# Mount Google Drive for access\n",
        "from google.colab import drive\n",
        "drive.mount('/content/drive')\n",
        "\n",
        "# Change the working directory to '/content/drive/MyDrive/EcoTech'\n",
        "%cd /content/drive/MyDrive/EcoTech"
      ],
      "metadata": {
        "colab": {
          "base_uri": "https://localhost:8080/"
        },
        "id": "CTOmlLV5m2xg",
        "outputId": "1f4308a4-ab47-444e-b9c4-11029e38ccaf"
      },
      "id": "CTOmlLV5m2xg",
      "execution_count": 1,
      "outputs": [
        {
          "output_type": "stream",
          "name": "stdout",
          "text": [
            "Drive already mounted at /content/drive; to attempt to forcibly remount, call drive.mount(\"/content/drive\", force_remount=True).\n",
            "/content/drive/MyDrive/EcoTech\n"
          ]
        }
      ]
    },
    {
      "cell_type": "code",
      "execution_count": 2,
      "id": "161723e9",
      "metadata": {
        "id": "161723e9"
      },
      "outputs": [],
      "source": [
        "# Import the pandas library for data manipulation\n",
        "import pandas as pd\n",
        "\n",
        "# Import the numpy library for numerical operations\n",
        "import numpy as np\n",
        "\n",
        "# Import the re library for regular expressions\n",
        "import re"
      ]
    },
    {
      "cell_type": "code",
      "execution_count": 3,
      "id": "6027422f",
      "metadata": {
        "id": "6027422f",
        "colab": {
          "base_uri": "https://localhost:8080/"
        },
        "outputId": "f73dfefa-d777-4e82-cc2a-2b6437b2b96d"
      },
      "outputs": [
        {
          "output_type": "stream",
          "name": "stdout",
          "text": [
            "<class 'pandas.core.frame.DataFrame'>\n",
            "RangeIndex: 551585 entries, 0 to 551584\n",
            "Data columns (total 7 columns):\n",
            " #   Column         Non-Null Count   Dtype \n",
            "---  ------         --------------   ----- \n",
            " 0   name           551585 non-null  object\n",
            " 1   main_category  551585 non-null  object\n",
            " 2   sub_category   551585 non-null  object\n",
            " 3   image          551585 non-null  object\n",
            " 4   link           551585 non-null  object\n",
            " 5   ratings        375791 non-null  object\n",
            " 6   no_of_ratings  375791 non-null  object\n",
            "dtypes: object(7)\n",
            "memory usage: 29.5+ MB\n"
          ]
        }
      ],
      "source": [
        "# Read the CSV file into a DataFrame\n",
        "df = pd.read_csv(\"dataset_final/Amazon-Products.csv\")\n",
        "\n",
        "# Set an option to display the full column width\n",
        "pd.set_option('display.max_colwidth', None)\n",
        "\n",
        "# Drop the 'Unnamed: 0' column\n",
        "final_dataset = df.drop(['Unnamed: 0'], axis=1)\n",
        "\n",
        "# Drop the 'discount_price' and 'actual_price' columns\n",
        "final_dataset = final_dataset.drop(['discount_price', 'actual_price'], axis=1)\n",
        "\n",
        "# Display information about the modified DataFrame\n",
        "final_dataset.info()"
      ]
    },
    {
      "cell_type": "code",
      "execution_count": 4,
      "id": "fb2cd1d3",
      "metadata": {
        "id": "fb2cd1d3"
      },
      "outputs": [],
      "source": [
        "# Create a 'tags' column by combining 'name,' 'main_category,' and 'sub_category'\n",
        "final_dataset['tags'] = final_dataset['name'] + ' ' + final_dataset['main_category'] + ' ' + final_dataset['sub_category']\n",
        "\n",
        "# Create a 'Classification' column by capitalizing 'main_category' and adding 'sub_category'\n",
        "final_dataset['Classification'] = final_dataset['main_category'].str.capitalize() + ' : ' + final_dataset['sub_category']"
      ]
    },
    {
      "cell_type": "code",
      "execution_count": 5,
      "id": "94daaa43",
      "metadata": {
        "id": "94daaa43"
      },
      "outputs": [],
      "source": [
        "# Drop the 'main_category' and 'sub_category' columns\n",
        "final_dataset = final_dataset.drop(['main_category', 'sub_category'], axis=1)"
      ]
    },
    {
      "cell_type": "code",
      "execution_count": 6,
      "id": "2827c493",
      "metadata": {
        "id": "2827c493"
      },
      "outputs": [],
      "source": [
        "# Rename the 'link' column to 'url' in the DataFrame\n",
        "final_dataset.rename(columns={'link': 'url'}, inplace=True)"
      ]
    },
    {
      "cell_type": "code",
      "execution_count": 7,
      "id": "cbf0a59e",
      "metadata": {
        "id": "cbf0a59e",
        "colab": {
          "base_uri": "https://localhost:8080/",
          "height": 1000
        },
        "outputId": "d3168a66-95f4-4629-9509-7e605b9005c4"
      },
      "outputs": [
        {
          "output_type": "execute_result",
          "data": {
            "text/plain": [
              "                                                                                                                            name  \\\n",
              "0  Lloyd 1.5 Ton 3 Star Inverter Split Ac (5 In 1 Convertible, Copper, Anti-Viral + Pm 2.5 Filter, 2023 Model, White, Gls18I3...   \n",
              "1  LG 1.5 Ton 5 Star AI DUAL Inverter Split AC (Copper, Super Convertible 6-in-1 Cooling, HD Filter with Anti-Virus Protectio...   \n",
              "2  LG 1 Ton 4 Star Ai Dual Inverter Split Ac (Copper, Super Convertible 6-In-1 Cooling, Hd Filter With Anti Virus Protection,...   \n",
              "3  LG 1.5 Ton 3 Star AI DUAL Inverter Split AC (Copper, Super Convertible 6-in-1 Cooling, HD Filter with Anti-Virus Protectio...   \n",
              "4                   Carrier 1.5 Ton 3 Star Inverter Split AC (Copper,ESTER Dxi, 4-in-1 Flexicool Inverter, 2022 Model,R32,White)   \n",
              "\n",
              "                                                            image  \\\n",
              "0  https://m.media-amazon.com/images/I/31UISB90sYL._AC_UL320_.jpg   \n",
              "1  https://m.media-amazon.com/images/I/51JFb7FctDL._AC_UL320_.jpg   \n",
              "2  https://m.media-amazon.com/images/I/51JFb7FctDL._AC_UL320_.jpg   \n",
              "3  https://m.media-amazon.com/images/I/51JFb7FctDL._AC_UL320_.jpg   \n",
              "4  https://m.media-amazon.com/images/I/41lrtqXPiWL._AC_UL320_.jpg   \n",
              "\n",
              "                                                                                                                                 url  \\\n",
              "0  https://www.amazon.in/Lloyd-Inverter-Convertible-Anti-Viral-GLS18I3FWAMC/dp/B0BRKXTSBT/ref=sr_1_4?qid=1679134237&s=kitchen&sr=1-4   \n",
              "1     https://www.amazon.in/LG-Convertible-Anti-Virus-Protection-RS-Q19YNZE/dp/B0BQ3MXML8/ref=sr_1_5?qid=1679134237&s=kitchen&sr=1-5   \n",
              "2       https://www.amazon.in/LG-Inverter-Convertible-protection-RS-Q13JNYE/dp/B0BPYN9JGF/ref=sr_1_6?qid=1679134237&s=kitchen&sr=1-6   \n",
              "3     https://www.amazon.in/LG-Convertible-Anti-Virus-Protection-RS-Q19JNXE/dp/B0BQ3MJ1TG/ref=sr_1_7?qid=1679134237&s=kitchen&sr=1-7   \n",
              "4             https://www.amazon.in/Carrier-Inverter-Split-Copper-Flexicool/dp/B0B67RLLJC/ref=sr_1_8?qid=1679134237&s=kitchen&sr=1-8   \n",
              "\n",
              "  ratings no_of_ratings  \\\n",
              "0     4.2         2,255   \n",
              "1     4.2         2,948   \n",
              "2     4.2         1,206   \n",
              "3     4.0            69   \n",
              "4     4.1           630   \n",
              "\n",
              "                                                                                                                                                        tags  \\\n",
              "0  Lloyd 1.5 Ton 3 Star Inverter Split Ac (5 In 1 Convertible, Copper, Anti-Viral + Pm 2.5 Filter, 2023 Model, White, Gls18I3... appliances Air Conditioners   \n",
              "1  LG 1.5 Ton 5 Star AI DUAL Inverter Split AC (Copper, Super Convertible 6-in-1 Cooling, HD Filter with Anti-Virus Protectio... appliances Air Conditioners   \n",
              "2  LG 1 Ton 4 Star Ai Dual Inverter Split Ac (Copper, Super Convertible 6-In-1 Cooling, Hd Filter With Anti Virus Protection,... appliances Air Conditioners   \n",
              "3  LG 1.5 Ton 3 Star AI DUAL Inverter Split AC (Copper, Super Convertible 6-in-1 Cooling, HD Filter with Anti-Virus Protectio... appliances Air Conditioners   \n",
              "4                   Carrier 1.5 Ton 3 Star Inverter Split AC (Copper,ESTER Dxi, 4-in-1 Flexicool Inverter, 2022 Model,R32,White) appliances Air Conditioners   \n",
              "\n",
              "                  Classification  \n",
              "0  Appliances : Air Conditioners  \n",
              "1  Appliances : Air Conditioners  \n",
              "2  Appliances : Air Conditioners  \n",
              "3  Appliances : Air Conditioners  \n",
              "4  Appliances : Air Conditioners  "
            ],
            "text/html": [
              "\n",
              "  <div id=\"df-b703e871-a074-486c-a6a4-405cdd6bd56b\" class=\"colab-df-container\">\n",
              "    <div>\n",
              "<style scoped>\n",
              "    .dataframe tbody tr th:only-of-type {\n",
              "        vertical-align: middle;\n",
              "    }\n",
              "\n",
              "    .dataframe tbody tr th {\n",
              "        vertical-align: top;\n",
              "    }\n",
              "\n",
              "    .dataframe thead th {\n",
              "        text-align: right;\n",
              "    }\n",
              "</style>\n",
              "<table border=\"1\" class=\"dataframe\">\n",
              "  <thead>\n",
              "    <tr style=\"text-align: right;\">\n",
              "      <th></th>\n",
              "      <th>name</th>\n",
              "      <th>image</th>\n",
              "      <th>url</th>\n",
              "      <th>ratings</th>\n",
              "      <th>no_of_ratings</th>\n",
              "      <th>tags</th>\n",
              "      <th>Classification</th>\n",
              "    </tr>\n",
              "  </thead>\n",
              "  <tbody>\n",
              "    <tr>\n",
              "      <th>0</th>\n",
              "      <td>Lloyd 1.5 Ton 3 Star Inverter Split Ac (5 In 1 Convertible, Copper, Anti-Viral + Pm 2.5 Filter, 2023 Model, White, Gls18I3...</td>\n",
              "      <td>https://m.media-amazon.com/images/I/31UISB90sYL._AC_UL320_.jpg</td>\n",
              "      <td>https://www.amazon.in/Lloyd-Inverter-Convertible-Anti-Viral-GLS18I3FWAMC/dp/B0BRKXTSBT/ref=sr_1_4?qid=1679134237&amp;s=kitchen&amp;sr=1-4</td>\n",
              "      <td>4.2</td>\n",
              "      <td>2,255</td>\n",
              "      <td>Lloyd 1.5 Ton 3 Star Inverter Split Ac (5 In 1 Convertible, Copper, Anti-Viral + Pm 2.5 Filter, 2023 Model, White, Gls18I3... appliances Air Conditioners</td>\n",
              "      <td>Appliances : Air Conditioners</td>\n",
              "    </tr>\n",
              "    <tr>\n",
              "      <th>1</th>\n",
              "      <td>LG 1.5 Ton 5 Star AI DUAL Inverter Split AC (Copper, Super Convertible 6-in-1 Cooling, HD Filter with Anti-Virus Protectio...</td>\n",
              "      <td>https://m.media-amazon.com/images/I/51JFb7FctDL._AC_UL320_.jpg</td>\n",
              "      <td>https://www.amazon.in/LG-Convertible-Anti-Virus-Protection-RS-Q19YNZE/dp/B0BQ3MXML8/ref=sr_1_5?qid=1679134237&amp;s=kitchen&amp;sr=1-5</td>\n",
              "      <td>4.2</td>\n",
              "      <td>2,948</td>\n",
              "      <td>LG 1.5 Ton 5 Star AI DUAL Inverter Split AC (Copper, Super Convertible 6-in-1 Cooling, HD Filter with Anti-Virus Protectio... appliances Air Conditioners</td>\n",
              "      <td>Appliances : Air Conditioners</td>\n",
              "    </tr>\n",
              "    <tr>\n",
              "      <th>2</th>\n",
              "      <td>LG 1 Ton 4 Star Ai Dual Inverter Split Ac (Copper, Super Convertible 6-In-1 Cooling, Hd Filter With Anti Virus Protection,...</td>\n",
              "      <td>https://m.media-amazon.com/images/I/51JFb7FctDL._AC_UL320_.jpg</td>\n",
              "      <td>https://www.amazon.in/LG-Inverter-Convertible-protection-RS-Q13JNYE/dp/B0BPYN9JGF/ref=sr_1_6?qid=1679134237&amp;s=kitchen&amp;sr=1-6</td>\n",
              "      <td>4.2</td>\n",
              "      <td>1,206</td>\n",
              "      <td>LG 1 Ton 4 Star Ai Dual Inverter Split Ac (Copper, Super Convertible 6-In-1 Cooling, Hd Filter With Anti Virus Protection,... appliances Air Conditioners</td>\n",
              "      <td>Appliances : Air Conditioners</td>\n",
              "    </tr>\n",
              "    <tr>\n",
              "      <th>3</th>\n",
              "      <td>LG 1.5 Ton 3 Star AI DUAL Inverter Split AC (Copper, Super Convertible 6-in-1 Cooling, HD Filter with Anti-Virus Protectio...</td>\n",
              "      <td>https://m.media-amazon.com/images/I/51JFb7FctDL._AC_UL320_.jpg</td>\n",
              "      <td>https://www.amazon.in/LG-Convertible-Anti-Virus-Protection-RS-Q19JNXE/dp/B0BQ3MJ1TG/ref=sr_1_7?qid=1679134237&amp;s=kitchen&amp;sr=1-7</td>\n",
              "      <td>4.0</td>\n",
              "      <td>69</td>\n",
              "      <td>LG 1.5 Ton 3 Star AI DUAL Inverter Split AC (Copper, Super Convertible 6-in-1 Cooling, HD Filter with Anti-Virus Protectio... appliances Air Conditioners</td>\n",
              "      <td>Appliances : Air Conditioners</td>\n",
              "    </tr>\n",
              "    <tr>\n",
              "      <th>4</th>\n",
              "      <td>Carrier 1.5 Ton 3 Star Inverter Split AC (Copper,ESTER Dxi, 4-in-1 Flexicool Inverter, 2022 Model,R32,White)</td>\n",
              "      <td>https://m.media-amazon.com/images/I/41lrtqXPiWL._AC_UL320_.jpg</td>\n",
              "      <td>https://www.amazon.in/Carrier-Inverter-Split-Copper-Flexicool/dp/B0B67RLLJC/ref=sr_1_8?qid=1679134237&amp;s=kitchen&amp;sr=1-8</td>\n",
              "      <td>4.1</td>\n",
              "      <td>630</td>\n",
              "      <td>Carrier 1.5 Ton 3 Star Inverter Split AC (Copper,ESTER Dxi, 4-in-1 Flexicool Inverter, 2022 Model,R32,White) appliances Air Conditioners</td>\n",
              "      <td>Appliances : Air Conditioners</td>\n",
              "    </tr>\n",
              "  </tbody>\n",
              "</table>\n",
              "</div>\n",
              "    <div class=\"colab-df-buttons\">\n",
              "\n",
              "  <div class=\"colab-df-container\">\n",
              "    <button class=\"colab-df-convert\" onclick=\"convertToInteractive('df-b703e871-a074-486c-a6a4-405cdd6bd56b')\"\n",
              "            title=\"Convert this dataframe to an interactive table.\"\n",
              "            style=\"display:none;\">\n",
              "\n",
              "  <svg xmlns=\"http://www.w3.org/2000/svg\" height=\"24px\" viewBox=\"0 -960 960 960\">\n",
              "    <path d=\"M120-120v-720h720v720H120Zm60-500h600v-160H180v160Zm220 220h160v-160H400v160Zm0 220h160v-160H400v160ZM180-400h160v-160H180v160Zm440 0h160v-160H620v160ZM180-180h160v-160H180v160Zm440 0h160v-160H620v160Z\"/>\n",
              "  </svg>\n",
              "    </button>\n",
              "\n",
              "  <style>\n",
              "    .colab-df-container {\n",
              "      display:flex;\n",
              "      gap: 12px;\n",
              "    }\n",
              "\n",
              "    .colab-df-convert {\n",
              "      background-color: #E8F0FE;\n",
              "      border: none;\n",
              "      border-radius: 50%;\n",
              "      cursor: pointer;\n",
              "      display: none;\n",
              "      fill: #1967D2;\n",
              "      height: 32px;\n",
              "      padding: 0 0 0 0;\n",
              "      width: 32px;\n",
              "    }\n",
              "\n",
              "    .colab-df-convert:hover {\n",
              "      background-color: #E2EBFA;\n",
              "      box-shadow: 0px 1px 2px rgba(60, 64, 67, 0.3), 0px 1px 3px 1px rgba(60, 64, 67, 0.15);\n",
              "      fill: #174EA6;\n",
              "    }\n",
              "\n",
              "    .colab-df-buttons div {\n",
              "      margin-bottom: 4px;\n",
              "    }\n",
              "\n",
              "    [theme=dark] .colab-df-convert {\n",
              "      background-color: #3B4455;\n",
              "      fill: #D2E3FC;\n",
              "    }\n",
              "\n",
              "    [theme=dark] .colab-df-convert:hover {\n",
              "      background-color: #434B5C;\n",
              "      box-shadow: 0px 1px 3px 1px rgba(0, 0, 0, 0.15);\n",
              "      filter: drop-shadow(0px 1px 2px rgba(0, 0, 0, 0.3));\n",
              "      fill: #FFFFFF;\n",
              "    }\n",
              "  </style>\n",
              "\n",
              "    <script>\n",
              "      const buttonEl =\n",
              "        document.querySelector('#df-b703e871-a074-486c-a6a4-405cdd6bd56b button.colab-df-convert');\n",
              "      buttonEl.style.display =\n",
              "        google.colab.kernel.accessAllowed ? 'block' : 'none';\n",
              "\n",
              "      async function convertToInteractive(key) {\n",
              "        const element = document.querySelector('#df-b703e871-a074-486c-a6a4-405cdd6bd56b');\n",
              "        const dataTable =\n",
              "          await google.colab.kernel.invokeFunction('convertToInteractive',\n",
              "                                                    [key], {});\n",
              "        if (!dataTable) return;\n",
              "\n",
              "        const docLinkHtml = 'Like what you see? Visit the ' +\n",
              "          '<a target=\"_blank\" href=https://colab.research.google.com/notebooks/data_table.ipynb>data table notebook</a>'\n",
              "          + ' to learn more about interactive tables.';\n",
              "        element.innerHTML = '';\n",
              "        dataTable['output_type'] = 'display_data';\n",
              "        await google.colab.output.renderOutput(dataTable, element);\n",
              "        const docLink = document.createElement('div');\n",
              "        docLink.innerHTML = docLinkHtml;\n",
              "        element.appendChild(docLink);\n",
              "      }\n",
              "    </script>\n",
              "  </div>\n",
              "\n",
              "\n",
              "<div id=\"df-65b691f7-3a13-434a-a515-15a65607b639\">\n",
              "  <button class=\"colab-df-quickchart\" onclick=\"quickchart('df-65b691f7-3a13-434a-a515-15a65607b639')\"\n",
              "            title=\"Suggest charts.\"\n",
              "            style=\"display:none;\">\n",
              "\n",
              "<svg xmlns=\"http://www.w3.org/2000/svg\" height=\"24px\"viewBox=\"0 0 24 24\"\n",
              "     width=\"24px\">\n",
              "    <g>\n",
              "        <path d=\"M19 3H5c-1.1 0-2 .9-2 2v14c0 1.1.9 2 2 2h14c1.1 0 2-.9 2-2V5c0-1.1-.9-2-2-2zM9 17H7v-7h2v7zm4 0h-2V7h2v10zm4 0h-2v-4h2v4z\"/>\n",
              "    </g>\n",
              "</svg>\n",
              "  </button>\n",
              "\n",
              "<style>\n",
              "  .colab-df-quickchart {\n",
              "      --bg-color: #E8F0FE;\n",
              "      --fill-color: #1967D2;\n",
              "      --hover-bg-color: #E2EBFA;\n",
              "      --hover-fill-color: #174EA6;\n",
              "      --disabled-fill-color: #AAA;\n",
              "      --disabled-bg-color: #DDD;\n",
              "  }\n",
              "\n",
              "  [theme=dark] .colab-df-quickchart {\n",
              "      --bg-color: #3B4455;\n",
              "      --fill-color: #D2E3FC;\n",
              "      --hover-bg-color: #434B5C;\n",
              "      --hover-fill-color: #FFFFFF;\n",
              "      --disabled-bg-color: #3B4455;\n",
              "      --disabled-fill-color: #666;\n",
              "  }\n",
              "\n",
              "  .colab-df-quickchart {\n",
              "    background-color: var(--bg-color);\n",
              "    border: none;\n",
              "    border-radius: 50%;\n",
              "    cursor: pointer;\n",
              "    display: none;\n",
              "    fill: var(--fill-color);\n",
              "    height: 32px;\n",
              "    padding: 0;\n",
              "    width: 32px;\n",
              "  }\n",
              "\n",
              "  .colab-df-quickchart:hover {\n",
              "    background-color: var(--hover-bg-color);\n",
              "    box-shadow: 0 1px 2px rgba(60, 64, 67, 0.3), 0 1px 3px 1px rgba(60, 64, 67, 0.15);\n",
              "    fill: var(--button-hover-fill-color);\n",
              "  }\n",
              "\n",
              "  .colab-df-quickchart-complete:disabled,\n",
              "  .colab-df-quickchart-complete:disabled:hover {\n",
              "    background-color: var(--disabled-bg-color);\n",
              "    fill: var(--disabled-fill-color);\n",
              "    box-shadow: none;\n",
              "  }\n",
              "\n",
              "  .colab-df-spinner {\n",
              "    border: 2px solid var(--fill-color);\n",
              "    border-color: transparent;\n",
              "    border-bottom-color: var(--fill-color);\n",
              "    animation:\n",
              "      spin 1s steps(1) infinite;\n",
              "  }\n",
              "\n",
              "  @keyframes spin {\n",
              "    0% {\n",
              "      border-color: transparent;\n",
              "      border-bottom-color: var(--fill-color);\n",
              "      border-left-color: var(--fill-color);\n",
              "    }\n",
              "    20% {\n",
              "      border-color: transparent;\n",
              "      border-left-color: var(--fill-color);\n",
              "      border-top-color: var(--fill-color);\n",
              "    }\n",
              "    30% {\n",
              "      border-color: transparent;\n",
              "      border-left-color: var(--fill-color);\n",
              "      border-top-color: var(--fill-color);\n",
              "      border-right-color: var(--fill-color);\n",
              "    }\n",
              "    40% {\n",
              "      border-color: transparent;\n",
              "      border-right-color: var(--fill-color);\n",
              "      border-top-color: var(--fill-color);\n",
              "    }\n",
              "    60% {\n",
              "      border-color: transparent;\n",
              "      border-right-color: var(--fill-color);\n",
              "    }\n",
              "    80% {\n",
              "      border-color: transparent;\n",
              "      border-right-color: var(--fill-color);\n",
              "      border-bottom-color: var(--fill-color);\n",
              "    }\n",
              "    90% {\n",
              "      border-color: transparent;\n",
              "      border-bottom-color: var(--fill-color);\n",
              "    }\n",
              "  }\n",
              "</style>\n",
              "\n",
              "  <script>\n",
              "    async function quickchart(key) {\n",
              "      const quickchartButtonEl =\n",
              "        document.querySelector('#' + key + ' button');\n",
              "      quickchartButtonEl.disabled = true;  // To prevent multiple clicks.\n",
              "      quickchartButtonEl.classList.add('colab-df-spinner');\n",
              "      try {\n",
              "        const charts = await google.colab.kernel.invokeFunction(\n",
              "            'suggestCharts', [key], {});\n",
              "      } catch (error) {\n",
              "        console.error('Error during call to suggestCharts:', error);\n",
              "      }\n",
              "      quickchartButtonEl.classList.remove('colab-df-spinner');\n",
              "      quickchartButtonEl.classList.add('colab-df-quickchart-complete');\n",
              "    }\n",
              "    (() => {\n",
              "      let quickchartButtonEl =\n",
              "        document.querySelector('#df-65b691f7-3a13-434a-a515-15a65607b639 button');\n",
              "      quickchartButtonEl.style.display =\n",
              "        google.colab.kernel.accessAllowed ? 'block' : 'none';\n",
              "    })();\n",
              "  </script>\n",
              "</div>\n",
              "    </div>\n",
              "  </div>\n"
            ]
          },
          "metadata": {},
          "execution_count": 7
        }
      ],
      "source": [
        "final_dataset.head()"
      ]
    },
    {
      "cell_type": "code",
      "execution_count": 8,
      "id": "1e8e2c22",
      "metadata": {
        "id": "1e8e2c22"
      },
      "outputs": [],
      "source": [
        "# Fill missing values in the 'ratings' column with 'No ratings available'\n",
        "final_dataset['ratings'] = final_dataset['ratings'].fillna('No ratings available')\n",
        "\n",
        "# Fill missing values in the 'no_of_ratings' column with 0\n",
        "final_dataset['no_of_ratings'] = final_dataset['no_of_ratings'].fillna(0)\n"
      ]
    },
    {
      "cell_type": "code",
      "execution_count": 9,
      "id": "81bf63fe",
      "metadata": {
        "colab": {
          "base_uri": "https://localhost:8080/"
        },
        "id": "81bf63fe",
        "outputId": "58eb102e-0b66-41e1-aea5-7e13fa61f56c"
      },
      "outputs": [
        {
          "output_type": "stream",
          "name": "stdout",
          "text": [
            "<class 'pandas.core.frame.DataFrame'>\n",
            "RangeIndex: 551585 entries, 0 to 551584\n",
            "Data columns (total 7 columns):\n",
            " #   Column          Non-Null Count   Dtype \n",
            "---  ------          --------------   ----- \n",
            " 0   name            551585 non-null  object\n",
            " 1   image           551585 non-null  object\n",
            " 2   url             551585 non-null  object\n",
            " 3   ratings         551585 non-null  object\n",
            " 4   no_of_ratings   551585 non-null  object\n",
            " 5   tags            551585 non-null  object\n",
            " 6   Classification  551585 non-null  object\n",
            "dtypes: object(7)\n",
            "memory usage: 29.5+ MB\n"
          ]
        }
      ],
      "source": [
        "final_dataset.info()"
      ]
    },
    {
      "cell_type": "code",
      "execution_count": 10,
      "id": "ca9d74e8",
      "metadata": {
        "id": "ca9d74e8"
      },
      "outputs": [],
      "source": [
        "# Import the 'eco_friendly_words' module\n",
        "import eco_friendly_words\n",
        "\n",
        "# Access the list of eco-friendly keywords\n",
        "eco_friendly_keywords = eco_friendly_words.eco_friendly_words"
      ]
    },
    {
      "cell_type": "code",
      "execution_count": 11,
      "id": "c6b838eb",
      "metadata": {
        "id": "c6b838eb"
      },
      "outputs": [],
      "source": [
        "# Create a regex pattern by joining eco-friendly keywords with '|'\n",
        "pattern = '|'.join(eco_friendly_keywords)\n",
        "\n",
        "# Use the str.contains() method to filter rows containing eco-friendly keywords in the 'tags' column\n",
        "filtered_dataset = final_dataset[final_dataset['tags'].str.contains(pattern, case=False, na=False)]\n",
        "\n",
        "# Reset the index of the filtered DataFrame\n",
        "dataset2 = filtered_dataset.reset_index(drop=True)"
      ]
    },
    {
      "cell_type": "code",
      "execution_count": 12,
      "id": "b1367cc0",
      "metadata": {
        "colab": {
          "base_uri": "https://localhost:8080/"
        },
        "id": "b1367cc0",
        "outputId": "354b8f1b-cb6a-4809-841c-69f845498083"
      },
      "outputs": [
        {
          "output_type": "execute_result",
          "data": {
            "text/plain": [
              "(21486, 7)"
            ]
          },
          "metadata": {},
          "execution_count": 12
        }
      ],
      "source": [
        "dataset2.shape"
      ]
    },
    {
      "cell_type": "code",
      "source": [
        "unique_groups_counts = dataset2['Classification'].value_counts().reset_index()\n",
        "unique_groups_counts.columns = ['Classification', 'count']\n",
        "print(unique_groups_counts)"
      ],
      "metadata": {
        "colab": {
          "base_uri": "https://localhost:8080/"
        },
        "id": "M4e2ZKJPXFu2",
        "outputId": "a6f79237-c25f-47cf-e004-8810d81544b0"
      },
      "id": "M4e2ZKJPXFu2",
      "execution_count": 13,
      "outputs": [
        {
          "output_type": "stream",
          "name": "stdout",
          "text": [
            "                               Classification  count\n",
            "0                     Accessories : Jewellery   4907\n",
            "1    Accessories : Fashion & Silver Jewellery   1526\n",
            "2           Accessories : Handbags & Clutches   1292\n",
            "3                Accessories : Bags & Luggage   1030\n",
            "4                      Stores : Men's Fashion   1009\n",
            "..                                        ...    ...\n",
            "100            Beauty & health : Value Bazaar      5\n",
            "101               Car & motorbike : Car Parts      3\n",
            "102         Tv, audio & cameras : Televisions      2\n",
            "103            Stores : Fashion Sales & Deals      1\n",
            "104             Appliances : Air Conditioners      1\n",
            "\n",
            "[105 rows x 2 columns]\n"
          ]
        }
      ]
    },
    {
      "cell_type": "code",
      "source": [
        "# Sort the DataFrame by the 'count' column in ascending order\n",
        "unique_groups_counts_sorted = unique_groups_counts.sort_values(by='count')\n",
        "\n",
        "# Get the top 30 rows with the minimum counts\n",
        "min_30_counts = unique_groups_counts_sorted.head(30)\n",
        "\n",
        "# Print the list of unique groups with the minimum counts\n",
        "print(min_30_counts)"
      ],
      "metadata": {
        "colab": {
          "base_uri": "https://localhost:8080/"
        },
        "id": "NlWiVqCEYshY",
        "outputId": "491a6a2e-cbfc-4076-89ec-cdc3b12380bf"
      },
      "id": "NlWiVqCEYshY",
      "execution_count": 14,
      "outputs": [
        {
          "output_type": "stream",
          "name": "stdout",
          "text": [
            "                                             Classification  count\n",
            "104                           Appliances : Air Conditioners      1\n",
            "103                          Stores : Fashion Sales & Deals      1\n",
            "102                       Tv, audio & cameras : Televisions      2\n",
            "101                             Car & motorbike : Car Parts      3\n",
            "100                          Beauty & health : Value Bazaar      5\n",
            "99               Beauty & health : Personal Care Appliances      6\n",
            "98                               Sports & fitness : Running      9\n",
            "97                   Industrial supplies : Lab & Scientific      9\n",
            "96                            Appliances : Washing Machines     10\n",
            "95            Industrial supplies : Test, Measure & Inspect     12\n",
            "94                   Tv, audio & cameras : Security Cameras     16\n",
            "93                Sports & fitness : All Exercise & Fitness     17\n",
            "92           Car & motorbike : All Car & Motorbike Products     17\n",
            "91                        Car & motorbike : Car & Bike Care     17\n",
            "88                              Sports & fitness : Football     18\n",
            "89                                    Women's shoes : Shoes     18\n",
            "90                        Home & kitchen : Home Improvement     18\n",
            "87                     Sports & fitness : Strength Training     20\n",
            "86                               Appliances : Refrigerators     21\n",
            "85                        Car & motorbike : Car Accessories     23\n",
            "84                      Toys & baby products : Toys & Games     26\n",
            "83                 Toys & baby products : Strollers & Prams     27\n",
            "82   Industrial supplies : Industrial & Scientific Supplies     27\n",
            "81                      Sports & fitness : Camping & Hiking     28\n",
            "80                               Sports & fitness : Cricket     31\n",
            "79          Car & motorbike : Motorbike Accessories & Parts     31\n",
            "77                               Sports & fitness : Cycling     33\n",
            "78                      Bags & luggage : Travel Accessories     33\n",
            "76                   Accessories : Gold & Diamond Jewellery     35\n",
            "75        Sports & fitness : All Sports, Fitness & Outdoors     36\n"
          ]
        }
      ]
    },
    {
      "cell_type": "code",
      "source": [
        "target_count = 30\n",
        "\n",
        "# Create a function to apply random sampling to each category\n",
        "def random_sample_category(category_data):\n",
        "    if len(category_data) > target_count:\n",
        "        sampled_data = category_data.sample(target_count, random_state=42)\n",
        "    else:\n",
        "        sampled_data = category_data\n",
        "    return sampled_data\n",
        "\n",
        "# Group the data by 'Classification' and apply the random sampling function to each group\n",
        "dataset2 = dataset2.groupby('Classification', group_keys=False).apply(random_sample_category)\n",
        "\n",
        "# Shuffle the entire dataset\n",
        "dataset2 = dataset2.sample(frac=1, random_state=42).reset_index(drop=True)\n",
        "\n",
        "# Now, final_dataset contains the randomly sampled and shuffled data\n",
        "dataset2.info()"
      ],
      "metadata": {
        "colab": {
          "base_uri": "https://localhost:8080/"
        },
        "id": "-qiQ6aF1WzxW",
        "outputId": "cc2ea48b-91bf-4644-be3e-50b71befffe6"
      },
      "id": "-qiQ6aF1WzxW",
      "execution_count": 15,
      "outputs": [
        {
          "output_type": "stream",
          "name": "stdout",
          "text": [
            "<class 'pandas.core.frame.DataFrame'>\n",
            "RangeIndex: 2781 entries, 0 to 2780\n",
            "Data columns (total 7 columns):\n",
            " #   Column          Non-Null Count  Dtype \n",
            "---  ------          --------------  ----- \n",
            " 0   name            2781 non-null   object\n",
            " 1   image           2781 non-null   object\n",
            " 2   url             2781 non-null   object\n",
            " 3   ratings         2781 non-null   object\n",
            " 4   no_of_ratings   2781 non-null   object\n",
            " 5   tags            2781 non-null   object\n",
            " 6   Classification  2781 non-null   object\n",
            "dtypes: object(7)\n",
            "memory usage: 152.2+ KB\n"
          ]
        }
      ]
    },
    {
      "cell_type": "code",
      "execution_count": 16,
      "id": "39b13507",
      "metadata": {
        "id": "39b13507"
      },
      "outputs": [],
      "source": [
        "# Import the CountVectorizer module from scikit-learn\n",
        "from sklearn.feature_extraction.text import CountVectorizer\n",
        "\n",
        "# Create a CountVectorizer with a maximum of 300 features and English stop words\n",
        "cv = CountVectorizer(max_features=300, stop_words='english')"
      ]
    },
    {
      "cell_type": "code",
      "execution_count": 17,
      "id": "bfb51f28",
      "metadata": {
        "id": "bfb51f28"
      },
      "outputs": [],
      "source": [
        "# Transform the 'tags' column of the filtered dataset into a feature vector\n",
        "vector = cv.fit_transform(dataset2['tags']).toarray()"
      ]
    },
    {
      "cell_type": "code",
      "execution_count": 18,
      "id": "404ea26c",
      "metadata": {
        "colab": {
          "base_uri": "https://localhost:8080/"
        },
        "id": "404ea26c",
        "outputId": "0d922100-e2f6-4de2-d368-e1558c7ebf8c"
      },
      "outputs": [
        {
          "output_type": "execute_result",
          "data": {
            "text/plain": [
              "array([0, 0, 0, 0, 0, 0, 0, 0, 0, 0, 0, 0, 0, 0, 0, 0, 0, 0, 0, 0, 0, 0,\n",
              "       0, 0, 0, 0, 0, 0, 0, 0, 0, 0, 0, 0, 0, 0, 0, 0, 0, 0, 0, 0, 0, 0,\n",
              "       0, 0, 0, 0, 0, 0, 0, 0, 0, 0, 0, 0, 0, 1, 0, 0, 0, 0, 0, 0, 0, 0,\n",
              "       0, 1, 0, 0, 0, 0, 0, 0, 0, 0, 0, 0, 0, 0, 0, 1, 0, 0, 0, 0, 0, 0,\n",
              "       0, 0, 0, 0, 0, 0, 0, 0, 0, 0, 0, 0, 0, 0, 0, 0, 0, 0, 0, 0, 0, 0,\n",
              "       0, 0, 0, 0, 0, 0, 0, 0, 0, 1, 0, 0, 0, 0, 0, 0, 0, 0, 0, 0, 0, 0,\n",
              "       0, 0, 0, 0, 0, 0, 0, 0, 0, 0, 0, 0, 0, 0, 0, 0, 0, 0, 0, 0, 0, 0,\n",
              "       0, 0, 0, 0, 0, 0, 0, 0, 0, 0, 0, 0, 0, 0, 0, 2, 0, 0, 0, 0, 0, 0,\n",
              "       0, 0, 0, 0, 0, 0, 0, 0, 0, 0, 0, 0, 0, 0, 0, 0, 0, 0, 0, 0, 0, 0,\n",
              "       0, 0, 0, 0, 0, 0, 0, 0, 0, 0, 0, 0, 0, 1, 0, 0, 0, 0, 0, 0, 0, 0,\n",
              "       0, 0, 0, 0, 0, 0, 0, 0, 0, 0, 0, 0, 0, 0, 0, 0, 1, 1, 0, 0, 0, 0,\n",
              "       0, 0, 0, 0, 0, 0, 0, 0, 0, 0, 0, 0, 0, 0, 0, 0, 0, 0, 0, 0, 0, 0,\n",
              "       0, 0, 0, 0, 0, 0, 0, 0, 0, 0, 0, 0, 0, 0, 0, 0, 0, 0, 0, 0, 0, 0,\n",
              "       0, 0, 0, 0, 0, 0, 0, 0, 0, 0, 0, 0, 0, 0])"
            ]
          },
          "metadata": {},
          "execution_count": 18
        }
      ],
      "source": [
        "vector[0]"
      ]
    },
    {
      "cell_type": "code",
      "execution_count": 19,
      "id": "19e8e8b8",
      "metadata": {
        "colab": {
          "base_uri": "https://localhost:8080/"
        },
        "id": "19e8e8b8",
        "outputId": "4b1ef09f-eef4-43bc-ddbb-5b0e49aad2ff"
      },
      "outputs": [
        {
          "output_type": "execute_result",
          "data": {
            "text/plain": [
              "300"
            ]
          },
          "metadata": {},
          "execution_count": 19
        }
      ],
      "source": [
        "len(cv.get_feature_names_out())"
      ]
    },
    {
      "cell_type": "code",
      "execution_count": 20,
      "id": "2c766321",
      "metadata": {
        "id": "2c766321"
      },
      "outputs": [],
      "source": [
        "# Import the nltk library\n",
        "import nltk\n",
        "\n",
        "# Import the PorterStemmer from nltk\n",
        "from nltk.stem.porter import PorterStemmer\n",
        "\n",
        "# Create an instance of the PorterStemmer\n",
        "ps = PorterStemmer()"
      ]
    },
    {
      "cell_type": "code",
      "execution_count": 21,
      "id": "9ecefcb3",
      "metadata": {
        "id": "9ecefcb3"
      },
      "outputs": [],
      "source": [
        "# Define a function to stem words in a given text\n",
        "def stem(text):\n",
        "    y = []\n",
        "    # Loop through words in the text and apply stemming\n",
        "    for word in text.split():\n",
        "        y.append(ps.stem(word))\n",
        "    # Join the stemmed words into a single string\n",
        "    return \" \".join(y)"
      ]
    },
    {
      "cell_type": "code",
      "execution_count": 22,
      "id": "4ecc0c1d",
      "metadata": {
        "colab": {
          "base_uri": "https://localhost:8080/"
        },
        "id": "4ecc0c1d",
        "outputId": "55063c86-9434-487a-b744-e5a5fcfe78c3"
      },
      "outputs": [
        {
          "output_type": "execute_result",
          "data": {
            "text/plain": [
              "0                                                                               men' poli cotton digit print stitch half sleev shirt green men' cloth shirt\n",
              "1             kuber industri metal print 6 piec non woven fabric sare cover set with transpar window, extra large, green & re... home & kitchen home storag\n",
              "2                                               aon silicon belt watch strap compat for huami amazfit gtr 2 smartwatch band green kids' fashion kids' watch\n",
              "3                                                       spotzero by milton dustpan set with brush (aqua green), pack of 2 home & kitchen all home & kitchen\n",
              "4                                                 real product caboki hair build fiber is absolut natur & unnotic black 25gm beauti & health beauti & groom\n",
              "                                                                               ...                                                                         \n",
              "2776          rr associ vegan pu leather with tpr sole men casual oxford shoes/boot lace up oxford shoe for office|meetings|daily|... men' shoe casual shoe\n",
              "2777                                   homemad organ fertil organ & natur plant nutrient cow manure, vermicompost fertil (10 kg) home & kitchen home storag\n",
              "2778    kuber industri dark green sun shade sail squar canopi - permeabl uv block fabric durabl outdoor-10 x 4 ft. (green) (... home & kitchen indoor light\n",
              "2779                    digit hygromet indoor and humid gaug meter with lcd display for home bedroom offic greenhous huaishu industri suppli lab & scientif\n",
              "2780      urban platter sunflow lecithin powder, 200g (emulsifi | thicken | stabilis | natur food addit | add to baker... groceri & gourmet food snack food\n",
              "Name: tags, Length: 2781, dtype: object"
            ]
          },
          "metadata": {},
          "execution_count": 22
        }
      ],
      "source": [
        "dataset2['tags'].apply(stem)"
      ]
    },
    {
      "cell_type": "code",
      "execution_count": 23,
      "id": "946da9f8",
      "metadata": {
        "colab": {
          "base_uri": "https://localhost:8080/"
        },
        "id": "946da9f8",
        "outputId": "3c619e04-03fe-4c0a-93c1-067b0e39ba92"
      },
      "outputs": [
        {
          "output_type": "execute_result",
          "data": {
            "text/plain": [
              "array([[1.        , 0.16116459, 0.0805823 , ..., 0.1672484 , 0.10660036,\n",
              "        0.        ],\n",
              "       [0.16116459, 1.        , 0.07142857, ..., 0.44474959, 0.18898224,\n",
              "        0.        ],\n",
              "       [0.0805823 , 0.07142857, 1.        , ..., 0.14824986, 0.        ,\n",
              "        0.        ],\n",
              "       ...,\n",
              "       [0.1672484 , 0.44474959, 0.14824986, ..., 1.        , 0.19611614,\n",
              "        0.        ],\n",
              "       [0.10660036, 0.18898224, 0.        , ..., 0.19611614, 1.        ,\n",
              "        0.        ],\n",
              "       [0.        , 0.        , 0.        , ..., 0.        , 0.        ,\n",
              "        1.        ]])"
            ]
          },
          "metadata": {},
          "execution_count": 23
        }
      ],
      "source": [
        "# Import the cosine_similarity function from scikit-learn\n",
        "from sklearn.metrics.pairwise import cosine_similarity\n",
        "\n",
        "# Calculate the cosine similarity between feature vectors\n",
        "similarity = cosine_similarity(vector)\n",
        "\n",
        "# Display the similarity matrix\n",
        "similarity"
      ]
    },
    {
      "cell_type": "code",
      "execution_count": 24,
      "id": "94839f9a",
      "metadata": {
        "colab": {
          "base_uri": "https://localhost:8080/"
        },
        "id": "94839f9a",
        "outputId": "def026bc-710f-40d3-c454-a7f40e1dbce4"
      },
      "outputs": [
        {
          "output_type": "execute_result",
          "data": {
            "text/plain": [
              "(2781, 2781)"
            ]
          },
          "metadata": {},
          "execution_count": 24
        }
      ],
      "source": [
        "similarity.shape"
      ]
    },
    {
      "cell_type": "code",
      "execution_count": 25,
      "id": "02be33da",
      "metadata": {
        "colab": {
          "base_uri": "https://localhost:8080/",
          "height": 1000
        },
        "id": "02be33da",
        "outputId": "afe7d5e2-8fb9-43b0-c004-77e5a5748eb0"
      },
      "outputs": [
        {
          "output_type": "execute_result",
          "data": {
            "text/plain": [
              "                                                                                                                               name  \\\n",
              "0                                                                Men's Poly Cotton Digital Printed Stitched Half Sleeve Shirt Green   \n",
              "1     Kuber Industries Metalic Printed 6 Piece Non Woven Fabric Saree Cover Set with Transparent Window, Extra Large, Green & Re...   \n",
              "2                                          AONES Silicone Belt Watch Strap Compatible for Huami Amazfit Gtr 2 Smartwatch Band Green   \n",
              "3                                                                 Spotzero By Milton Dustpan Set with Brush (Aqua Green), Pack of 2   \n",
              "4                                          Real Products Caboki Hair building fiber is absolutely natural & unnoticeable Black 25gm   \n",
              "...                                                                                                                             ...   \n",
              "2776  RR Associates Vegan PU Leather with TPR Sole Men Casual Oxford Shoes/Boots Lace Up Oxford Shoes for Office|Meetings|Daily|...   \n",
              "2777                       Homemade Organic Fertilizer Organic & Natural Plant Nutrient Cow Manure, Vermicompost Fertilizer (10 kg)   \n",
              "2778   Kuber Industries Dark Green Sun Shade Sail Square Canopy - Permeable UV Block Fabric Durable Outdoor-10 x 4 ft. (Green) (...   \n",
              "2779                 Digital Hygrometer Indoor and Humidity Gauge Meter with LCD Display for Home Bedroom Office Greenhouse Huaishu   \n",
              "2780   Urban Platter Sunflower Lecithin Powder, 200g (Emulsifier | Thickener | Stabiliser | Natural Food Additive | Add to baker...   \n",
              "\n",
              "                                                                                                 image  \\\n",
              "0                                       https://m.media-amazon.com/images/I/41cF4S+uDtL._AC_UL320_.jpg   \n",
              "1     https://m.media-amazon.com/images/W/IMAGERENDERING_521856-T2/images/I/812MYkWRj-L._AC_UL320_.jpg   \n",
              "2     https://m.media-amazon.com/images/W/IMAGERENDERING_521856-T1/images/I/41TDcAeM9XL._AC_UL320_.jpg   \n",
              "3                                       https://m.media-amazon.com/images/I/51Nl0WP5pfL._AC_UL320_.jpg   \n",
              "4                                       https://m.media-amazon.com/images/I/41yyWFQX6kL._AC_UL320_.jpg   \n",
              "...                                                                                                ...   \n",
              "2776                                    https://m.media-amazon.com/images/I/21fcLrWohhL._AC_UL320_.jpg   \n",
              "2777                                    https://m.media-amazon.com/images/I/51rMy2N6rHL._AC_UL320_.jpg   \n",
              "2778  https://m.media-amazon.com/images/W/IMAGERENDERING_521856-T1/images/I/71vM3-whZGL._AC_UL320_.jpg   \n",
              "2779  https://m.media-amazon.com/images/W/IMAGERENDERING_521856-T2/images/I/61uwLeWevUS._AC_UL320_.jpg   \n",
              "2780                                    https://m.media-amazon.com/images/I/71jPj1fJm1L._AC_UL320_.jpg   \n",
              "\n",
              "                                                                                                                                         url  \\\n",
              "0              https://www.amazon.in/Cotton-Digital-Printed-Stitched-Sleeve/dp/B0BFNCF5R2/ref=sr_1_15013?qid=1679141447&s=apparel&sr=1-15013   \n",
              "1       https://www.amazon.in/Kuber-Industries-Metalic-Transparent-CTKTC40882/dp/B084J17RN6/ref=sr_1_9312?qid=1679213938&s=kitchen&sr=1-9312   \n",
              "2        https://www.amazon.in/AONES-Silicone-Compatible-Amazfit-Smartwatch/dp/B0BPF25RSR/ref=sr_1_12903?qid=1679221185&s=watches&sr=1-12903   \n",
              "3                   https://www.amazon.in/Spotzero-Milton-dustpan-brush-Green/dp/B07HGM8DNN/ref=sr_1_1476?qid=1679214476&s=kitchen&sr=1-1476   \n",
              "4      https://www.amazon.in/Caboki-building-absolutely-natural-unnoticeable/dp/B0B3X4Z1PL/ref=sr_1_11620?qid=1679215042&s=beauty&sr=1-11620   \n",
              "...                                                                                                                                      ...   \n",
              "2776     https://www.amazon.in/Associates-Artificial-Leather-Casual-Numeric_7/dp/B0BQZ73123/ref=sr_1_16165?qid=1679149214&s=shoes&sr=1-16165   \n",
              "2777    https://www.amazon.in/Homemade-Vermicompost-Fertilizer-Organic-Nutrient/dp/B07DTMBH5M/ref=sr_1_216?qid=1679213773&s=kitchen&sr=1-216   \n",
              "2778                 https://www.amazon.in/Kuber-Industries-Green-Square-Canopy/dp/B08WJ9YFLW/ref=sr_1_434?qid=1679213952&s=kitchen&sr=1-434   \n",
              "2779  https://www.amazon.in/Digital-Hygrometer-Humidity-Greenhouse-Huaishu/dp/B0BQMB4RZ2/ref=sr_1_8612?qid=1679223286&s=industrial&sr=1-8612   \n",
              "2780              https://www.amazon.in/Urban-Platter-Sunflower-Lecithin-200g/dp/B075D955X8/ref=sr_1_4162?qid=1679216570&s=grocery&sr=1-4162   \n",
              "\n",
              "                   ratings no_of_ratings  \\\n",
              "0     No ratings available             0   \n",
              "1                      4.6             4   \n",
              "2     No ratings available             0   \n",
              "3                      4.6         1,420   \n",
              "4                      3.2             3   \n",
              "...                    ...           ...   \n",
              "2776  No ratings available             0   \n",
              "2777                   3.3         1,714   \n",
              "2778                   3.8           227   \n",
              "2779  No ratings available             0   \n",
              "2780                   4.0            39   \n",
              "\n",
              "                                                                                                                                                                  tags  \\\n",
              "0                                                                             Men's Poly Cotton Digital Printed Stitched Half Sleeve Shirt Green men's clothing Shirts   \n",
              "1            Kuber Industries Metalic Printed 6 Piece Non Woven Fabric Saree Cover Set with Transparent Window, Extra Large, Green & Re... home & kitchen Home Storage   \n",
              "2                                                 AONES Silicone Belt Watch Strap Compatible for Huami Amazfit Gtr 2 Smartwatch Band Green kids' fashion Kids' Watches   \n",
              "3                                                                  Spotzero By Milton Dustpan Set with Brush (Aqua Green), Pack of 2 home & kitchen All Home & Kitchen   \n",
              "4                                           Real Products Caboki Hair building fiber is absolutely natural & unnoticeable Black 25gm beauty & health Beauty & Grooming   \n",
              "...                                                                                                                                                                ...   \n",
              "2776            RR Associates Vegan PU Leather with TPR Sole Men Casual Oxford Shoes/Boots Lace Up Oxford Shoes for Office|Meetings|Daily|... men's shoes Casual Shoes   \n",
              "2777                              Homemade Organic Fertilizer Organic & Natural Plant Nutrient Cow Manure, Vermicompost Fertilizer (10 kg) home & kitchen Home Storage   \n",
              "2778       Kuber Industries Dark Green Sun Shade Sail Square Canopy - Permeable UV Block Fabric Durable Outdoor-10 x 4 ft. (Green) (... home & kitchen Indoor Lighting   \n",
              "2779               Digital Hygrometer Indoor and Humidity Gauge Meter with LCD Display for Home Bedroom Office Greenhouse Huaishu industrial supplies Lab & Scientific   \n",
              "2780  Urban Platter Sunflower Lecithin Powder, 200g (Emulsifier | Thickener | Stabiliser | Natural Food Additive | Add to baker... grocery & gourmet foods Snack Foods   \n",
              "\n",
              "                              Classification  \n",
              "0                    Men's clothing : Shirts  \n",
              "1              Home & kitchen : Home Storage  \n",
              "2              Kids' fashion : Kids' Watches  \n",
              "3        Home & kitchen : All Home & Kitchen  \n",
              "4        Beauty & health : Beauty & Grooming  \n",
              "...                                      ...  \n",
              "2776              Men's shoes : Casual Shoes  \n",
              "2777           Home & kitchen : Home Storage  \n",
              "2778        Home & kitchen : Indoor Lighting  \n",
              "2779  Industrial supplies : Lab & Scientific  \n",
              "2780   Grocery & gourmet foods : Snack Foods  \n",
              "\n",
              "[2781 rows x 7 columns]"
            ],
            "text/html": [
              "\n",
              "  <div id=\"df-30e66a8f-5d82-4eb7-bd7b-82be7f10db79\" class=\"colab-df-container\">\n",
              "    <div>\n",
              "<style scoped>\n",
              "    .dataframe tbody tr th:only-of-type {\n",
              "        vertical-align: middle;\n",
              "    }\n",
              "\n",
              "    .dataframe tbody tr th {\n",
              "        vertical-align: top;\n",
              "    }\n",
              "\n",
              "    .dataframe thead th {\n",
              "        text-align: right;\n",
              "    }\n",
              "</style>\n",
              "<table border=\"1\" class=\"dataframe\">\n",
              "  <thead>\n",
              "    <tr style=\"text-align: right;\">\n",
              "      <th></th>\n",
              "      <th>name</th>\n",
              "      <th>image</th>\n",
              "      <th>url</th>\n",
              "      <th>ratings</th>\n",
              "      <th>no_of_ratings</th>\n",
              "      <th>tags</th>\n",
              "      <th>Classification</th>\n",
              "    </tr>\n",
              "  </thead>\n",
              "  <tbody>\n",
              "    <tr>\n",
              "      <th>0</th>\n",
              "      <td>Men's Poly Cotton Digital Printed Stitched Half Sleeve Shirt Green</td>\n",
              "      <td>https://m.media-amazon.com/images/I/41cF4S+uDtL._AC_UL320_.jpg</td>\n",
              "      <td>https://www.amazon.in/Cotton-Digital-Printed-Stitched-Sleeve/dp/B0BFNCF5R2/ref=sr_1_15013?qid=1679141447&amp;s=apparel&amp;sr=1-15013</td>\n",
              "      <td>No ratings available</td>\n",
              "      <td>0</td>\n",
              "      <td>Men's Poly Cotton Digital Printed Stitched Half Sleeve Shirt Green men's clothing Shirts</td>\n",
              "      <td>Men's clothing : Shirts</td>\n",
              "    </tr>\n",
              "    <tr>\n",
              "      <th>1</th>\n",
              "      <td>Kuber Industries Metalic Printed 6 Piece Non Woven Fabric Saree Cover Set with Transparent Window, Extra Large, Green &amp; Re...</td>\n",
              "      <td>https://m.media-amazon.com/images/W/IMAGERENDERING_521856-T2/images/I/812MYkWRj-L._AC_UL320_.jpg</td>\n",
              "      <td>https://www.amazon.in/Kuber-Industries-Metalic-Transparent-CTKTC40882/dp/B084J17RN6/ref=sr_1_9312?qid=1679213938&amp;s=kitchen&amp;sr=1-9312</td>\n",
              "      <td>4.6</td>\n",
              "      <td>4</td>\n",
              "      <td>Kuber Industries Metalic Printed 6 Piece Non Woven Fabric Saree Cover Set with Transparent Window, Extra Large, Green &amp; Re... home &amp; kitchen Home Storage</td>\n",
              "      <td>Home &amp; kitchen : Home Storage</td>\n",
              "    </tr>\n",
              "    <tr>\n",
              "      <th>2</th>\n",
              "      <td>AONES Silicone Belt Watch Strap Compatible for Huami Amazfit Gtr 2 Smartwatch Band Green</td>\n",
              "      <td>https://m.media-amazon.com/images/W/IMAGERENDERING_521856-T1/images/I/41TDcAeM9XL._AC_UL320_.jpg</td>\n",
              "      <td>https://www.amazon.in/AONES-Silicone-Compatible-Amazfit-Smartwatch/dp/B0BPF25RSR/ref=sr_1_12903?qid=1679221185&amp;s=watches&amp;sr=1-12903</td>\n",
              "      <td>No ratings available</td>\n",
              "      <td>0</td>\n",
              "      <td>AONES Silicone Belt Watch Strap Compatible for Huami Amazfit Gtr 2 Smartwatch Band Green kids' fashion Kids' Watches</td>\n",
              "      <td>Kids' fashion : Kids' Watches</td>\n",
              "    </tr>\n",
              "    <tr>\n",
              "      <th>3</th>\n",
              "      <td>Spotzero By Milton Dustpan Set with Brush (Aqua Green), Pack of 2</td>\n",
              "      <td>https://m.media-amazon.com/images/I/51Nl0WP5pfL._AC_UL320_.jpg</td>\n",
              "      <td>https://www.amazon.in/Spotzero-Milton-dustpan-brush-Green/dp/B07HGM8DNN/ref=sr_1_1476?qid=1679214476&amp;s=kitchen&amp;sr=1-1476</td>\n",
              "      <td>4.6</td>\n",
              "      <td>1,420</td>\n",
              "      <td>Spotzero By Milton Dustpan Set with Brush (Aqua Green), Pack of 2 home &amp; kitchen All Home &amp; Kitchen</td>\n",
              "      <td>Home &amp; kitchen : All Home &amp; Kitchen</td>\n",
              "    </tr>\n",
              "    <tr>\n",
              "      <th>4</th>\n",
              "      <td>Real Products Caboki Hair building fiber is absolutely natural &amp; unnoticeable Black 25gm</td>\n",
              "      <td>https://m.media-amazon.com/images/I/41yyWFQX6kL._AC_UL320_.jpg</td>\n",
              "      <td>https://www.amazon.in/Caboki-building-absolutely-natural-unnoticeable/dp/B0B3X4Z1PL/ref=sr_1_11620?qid=1679215042&amp;s=beauty&amp;sr=1-11620</td>\n",
              "      <td>3.2</td>\n",
              "      <td>3</td>\n",
              "      <td>Real Products Caboki Hair building fiber is absolutely natural &amp; unnoticeable Black 25gm beauty &amp; health Beauty &amp; Grooming</td>\n",
              "      <td>Beauty &amp; health : Beauty &amp; Grooming</td>\n",
              "    </tr>\n",
              "    <tr>\n",
              "      <th>...</th>\n",
              "      <td>...</td>\n",
              "      <td>...</td>\n",
              "      <td>...</td>\n",
              "      <td>...</td>\n",
              "      <td>...</td>\n",
              "      <td>...</td>\n",
              "      <td>...</td>\n",
              "    </tr>\n",
              "    <tr>\n",
              "      <th>2776</th>\n",
              "      <td>RR Associates Vegan PU Leather with TPR Sole Men Casual Oxford Shoes/Boots Lace Up Oxford Shoes for Office|Meetings|Daily|...</td>\n",
              "      <td>https://m.media-amazon.com/images/I/21fcLrWohhL._AC_UL320_.jpg</td>\n",
              "      <td>https://www.amazon.in/Associates-Artificial-Leather-Casual-Numeric_7/dp/B0BQZ73123/ref=sr_1_16165?qid=1679149214&amp;s=shoes&amp;sr=1-16165</td>\n",
              "      <td>No ratings available</td>\n",
              "      <td>0</td>\n",
              "      <td>RR Associates Vegan PU Leather with TPR Sole Men Casual Oxford Shoes/Boots Lace Up Oxford Shoes for Office|Meetings|Daily|... men's shoes Casual Shoes</td>\n",
              "      <td>Men's shoes : Casual Shoes</td>\n",
              "    </tr>\n",
              "    <tr>\n",
              "      <th>2777</th>\n",
              "      <td>Homemade Organic Fertilizer Organic &amp; Natural Plant Nutrient Cow Manure, Vermicompost Fertilizer (10 kg)</td>\n",
              "      <td>https://m.media-amazon.com/images/I/51rMy2N6rHL._AC_UL320_.jpg</td>\n",
              "      <td>https://www.amazon.in/Homemade-Vermicompost-Fertilizer-Organic-Nutrient/dp/B07DTMBH5M/ref=sr_1_216?qid=1679213773&amp;s=kitchen&amp;sr=1-216</td>\n",
              "      <td>3.3</td>\n",
              "      <td>1,714</td>\n",
              "      <td>Homemade Organic Fertilizer Organic &amp; Natural Plant Nutrient Cow Manure, Vermicompost Fertilizer (10 kg) home &amp; kitchen Home Storage</td>\n",
              "      <td>Home &amp; kitchen : Home Storage</td>\n",
              "    </tr>\n",
              "    <tr>\n",
              "      <th>2778</th>\n",
              "      <td>Kuber Industries Dark Green Sun Shade Sail Square Canopy - Permeable UV Block Fabric Durable Outdoor-10 x 4 ft. (Green) (...</td>\n",
              "      <td>https://m.media-amazon.com/images/W/IMAGERENDERING_521856-T1/images/I/71vM3-whZGL._AC_UL320_.jpg</td>\n",
              "      <td>https://www.amazon.in/Kuber-Industries-Green-Square-Canopy/dp/B08WJ9YFLW/ref=sr_1_434?qid=1679213952&amp;s=kitchen&amp;sr=1-434</td>\n",
              "      <td>3.8</td>\n",
              "      <td>227</td>\n",
              "      <td>Kuber Industries Dark Green Sun Shade Sail Square Canopy - Permeable UV Block Fabric Durable Outdoor-10 x 4 ft. (Green) (... home &amp; kitchen Indoor Lighting</td>\n",
              "      <td>Home &amp; kitchen : Indoor Lighting</td>\n",
              "    </tr>\n",
              "    <tr>\n",
              "      <th>2779</th>\n",
              "      <td>Digital Hygrometer Indoor and Humidity Gauge Meter with LCD Display for Home Bedroom Office Greenhouse Huaishu</td>\n",
              "      <td>https://m.media-amazon.com/images/W/IMAGERENDERING_521856-T2/images/I/61uwLeWevUS._AC_UL320_.jpg</td>\n",
              "      <td>https://www.amazon.in/Digital-Hygrometer-Humidity-Greenhouse-Huaishu/dp/B0BQMB4RZ2/ref=sr_1_8612?qid=1679223286&amp;s=industrial&amp;sr=1-8612</td>\n",
              "      <td>No ratings available</td>\n",
              "      <td>0</td>\n",
              "      <td>Digital Hygrometer Indoor and Humidity Gauge Meter with LCD Display for Home Bedroom Office Greenhouse Huaishu industrial supplies Lab &amp; Scientific</td>\n",
              "      <td>Industrial supplies : Lab &amp; Scientific</td>\n",
              "    </tr>\n",
              "    <tr>\n",
              "      <th>2780</th>\n",
              "      <td>Urban Platter Sunflower Lecithin Powder, 200g (Emulsifier | Thickener | Stabiliser | Natural Food Additive | Add to baker...</td>\n",
              "      <td>https://m.media-amazon.com/images/I/71jPj1fJm1L._AC_UL320_.jpg</td>\n",
              "      <td>https://www.amazon.in/Urban-Platter-Sunflower-Lecithin-200g/dp/B075D955X8/ref=sr_1_4162?qid=1679216570&amp;s=grocery&amp;sr=1-4162</td>\n",
              "      <td>4.0</td>\n",
              "      <td>39</td>\n",
              "      <td>Urban Platter Sunflower Lecithin Powder, 200g (Emulsifier | Thickener | Stabiliser | Natural Food Additive | Add to baker... grocery &amp; gourmet foods Snack Foods</td>\n",
              "      <td>Grocery &amp; gourmet foods : Snack Foods</td>\n",
              "    </tr>\n",
              "  </tbody>\n",
              "</table>\n",
              "<p>2781 rows × 7 columns</p>\n",
              "</div>\n",
              "    <div class=\"colab-df-buttons\">\n",
              "\n",
              "  <div class=\"colab-df-container\">\n",
              "    <button class=\"colab-df-convert\" onclick=\"convertToInteractive('df-30e66a8f-5d82-4eb7-bd7b-82be7f10db79')\"\n",
              "            title=\"Convert this dataframe to an interactive table.\"\n",
              "            style=\"display:none;\">\n",
              "\n",
              "  <svg xmlns=\"http://www.w3.org/2000/svg\" height=\"24px\" viewBox=\"0 -960 960 960\">\n",
              "    <path d=\"M120-120v-720h720v720H120Zm60-500h600v-160H180v160Zm220 220h160v-160H400v160Zm0 220h160v-160H400v160ZM180-400h160v-160H180v160Zm440 0h160v-160H620v160ZM180-180h160v-160H180v160Zm440 0h160v-160H620v160Z\"/>\n",
              "  </svg>\n",
              "    </button>\n",
              "\n",
              "  <style>\n",
              "    .colab-df-container {\n",
              "      display:flex;\n",
              "      gap: 12px;\n",
              "    }\n",
              "\n",
              "    .colab-df-convert {\n",
              "      background-color: #E8F0FE;\n",
              "      border: none;\n",
              "      border-radius: 50%;\n",
              "      cursor: pointer;\n",
              "      display: none;\n",
              "      fill: #1967D2;\n",
              "      height: 32px;\n",
              "      padding: 0 0 0 0;\n",
              "      width: 32px;\n",
              "    }\n",
              "\n",
              "    .colab-df-convert:hover {\n",
              "      background-color: #E2EBFA;\n",
              "      box-shadow: 0px 1px 2px rgba(60, 64, 67, 0.3), 0px 1px 3px 1px rgba(60, 64, 67, 0.15);\n",
              "      fill: #174EA6;\n",
              "    }\n",
              "\n",
              "    .colab-df-buttons div {\n",
              "      margin-bottom: 4px;\n",
              "    }\n",
              "\n",
              "    [theme=dark] .colab-df-convert {\n",
              "      background-color: #3B4455;\n",
              "      fill: #D2E3FC;\n",
              "    }\n",
              "\n",
              "    [theme=dark] .colab-df-convert:hover {\n",
              "      background-color: #434B5C;\n",
              "      box-shadow: 0px 1px 3px 1px rgba(0, 0, 0, 0.15);\n",
              "      filter: drop-shadow(0px 1px 2px rgba(0, 0, 0, 0.3));\n",
              "      fill: #FFFFFF;\n",
              "    }\n",
              "  </style>\n",
              "\n",
              "    <script>\n",
              "      const buttonEl =\n",
              "        document.querySelector('#df-30e66a8f-5d82-4eb7-bd7b-82be7f10db79 button.colab-df-convert');\n",
              "      buttonEl.style.display =\n",
              "        google.colab.kernel.accessAllowed ? 'block' : 'none';\n",
              "\n",
              "      async function convertToInteractive(key) {\n",
              "        const element = document.querySelector('#df-30e66a8f-5d82-4eb7-bd7b-82be7f10db79');\n",
              "        const dataTable =\n",
              "          await google.colab.kernel.invokeFunction('convertToInteractive',\n",
              "                                                    [key], {});\n",
              "        if (!dataTable) return;\n",
              "\n",
              "        const docLinkHtml = 'Like what you see? Visit the ' +\n",
              "          '<a target=\"_blank\" href=https://colab.research.google.com/notebooks/data_table.ipynb>data table notebook</a>'\n",
              "          + ' to learn more about interactive tables.';\n",
              "        element.innerHTML = '';\n",
              "        dataTable['output_type'] = 'display_data';\n",
              "        await google.colab.output.renderOutput(dataTable, element);\n",
              "        const docLink = document.createElement('div');\n",
              "        docLink.innerHTML = docLinkHtml;\n",
              "        element.appendChild(docLink);\n",
              "      }\n",
              "    </script>\n",
              "  </div>\n",
              "\n",
              "\n",
              "<div id=\"df-02054627-9564-44f4-9bd5-031dc47f02fc\">\n",
              "  <button class=\"colab-df-quickchart\" onclick=\"quickchart('df-02054627-9564-44f4-9bd5-031dc47f02fc')\"\n",
              "            title=\"Suggest charts.\"\n",
              "            style=\"display:none;\">\n",
              "\n",
              "<svg xmlns=\"http://www.w3.org/2000/svg\" height=\"24px\"viewBox=\"0 0 24 24\"\n",
              "     width=\"24px\">\n",
              "    <g>\n",
              "        <path d=\"M19 3H5c-1.1 0-2 .9-2 2v14c0 1.1.9 2 2 2h14c1.1 0 2-.9 2-2V5c0-1.1-.9-2-2-2zM9 17H7v-7h2v7zm4 0h-2V7h2v10zm4 0h-2v-4h2v4z\"/>\n",
              "    </g>\n",
              "</svg>\n",
              "  </button>\n",
              "\n",
              "<style>\n",
              "  .colab-df-quickchart {\n",
              "      --bg-color: #E8F0FE;\n",
              "      --fill-color: #1967D2;\n",
              "      --hover-bg-color: #E2EBFA;\n",
              "      --hover-fill-color: #174EA6;\n",
              "      --disabled-fill-color: #AAA;\n",
              "      --disabled-bg-color: #DDD;\n",
              "  }\n",
              "\n",
              "  [theme=dark] .colab-df-quickchart {\n",
              "      --bg-color: #3B4455;\n",
              "      --fill-color: #D2E3FC;\n",
              "      --hover-bg-color: #434B5C;\n",
              "      --hover-fill-color: #FFFFFF;\n",
              "      --disabled-bg-color: #3B4455;\n",
              "      --disabled-fill-color: #666;\n",
              "  }\n",
              "\n",
              "  .colab-df-quickchart {\n",
              "    background-color: var(--bg-color);\n",
              "    border: none;\n",
              "    border-radius: 50%;\n",
              "    cursor: pointer;\n",
              "    display: none;\n",
              "    fill: var(--fill-color);\n",
              "    height: 32px;\n",
              "    padding: 0;\n",
              "    width: 32px;\n",
              "  }\n",
              "\n",
              "  .colab-df-quickchart:hover {\n",
              "    background-color: var(--hover-bg-color);\n",
              "    box-shadow: 0 1px 2px rgba(60, 64, 67, 0.3), 0 1px 3px 1px rgba(60, 64, 67, 0.15);\n",
              "    fill: var(--button-hover-fill-color);\n",
              "  }\n",
              "\n",
              "  .colab-df-quickchart-complete:disabled,\n",
              "  .colab-df-quickchart-complete:disabled:hover {\n",
              "    background-color: var(--disabled-bg-color);\n",
              "    fill: var(--disabled-fill-color);\n",
              "    box-shadow: none;\n",
              "  }\n",
              "\n",
              "  .colab-df-spinner {\n",
              "    border: 2px solid var(--fill-color);\n",
              "    border-color: transparent;\n",
              "    border-bottom-color: var(--fill-color);\n",
              "    animation:\n",
              "      spin 1s steps(1) infinite;\n",
              "  }\n",
              "\n",
              "  @keyframes spin {\n",
              "    0% {\n",
              "      border-color: transparent;\n",
              "      border-bottom-color: var(--fill-color);\n",
              "      border-left-color: var(--fill-color);\n",
              "    }\n",
              "    20% {\n",
              "      border-color: transparent;\n",
              "      border-left-color: var(--fill-color);\n",
              "      border-top-color: var(--fill-color);\n",
              "    }\n",
              "    30% {\n",
              "      border-color: transparent;\n",
              "      border-left-color: var(--fill-color);\n",
              "      border-top-color: var(--fill-color);\n",
              "      border-right-color: var(--fill-color);\n",
              "    }\n",
              "    40% {\n",
              "      border-color: transparent;\n",
              "      border-right-color: var(--fill-color);\n",
              "      border-top-color: var(--fill-color);\n",
              "    }\n",
              "    60% {\n",
              "      border-color: transparent;\n",
              "      border-right-color: var(--fill-color);\n",
              "    }\n",
              "    80% {\n",
              "      border-color: transparent;\n",
              "      border-right-color: var(--fill-color);\n",
              "      border-bottom-color: var(--fill-color);\n",
              "    }\n",
              "    90% {\n",
              "      border-color: transparent;\n",
              "      border-bottom-color: var(--fill-color);\n",
              "    }\n",
              "  }\n",
              "</style>\n",
              "\n",
              "  <script>\n",
              "    async function quickchart(key) {\n",
              "      const quickchartButtonEl =\n",
              "        document.querySelector('#' + key + ' button');\n",
              "      quickchartButtonEl.disabled = true;  // To prevent multiple clicks.\n",
              "      quickchartButtonEl.classList.add('colab-df-spinner');\n",
              "      try {\n",
              "        const charts = await google.colab.kernel.invokeFunction(\n",
              "            'suggestCharts', [key], {});\n",
              "      } catch (error) {\n",
              "        console.error('Error during call to suggestCharts:', error);\n",
              "      }\n",
              "      quickchartButtonEl.classList.remove('colab-df-spinner');\n",
              "      quickchartButtonEl.classList.add('colab-df-quickchart-complete');\n",
              "    }\n",
              "    (() => {\n",
              "      let quickchartButtonEl =\n",
              "        document.querySelector('#df-02054627-9564-44f4-9bd5-031dc47f02fc button');\n",
              "      quickchartButtonEl.style.display =\n",
              "        google.colab.kernel.accessAllowed ? 'block' : 'none';\n",
              "    })();\n",
              "  </script>\n",
              "</div>\n",
              "    </div>\n",
              "  </div>\n"
            ]
          },
          "metadata": {},
          "execution_count": 25
        }
      ],
      "source": [
        "dataset2"
      ]
    },
    {
      "cell_type": "code",
      "execution_count": 26,
      "id": "22b70a49",
      "metadata": {
        "id": "22b70a49"
      },
      "outputs": [],
      "source": [
        "# # Find the index of the product 'USHA RapidMix 500-Watt Copper Motor Mixer Grinder with 3 Jars and 5 Years Warranty(Sea Green/White)' in the filtered dataset\n",
        "# product_index = dataset2[dataset2['name'] == 'SSKR Pure and Natural Laal Kumkum Sindoor Roli for Tilak and Puja (100 gm)\t'].index[0]\n",
        "\n",
        "# # Calculate the cosine similarity distances between the specified product and others\n",
        "# distances = similarity[product_index]\n",
        "\n",
        "# # Sort and retrieve the top 5 similar products as a list of tuples\n",
        "# product_list = sorted(list(enumerate(distances)), reverse=True, key=lambda x: x[1])[1:6]\n",
        "\n",
        "# # Display the list of similar products\n",
        "# product_list\n",
        "\n",
        "# # Get the name of the product at index 44 in the filtered dataset\n",
        "# dataset2.get('name')[44]"
      ]
    },
    {
      "cell_type": "code",
      "execution_count": 27,
      "id": "f764b1d4",
      "metadata": {
        "id": "f764b1d4"
      },
      "outputs": [],
      "source": [
        "# Define a function to recommend similar products based on a given product name\n",
        "def recommend(product):\n",
        "    # Find the index of the given product in the filtered dataset\n",
        "    product_index = dataset2[dataset2['name'] == product].index[0]\n",
        "\n",
        "    # Calculate the cosine similarity distances between the specified product and others\n",
        "    distances = similarity[product_index]\n",
        "\n",
        "    # Sort and retrieve the top 5 similar products as a list of tuples\n",
        "    product_list = sorted(list(enumerate(distances)), reverse=True, key=lambda x: x[1])[1:6]\n",
        "\n",
        "    # Print the names of the recommended products\n",
        "    for i in product_list:\n",
        "        print(dataset2.get('name')[i[0]])"
      ]
    },
    {
      "cell_type": "code",
      "source": [
        "dataset2.shape"
      ],
      "metadata": {
        "colab": {
          "base_uri": "https://localhost:8080/"
        },
        "id": "tMKF0ycTnDcs",
        "outputId": "3a35cb67-7c81-4560-a153-526b322b4ee9"
      },
      "id": "tMKF0ycTnDcs",
      "execution_count": 29,
      "outputs": [
        {
          "output_type": "execute_result",
          "data": {
            "text/plain": [
              "(2781, 7)"
            ]
          },
          "metadata": {},
          "execution_count": 29
        }
      ]
    },
    {
      "cell_type": "code",
      "source": [
        "dataset2.info()"
      ],
      "metadata": {
        "colab": {
          "base_uri": "https://localhost:8080/"
        },
        "id": "D_2e3gu9OKqR",
        "outputId": "e6617bc6-ac63-4fdc-e4ce-c4cac483d288"
      },
      "id": "D_2e3gu9OKqR",
      "execution_count": 30,
      "outputs": [
        {
          "output_type": "stream",
          "name": "stdout",
          "text": [
            "<class 'pandas.core.frame.DataFrame'>\n",
            "RangeIndex: 2781 entries, 0 to 2780\n",
            "Data columns (total 7 columns):\n",
            " #   Column          Non-Null Count  Dtype \n",
            "---  ------          --------------  ----- \n",
            " 0   name            2781 non-null   object\n",
            " 1   image           2781 non-null   object\n",
            " 2   url             2781 non-null   object\n",
            " 3   ratings         2781 non-null   object\n",
            " 4   no_of_ratings   2781 non-null   object\n",
            " 5   tags            2781 non-null   object\n",
            " 6   Classification  2781 non-null   object\n",
            "dtypes: object(7)\n",
            "memory usage: 152.2+ KB\n"
          ]
        }
      ]
    },
    {
      "cell_type": "code",
      "execution_count": 31,
      "id": "f1265924",
      "metadata": {
        "id": "f1265924"
      },
      "outputs": [],
      "source": [
        "# Import the pickle module\n",
        "import pickle\n",
        "\n",
        "# Serialize and save the dataset as a dictionary to a binary file\n",
        "pickle.dump(dataset2.to_dict(), open('products2.pkl', 'wb'))"
      ]
    }
  ],
  "metadata": {
    "kernelspec": {
      "display_name": "Python 3 (ipykernel)",
      "language": "python",
      "name": "python3"
    },
    "language_info": {
      "codemirror_mode": {
        "name": "ipython",
        "version": 3
      },
      "file_extension": ".py",
      "mimetype": "text/x-python",
      "name": "python",
      "nbconvert_exporter": "python",
      "pygments_lexer": "ipython3",
      "version": "3.11.1"
    },
    "colab": {
      "provenance": [],
      "include_colab_link": true
    }
  },
  "nbformat": 4,
  "nbformat_minor": 5
}