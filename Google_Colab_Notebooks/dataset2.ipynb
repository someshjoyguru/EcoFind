{
  "cells": [
    {
      "cell_type": "markdown",
      "metadata": {
        "id": "view-in-github",
        "colab_type": "text"
      },
      "source": [
        "<a href=\"https://colab.research.google.com/github/someshjoyguru/EcoFind/blob/main/Google_Colab_Notebooks/dataset2.ipynb\" target=\"_parent\"><img src=\"https://colab.research.google.com/assets/colab-badge.svg\" alt=\"Open In Colab\"/></a>"
      ]
    },
    {
      "cell_type": "code",
      "source": [
        "# Mount Google Drive for access\n",
        "from google.colab import drive\n",
        "drive.mount('/content/drive')\n",
        "\n",
        "# Change the working directory to '/content/drive/MyDrive/EcoTech'\n",
        "%cd /content/drive/MyDrive/EcoTech"
      ],
      "metadata": {
        "colab": {
          "base_uri": "https://localhost:8080/"
        },
        "id": "CTOmlLV5m2xg",
        "outputId": "ba8b4005-fba8-44f4-c85d-1765147dc040"
      },
      "id": "CTOmlLV5m2xg",
      "execution_count": 1,
      "outputs": [
        {
          "output_type": "stream",
          "name": "stdout",
          "text": [
            "Mounted at /content/drive\n",
            "/content/drive/MyDrive/EcoTech\n"
          ]
        }
      ]
    },
    {
      "cell_type": "code",
      "execution_count": 2,
      "id": "161723e9",
      "metadata": {
        "id": "161723e9"
      },
      "outputs": [],
      "source": [
        "# Import the pandas library for data manipulation\n",
        "import pandas as pd\n",
        "\n",
        "# Import the numpy library for numerical operations\n",
        "import numpy as np\n",
        "\n",
        "# Import the re library for regular expressions\n",
        "import re"
      ]
    },
    {
      "cell_type": "code",
      "execution_count": 3,
      "id": "6027422f",
      "metadata": {
        "id": "6027422f",
        "colab": {
          "base_uri": "https://localhost:8080/"
        },
        "outputId": "ac93976a-c9ea-478b-92bd-0511934f6521"
      },
      "outputs": [
        {
          "output_type": "stream",
          "name": "stdout",
          "text": [
            "<class 'pandas.core.frame.DataFrame'>\n",
            "RangeIndex: 551585 entries, 0 to 551584\n",
            "Data columns (total 7 columns):\n",
            " #   Column         Non-Null Count   Dtype \n",
            "---  ------         --------------   ----- \n",
            " 0   name           551585 non-null  object\n",
            " 1   main_category  551585 non-null  object\n",
            " 2   sub_category   551585 non-null  object\n",
            " 3   image          551585 non-null  object\n",
            " 4   link           551585 non-null  object\n",
            " 5   ratings        375791 non-null  object\n",
            " 6   no_of_ratings  375791 non-null  object\n",
            "dtypes: object(7)\n",
            "memory usage: 29.5+ MB\n"
          ]
        }
      ],
      "source": [
        "# Read the CSV file into a DataFrame\n",
        "df = pd.read_csv(\"dataset_final/Amazon-Products.csv\")\n",
        "\n",
        "# Set an option to display the full column width\n",
        "pd.set_option('display.max_colwidth', None)\n",
        "\n",
        "# Drop the 'Unnamed: 0' column\n",
        "final_dataset = df.drop(['Unnamed: 0'], axis=1)\n",
        "\n",
        "# Drop the 'discount_price' and 'actual_price' columns\n",
        "final_dataset = final_dataset.drop(['discount_price', 'actual_price'], axis=1)\n",
        "\n",
        "# Display information about the modified DataFrame\n",
        "final_dataset.info()"
      ]
    },
    {
      "cell_type": "code",
      "execution_count": 4,
      "id": "fb2cd1d3",
      "metadata": {
        "id": "fb2cd1d3"
      },
      "outputs": [],
      "source": [
        "# Create a 'tags' column by combining 'name,' 'main_category,' and 'sub_category'\n",
        "final_dataset['tags'] = final_dataset['name'] + ' ' + final_dataset['main_category'] + ' ' + final_dataset['sub_category']\n",
        "\n",
        "# Create a 'Classification' column by capitalizing 'main_category' and adding 'sub_category'\n",
        "final_dataset['Classification'] = final_dataset['main_category'].str.capitalize() + ' : ' + final_dataset['sub_category']"
      ]
    },
    {
      "cell_type": "code",
      "execution_count": 5,
      "id": "94daaa43",
      "metadata": {
        "id": "94daaa43"
      },
      "outputs": [],
      "source": [
        "# Drop the 'main_category' and 'sub_category' columns\n",
        "final_dataset = final_dataset.drop(['main_category', 'sub_category'], axis=1)"
      ]
    },
    {
      "cell_type": "code",
      "execution_count": 6,
      "id": "2827c493",
      "metadata": {
        "id": "2827c493"
      },
      "outputs": [],
      "source": [
        "# Rename the 'link' column to 'url' in the DataFrame\n",
        "final_dataset.rename(columns={'link': 'url'}, inplace=True)"
      ]
    },
    {
      "cell_type": "code",
      "execution_count": 7,
      "id": "cbf0a59e",
      "metadata": {
        "id": "cbf0a59e",
        "colab": {
          "base_uri": "https://localhost:8080/",
          "height": 761
        },
        "outputId": "b55eb8e3-1c7f-4e3c-8210-12191f7da004"
      },
      "outputs": [
        {
          "output_type": "execute_result",
          "data": {
            "text/plain": [
              "                                                                                                                            name  \\\n",
              "0  Lloyd 1.5 Ton 3 Star Inverter Split Ac (5 In 1 Convertible, Copper, Anti-Viral + Pm 2.5 Filter, 2023 Model, White, Gls18I3...   \n",
              "1  LG 1.5 Ton 5 Star AI DUAL Inverter Split AC (Copper, Super Convertible 6-in-1 Cooling, HD Filter with Anti-Virus Protectio...   \n",
              "2  LG 1 Ton 4 Star Ai Dual Inverter Split Ac (Copper, Super Convertible 6-In-1 Cooling, Hd Filter With Anti Virus Protection,...   \n",
              "3  LG 1.5 Ton 3 Star AI DUAL Inverter Split AC (Copper, Super Convertible 6-in-1 Cooling, HD Filter with Anti-Virus Protectio...   \n",
              "4                   Carrier 1.5 Ton 3 Star Inverter Split AC (Copper,ESTER Dxi, 4-in-1 Flexicool Inverter, 2022 Model,R32,White)   \n",
              "\n",
              "                                                            image  \\\n",
              "0  https://m.media-amazon.com/images/I/31UISB90sYL._AC_UL320_.jpg   \n",
              "1  https://m.media-amazon.com/images/I/51JFb7FctDL._AC_UL320_.jpg   \n",
              "2  https://m.media-amazon.com/images/I/51JFb7FctDL._AC_UL320_.jpg   \n",
              "3  https://m.media-amazon.com/images/I/51JFb7FctDL._AC_UL320_.jpg   \n",
              "4  https://m.media-amazon.com/images/I/41lrtqXPiWL._AC_UL320_.jpg   \n",
              "\n",
              "                                                                                                                                 url  \\\n",
              "0  https://www.amazon.in/Lloyd-Inverter-Convertible-Anti-Viral-GLS18I3FWAMC/dp/B0BRKXTSBT/ref=sr_1_4?qid=1679134237&s=kitchen&sr=1-4   \n",
              "1     https://www.amazon.in/LG-Convertible-Anti-Virus-Protection-RS-Q19YNZE/dp/B0BQ3MXML8/ref=sr_1_5?qid=1679134237&s=kitchen&sr=1-5   \n",
              "2       https://www.amazon.in/LG-Inverter-Convertible-protection-RS-Q13JNYE/dp/B0BPYN9JGF/ref=sr_1_6?qid=1679134237&s=kitchen&sr=1-6   \n",
              "3     https://www.amazon.in/LG-Convertible-Anti-Virus-Protection-RS-Q19JNXE/dp/B0BQ3MJ1TG/ref=sr_1_7?qid=1679134237&s=kitchen&sr=1-7   \n",
              "4             https://www.amazon.in/Carrier-Inverter-Split-Copper-Flexicool/dp/B0B67RLLJC/ref=sr_1_8?qid=1679134237&s=kitchen&sr=1-8   \n",
              "\n",
              "  ratings no_of_ratings  \\\n",
              "0     4.2         2,255   \n",
              "1     4.2         2,948   \n",
              "2     4.2         1,206   \n",
              "3     4.0            69   \n",
              "4     4.1           630   \n",
              "\n",
              "                                                                                                                                                        tags  \\\n",
              "0  Lloyd 1.5 Ton 3 Star Inverter Split Ac (5 In 1 Convertible, Copper, Anti-Viral + Pm 2.5 Filter, 2023 Model, White, Gls18I3... appliances Air Conditioners   \n",
              "1  LG 1.5 Ton 5 Star AI DUAL Inverter Split AC (Copper, Super Convertible 6-in-1 Cooling, HD Filter with Anti-Virus Protectio... appliances Air Conditioners   \n",
              "2  LG 1 Ton 4 Star Ai Dual Inverter Split Ac (Copper, Super Convertible 6-In-1 Cooling, Hd Filter With Anti Virus Protection,... appliances Air Conditioners   \n",
              "3  LG 1.5 Ton 3 Star AI DUAL Inverter Split AC (Copper, Super Convertible 6-in-1 Cooling, HD Filter with Anti-Virus Protectio... appliances Air Conditioners   \n",
              "4                   Carrier 1.5 Ton 3 Star Inverter Split AC (Copper,ESTER Dxi, 4-in-1 Flexicool Inverter, 2022 Model,R32,White) appliances Air Conditioners   \n",
              "\n",
              "                  Classification  \n",
              "0  Appliances : Air Conditioners  \n",
              "1  Appliances : Air Conditioners  \n",
              "2  Appliances : Air Conditioners  \n",
              "3  Appliances : Air Conditioners  \n",
              "4  Appliances : Air Conditioners  "
            ],
            "text/html": [
              "\n",
              "  <div id=\"df-d5b677b3-e1b8-4792-9c90-ca8aa3caeb1c\" class=\"colab-df-container\">\n",
              "    <div>\n",
              "<style scoped>\n",
              "    .dataframe tbody tr th:only-of-type {\n",
              "        vertical-align: middle;\n",
              "    }\n",
              "\n",
              "    .dataframe tbody tr th {\n",
              "        vertical-align: top;\n",
              "    }\n",
              "\n",
              "    .dataframe thead th {\n",
              "        text-align: right;\n",
              "    }\n",
              "</style>\n",
              "<table border=\"1\" class=\"dataframe\">\n",
              "  <thead>\n",
              "    <tr style=\"text-align: right;\">\n",
              "      <th></th>\n",
              "      <th>name</th>\n",
              "      <th>image</th>\n",
              "      <th>url</th>\n",
              "      <th>ratings</th>\n",
              "      <th>no_of_ratings</th>\n",
              "      <th>tags</th>\n",
              "      <th>Classification</th>\n",
              "    </tr>\n",
              "  </thead>\n",
              "  <tbody>\n",
              "    <tr>\n",
              "      <th>0</th>\n",
              "      <td>Lloyd 1.5 Ton 3 Star Inverter Split Ac (5 In 1 Convertible, Copper, Anti-Viral + Pm 2.5 Filter, 2023 Model, White, Gls18I3...</td>\n",
              "      <td>https://m.media-amazon.com/images/I/31UISB90sYL._AC_UL320_.jpg</td>\n",
              "      <td>https://www.amazon.in/Lloyd-Inverter-Convertible-Anti-Viral-GLS18I3FWAMC/dp/B0BRKXTSBT/ref=sr_1_4?qid=1679134237&amp;s=kitchen&amp;sr=1-4</td>\n",
              "      <td>4.2</td>\n",
              "      <td>2,255</td>\n",
              "      <td>Lloyd 1.5 Ton 3 Star Inverter Split Ac (5 In 1 Convertible, Copper, Anti-Viral + Pm 2.5 Filter, 2023 Model, White, Gls18I3... appliances Air Conditioners</td>\n",
              "      <td>Appliances : Air Conditioners</td>\n",
              "    </tr>\n",
              "    <tr>\n",
              "      <th>1</th>\n",
              "      <td>LG 1.5 Ton 5 Star AI DUAL Inverter Split AC (Copper, Super Convertible 6-in-1 Cooling, HD Filter with Anti-Virus Protectio...</td>\n",
              "      <td>https://m.media-amazon.com/images/I/51JFb7FctDL._AC_UL320_.jpg</td>\n",
              "      <td>https://www.amazon.in/LG-Convertible-Anti-Virus-Protection-RS-Q19YNZE/dp/B0BQ3MXML8/ref=sr_1_5?qid=1679134237&amp;s=kitchen&amp;sr=1-5</td>\n",
              "      <td>4.2</td>\n",
              "      <td>2,948</td>\n",
              "      <td>LG 1.5 Ton 5 Star AI DUAL Inverter Split AC (Copper, Super Convertible 6-in-1 Cooling, HD Filter with Anti-Virus Protectio... appliances Air Conditioners</td>\n",
              "      <td>Appliances : Air Conditioners</td>\n",
              "    </tr>\n",
              "    <tr>\n",
              "      <th>2</th>\n",
              "      <td>LG 1 Ton 4 Star Ai Dual Inverter Split Ac (Copper, Super Convertible 6-In-1 Cooling, Hd Filter With Anti Virus Protection,...</td>\n",
              "      <td>https://m.media-amazon.com/images/I/51JFb7FctDL._AC_UL320_.jpg</td>\n",
              "      <td>https://www.amazon.in/LG-Inverter-Convertible-protection-RS-Q13JNYE/dp/B0BPYN9JGF/ref=sr_1_6?qid=1679134237&amp;s=kitchen&amp;sr=1-6</td>\n",
              "      <td>4.2</td>\n",
              "      <td>1,206</td>\n",
              "      <td>LG 1 Ton 4 Star Ai Dual Inverter Split Ac (Copper, Super Convertible 6-In-1 Cooling, Hd Filter With Anti Virus Protection,... appliances Air Conditioners</td>\n",
              "      <td>Appliances : Air Conditioners</td>\n",
              "    </tr>\n",
              "    <tr>\n",
              "      <th>3</th>\n",
              "      <td>LG 1.5 Ton 3 Star AI DUAL Inverter Split AC (Copper, Super Convertible 6-in-1 Cooling, HD Filter with Anti-Virus Protectio...</td>\n",
              "      <td>https://m.media-amazon.com/images/I/51JFb7FctDL._AC_UL320_.jpg</td>\n",
              "      <td>https://www.amazon.in/LG-Convertible-Anti-Virus-Protection-RS-Q19JNXE/dp/B0BQ3MJ1TG/ref=sr_1_7?qid=1679134237&amp;s=kitchen&amp;sr=1-7</td>\n",
              "      <td>4.0</td>\n",
              "      <td>69</td>\n",
              "      <td>LG 1.5 Ton 3 Star AI DUAL Inverter Split AC (Copper, Super Convertible 6-in-1 Cooling, HD Filter with Anti-Virus Protectio... appliances Air Conditioners</td>\n",
              "      <td>Appliances : Air Conditioners</td>\n",
              "    </tr>\n",
              "    <tr>\n",
              "      <th>4</th>\n",
              "      <td>Carrier 1.5 Ton 3 Star Inverter Split AC (Copper,ESTER Dxi, 4-in-1 Flexicool Inverter, 2022 Model,R32,White)</td>\n",
              "      <td>https://m.media-amazon.com/images/I/41lrtqXPiWL._AC_UL320_.jpg</td>\n",
              "      <td>https://www.amazon.in/Carrier-Inverter-Split-Copper-Flexicool/dp/B0B67RLLJC/ref=sr_1_8?qid=1679134237&amp;s=kitchen&amp;sr=1-8</td>\n",
              "      <td>4.1</td>\n",
              "      <td>630</td>\n",
              "      <td>Carrier 1.5 Ton 3 Star Inverter Split AC (Copper,ESTER Dxi, 4-in-1 Flexicool Inverter, 2022 Model,R32,White) appliances Air Conditioners</td>\n",
              "      <td>Appliances : Air Conditioners</td>\n",
              "    </tr>\n",
              "  </tbody>\n",
              "</table>\n",
              "</div>\n",
              "    <div class=\"colab-df-buttons\">\n",
              "\n",
              "  <div class=\"colab-df-container\">\n",
              "    <button class=\"colab-df-convert\" onclick=\"convertToInteractive('df-d5b677b3-e1b8-4792-9c90-ca8aa3caeb1c')\"\n",
              "            title=\"Convert this dataframe to an interactive table.\"\n",
              "            style=\"display:none;\">\n",
              "\n",
              "  <svg xmlns=\"http://www.w3.org/2000/svg\" height=\"24px\" viewBox=\"0 -960 960 960\">\n",
              "    <path d=\"M120-120v-720h720v720H120Zm60-500h600v-160H180v160Zm220 220h160v-160H400v160Zm0 220h160v-160H400v160ZM180-400h160v-160H180v160Zm440 0h160v-160H620v160ZM180-180h160v-160H180v160Zm440 0h160v-160H620v160Z\"/>\n",
              "  </svg>\n",
              "    </button>\n",
              "\n",
              "  <style>\n",
              "    .colab-df-container {\n",
              "      display:flex;\n",
              "      gap: 12px;\n",
              "    }\n",
              "\n",
              "    .colab-df-convert {\n",
              "      background-color: #E8F0FE;\n",
              "      border: none;\n",
              "      border-radius: 50%;\n",
              "      cursor: pointer;\n",
              "      display: none;\n",
              "      fill: #1967D2;\n",
              "      height: 32px;\n",
              "      padding: 0 0 0 0;\n",
              "      width: 32px;\n",
              "    }\n",
              "\n",
              "    .colab-df-convert:hover {\n",
              "      background-color: #E2EBFA;\n",
              "      box-shadow: 0px 1px 2px rgba(60, 64, 67, 0.3), 0px 1px 3px 1px rgba(60, 64, 67, 0.15);\n",
              "      fill: #174EA6;\n",
              "    }\n",
              "\n",
              "    .colab-df-buttons div {\n",
              "      margin-bottom: 4px;\n",
              "    }\n",
              "\n",
              "    [theme=dark] .colab-df-convert {\n",
              "      background-color: #3B4455;\n",
              "      fill: #D2E3FC;\n",
              "    }\n",
              "\n",
              "    [theme=dark] .colab-df-convert:hover {\n",
              "      background-color: #434B5C;\n",
              "      box-shadow: 0px 1px 3px 1px rgba(0, 0, 0, 0.15);\n",
              "      filter: drop-shadow(0px 1px 2px rgba(0, 0, 0, 0.3));\n",
              "      fill: #FFFFFF;\n",
              "    }\n",
              "  </style>\n",
              "\n",
              "    <script>\n",
              "      const buttonEl =\n",
              "        document.querySelector('#df-d5b677b3-e1b8-4792-9c90-ca8aa3caeb1c button.colab-df-convert');\n",
              "      buttonEl.style.display =\n",
              "        google.colab.kernel.accessAllowed ? 'block' : 'none';\n",
              "\n",
              "      async function convertToInteractive(key) {\n",
              "        const element = document.querySelector('#df-d5b677b3-e1b8-4792-9c90-ca8aa3caeb1c');\n",
              "        const dataTable =\n",
              "          await google.colab.kernel.invokeFunction('convertToInteractive',\n",
              "                                                    [key], {});\n",
              "        if (!dataTable) return;\n",
              "\n",
              "        const docLinkHtml = 'Like what you see? Visit the ' +\n",
              "          '<a target=\"_blank\" href=https://colab.research.google.com/notebooks/data_table.ipynb>data table notebook</a>'\n",
              "          + ' to learn more about interactive tables.';\n",
              "        element.innerHTML = '';\n",
              "        dataTable['output_type'] = 'display_data';\n",
              "        await google.colab.output.renderOutput(dataTable, element);\n",
              "        const docLink = document.createElement('div');\n",
              "        docLink.innerHTML = docLinkHtml;\n",
              "        element.appendChild(docLink);\n",
              "      }\n",
              "    </script>\n",
              "  </div>\n",
              "\n",
              "\n",
              "<div id=\"df-dfd55bfd-809c-4005-824f-c1f4390c0ffa\">\n",
              "  <button class=\"colab-df-quickchart\" onclick=\"quickchart('df-dfd55bfd-809c-4005-824f-c1f4390c0ffa')\"\n",
              "            title=\"Suggest charts.\"\n",
              "            style=\"display:none;\">\n",
              "\n",
              "<svg xmlns=\"http://www.w3.org/2000/svg\" height=\"24px\"viewBox=\"0 0 24 24\"\n",
              "     width=\"24px\">\n",
              "    <g>\n",
              "        <path d=\"M19 3H5c-1.1 0-2 .9-2 2v14c0 1.1.9 2 2 2h14c1.1 0 2-.9 2-2V5c0-1.1-.9-2-2-2zM9 17H7v-7h2v7zm4 0h-2V7h2v10zm4 0h-2v-4h2v4z\"/>\n",
              "    </g>\n",
              "</svg>\n",
              "  </button>\n",
              "\n",
              "<style>\n",
              "  .colab-df-quickchart {\n",
              "      --bg-color: #E8F0FE;\n",
              "      --fill-color: #1967D2;\n",
              "      --hover-bg-color: #E2EBFA;\n",
              "      --hover-fill-color: #174EA6;\n",
              "      --disabled-fill-color: #AAA;\n",
              "      --disabled-bg-color: #DDD;\n",
              "  }\n",
              "\n",
              "  [theme=dark] .colab-df-quickchart {\n",
              "      --bg-color: #3B4455;\n",
              "      --fill-color: #D2E3FC;\n",
              "      --hover-bg-color: #434B5C;\n",
              "      --hover-fill-color: #FFFFFF;\n",
              "      --disabled-bg-color: #3B4455;\n",
              "      --disabled-fill-color: #666;\n",
              "  }\n",
              "\n",
              "  .colab-df-quickchart {\n",
              "    background-color: var(--bg-color);\n",
              "    border: none;\n",
              "    border-radius: 50%;\n",
              "    cursor: pointer;\n",
              "    display: none;\n",
              "    fill: var(--fill-color);\n",
              "    height: 32px;\n",
              "    padding: 0;\n",
              "    width: 32px;\n",
              "  }\n",
              "\n",
              "  .colab-df-quickchart:hover {\n",
              "    background-color: var(--hover-bg-color);\n",
              "    box-shadow: 0 1px 2px rgba(60, 64, 67, 0.3), 0 1px 3px 1px rgba(60, 64, 67, 0.15);\n",
              "    fill: var(--button-hover-fill-color);\n",
              "  }\n",
              "\n",
              "  .colab-df-quickchart-complete:disabled,\n",
              "  .colab-df-quickchart-complete:disabled:hover {\n",
              "    background-color: var(--disabled-bg-color);\n",
              "    fill: var(--disabled-fill-color);\n",
              "    box-shadow: none;\n",
              "  }\n",
              "\n",
              "  .colab-df-spinner {\n",
              "    border: 2px solid var(--fill-color);\n",
              "    border-color: transparent;\n",
              "    border-bottom-color: var(--fill-color);\n",
              "    animation:\n",
              "      spin 1s steps(1) infinite;\n",
              "  }\n",
              "\n",
              "  @keyframes spin {\n",
              "    0% {\n",
              "      border-color: transparent;\n",
              "      border-bottom-color: var(--fill-color);\n",
              "      border-left-color: var(--fill-color);\n",
              "    }\n",
              "    20% {\n",
              "      border-color: transparent;\n",
              "      border-left-color: var(--fill-color);\n",
              "      border-top-color: var(--fill-color);\n",
              "    }\n",
              "    30% {\n",
              "      border-color: transparent;\n",
              "      border-left-color: var(--fill-color);\n",
              "      border-top-color: var(--fill-color);\n",
              "      border-right-color: var(--fill-color);\n",
              "    }\n",
              "    40% {\n",
              "      border-color: transparent;\n",
              "      border-right-color: var(--fill-color);\n",
              "      border-top-color: var(--fill-color);\n",
              "    }\n",
              "    60% {\n",
              "      border-color: transparent;\n",
              "      border-right-color: var(--fill-color);\n",
              "    }\n",
              "    80% {\n",
              "      border-color: transparent;\n",
              "      border-right-color: var(--fill-color);\n",
              "      border-bottom-color: var(--fill-color);\n",
              "    }\n",
              "    90% {\n",
              "      border-color: transparent;\n",
              "      border-bottom-color: var(--fill-color);\n",
              "    }\n",
              "  }\n",
              "</style>\n",
              "\n",
              "  <script>\n",
              "    async function quickchart(key) {\n",
              "      const quickchartButtonEl =\n",
              "        document.querySelector('#' + key + ' button');\n",
              "      quickchartButtonEl.disabled = true;  // To prevent multiple clicks.\n",
              "      quickchartButtonEl.classList.add('colab-df-spinner');\n",
              "      try {\n",
              "        const charts = await google.colab.kernel.invokeFunction(\n",
              "            'suggestCharts', [key], {});\n",
              "      } catch (error) {\n",
              "        console.error('Error during call to suggestCharts:', error);\n",
              "      }\n",
              "      quickchartButtonEl.classList.remove('colab-df-spinner');\n",
              "      quickchartButtonEl.classList.add('colab-df-quickchart-complete');\n",
              "    }\n",
              "    (() => {\n",
              "      let quickchartButtonEl =\n",
              "        document.querySelector('#df-dfd55bfd-809c-4005-824f-c1f4390c0ffa button');\n",
              "      quickchartButtonEl.style.display =\n",
              "        google.colab.kernel.accessAllowed ? 'block' : 'none';\n",
              "    })();\n",
              "  </script>\n",
              "</div>\n",
              "    </div>\n",
              "  </div>\n"
            ]
          },
          "metadata": {},
          "execution_count": 7
        }
      ],
      "source": [
        "final_dataset.head()"
      ]
    },
    {
      "cell_type": "code",
      "execution_count": 8,
      "id": "1e8e2c22",
      "metadata": {
        "id": "1e8e2c22"
      },
      "outputs": [],
      "source": [
        "# Fill missing values in the 'ratings' column with 'No ratings available'\n",
        "final_dataset['ratings'] = final_dataset['ratings'].fillna('No ratings available')\n",
        "\n",
        "# Fill missing values in the 'no_of_ratings' column with 0\n",
        "final_dataset['no_of_ratings'] = final_dataset['no_of_ratings'].fillna(0)"
      ]
    },
    {
      "cell_type": "code",
      "execution_count": 9,
      "id": "81bf63fe",
      "metadata": {
        "colab": {
          "base_uri": "https://localhost:8080/"
        },
        "id": "81bf63fe",
        "outputId": "3f055f21-4665-49e1-dea3-c5876cd0ed12"
      },
      "outputs": [
        {
          "output_type": "stream",
          "name": "stdout",
          "text": [
            "<class 'pandas.core.frame.DataFrame'>\n",
            "RangeIndex: 551585 entries, 0 to 551584\n",
            "Data columns (total 7 columns):\n",
            " #   Column          Non-Null Count   Dtype \n",
            "---  ------          --------------   ----- \n",
            " 0   name            551585 non-null  object\n",
            " 1   image           551585 non-null  object\n",
            " 2   url             551585 non-null  object\n",
            " 3   ratings         551585 non-null  object\n",
            " 4   no_of_ratings   551585 non-null  object\n",
            " 5   tags            551585 non-null  object\n",
            " 6   Classification  551585 non-null  object\n",
            "dtypes: object(7)\n",
            "memory usage: 29.5+ MB\n"
          ]
        }
      ],
      "source": [
        "final_dataset.info()"
      ]
    },
    {
      "cell_type": "code",
      "execution_count": 10,
      "id": "ca9d74e8",
      "metadata": {
        "id": "ca9d74e8"
      },
      "outputs": [],
      "source": [
        "# Import the 'eco_friendly_words' module\n",
        "import eco_friendly_words\n",
        "\n",
        "# Access the list of eco-friendly keywords\n",
        "eco_friendly_keywords = eco_friendly_words.eco_friendly_words"
      ]
    },
    {
      "cell_type": "code",
      "execution_count": 11,
      "id": "c6b838eb",
      "metadata": {
        "id": "c6b838eb"
      },
      "outputs": [],
      "source": [
        "# Create a regex pattern by joining eco-friendly keywords with '|'\n",
        "pattern = '|'.join(eco_friendly_keywords)\n",
        "\n",
        "# Use the str.contains() method to filter rows containing eco-friendly keywords in the 'tags' column\n",
        "filtered_dataset = final_dataset[final_dataset['tags'].str.contains(pattern, case=False, na=False)]\n",
        "\n",
        "# Reset the index of the filtered DataFrame\n",
        "dataset2 = filtered_dataset.reset_index(drop=True)"
      ]
    },
    {
      "cell_type": "code",
      "execution_count": 12,
      "id": "b1367cc0",
      "metadata": {
        "colab": {
          "base_uri": "https://localhost:8080/"
        },
        "id": "b1367cc0",
        "outputId": "3dd767d8-d5cc-4df8-9142-9264a2a70c4e"
      },
      "outputs": [
        {
          "output_type": "execute_result",
          "data": {
            "text/plain": [
              "(21486, 7)"
            ]
          },
          "metadata": {},
          "execution_count": 12
        }
      ],
      "source": [
        "dataset2.shape"
      ]
    },
    {
      "cell_type": "code",
      "execution_count": 13,
      "id": "39b13507",
      "metadata": {
        "id": "39b13507"
      },
      "outputs": [],
      "source": [
        "# Import the CountVectorizer module from scikit-learn\n",
        "from sklearn.feature_extraction.text import CountVectorizer\n",
        "\n",
        "# Create a CountVectorizer with a maximum of 5000 features and English stop words\n",
        "cv = CountVectorizer(max_features=5000, stop_words='english')"
      ]
    },
    {
      "cell_type": "code",
      "execution_count": 14,
      "id": "bfb51f28",
      "metadata": {
        "id": "bfb51f28"
      },
      "outputs": [],
      "source": [
        "# Transform the 'tags' column of the filtered dataset into a feature vector\n",
        "vector = cv.fit_transform(dataset2['tags']).toarray()"
      ]
    },
    {
      "cell_type": "code",
      "execution_count": 15,
      "id": "404ea26c",
      "metadata": {
        "colab": {
          "base_uri": "https://localhost:8080/"
        },
        "id": "404ea26c",
        "outputId": "9ee1058f-ef7a-4282-d981-b19d0343b50a"
      },
      "outputs": [
        {
          "output_type": "execute_result",
          "data": {
            "text/plain": [
              "array([0, 0, 0, ..., 0, 0, 0])"
            ]
          },
          "metadata": {},
          "execution_count": 15
        }
      ],
      "source": [
        "vector[0]"
      ]
    },
    {
      "cell_type": "code",
      "execution_count": 16,
      "id": "19e8e8b8",
      "metadata": {
        "colab": {
          "base_uri": "https://localhost:8080/"
        },
        "id": "19e8e8b8",
        "outputId": "2ee3f8e4-f6fd-4ba7-9b9b-fc173ba9c4b8"
      },
      "outputs": [
        {
          "output_type": "execute_result",
          "data": {
            "text/plain": [
              "5000"
            ]
          },
          "metadata": {},
          "execution_count": 16
        }
      ],
      "source": [
        "len(cv.get_feature_names_out())"
      ]
    },
    {
      "cell_type": "code",
      "execution_count": 17,
      "id": "2c766321",
      "metadata": {
        "id": "2c766321"
      },
      "outputs": [],
      "source": [
        "# Import the nltk library\n",
        "import nltk\n",
        "\n",
        "# Import the PorterStemmer from nltk\n",
        "from nltk.stem.porter import PorterStemmer\n",
        "\n",
        "# Create an instance of the PorterStemmer\n",
        "ps = PorterStemmer()"
      ]
    },
    {
      "cell_type": "code",
      "execution_count": 18,
      "id": "9ecefcb3",
      "metadata": {
        "id": "9ecefcb3"
      },
      "outputs": [],
      "source": [
        "# Define a function to stem words in a given text\n",
        "def stem(text):\n",
        "    y = []\n",
        "    # Loop through words in the text and apply stemming\n",
        "    for word in text.split():\n",
        "        y.append(ps.stem(word))\n",
        "    # Join the stemmed words into a single string\n",
        "    return \" \".join(y)"
      ]
    },
    {
      "cell_type": "code",
      "execution_count": 19,
      "id": "4ecc0c1d",
      "metadata": {
        "colab": {
          "base_uri": "https://localhost:8080/"
        },
        "id": "4ecc0c1d",
        "outputId": "03231e0e-3505-4cd7-ff16-bc37c4227678"
      },
      "outputs": [
        {
          "output_type": "execute_result",
          "data": {
            "text/plain": [
              "0                                                                          ogener 1.1 ton 4 star eco-friendli window ac (white) applianc air condition\n",
              "1             pigeon healthifri digit air fryer, 360° high speed air circul technolog 1200 w with non-stick 4.2 l basket - green applianc all applianc\n",
              "2                                         e-cosmo smart handi multi-purpos fruit & veget cutter chopper (950ml,green, pack of 1) applianc all applianc\n",
              "3                              usha rapidmix 500-watt copper motor mixer grinder with 3 jar and 5 year warranty(sea green/white) applianc all applianc\n",
              "4        coway profession air purifi for home, longest filter life 8500 hrs, green true hepa filter, trap 99.99% viru & pm 0.... applianc all applianc\n",
              "                                                                             ...                                                                      \n",
              "21481        charg energy-004 interlock knit hexagon emboss round neck sport t-shirt grape-green size xs and charg play-005 interl... sport & fit yoga\n",
              "21482         cotton yug sadhana cotton yoga mat (brown)- 8mm thick | machin washable, sweat absorb & eco-friendli materi | carri ... sport & fit yoga\n",
              "21483                     matwallah 100%eva eco friendli yoga mat and exercis mat with bag and carri strap i armi green 4 mm yoga mat sport & fit yoga\n",
              "21484                                   evntra anti-slip yoga mat for gym workout, home workout and yoga excercise, 6mm thick (green) sport & fit yoga\n",
              "21485                                                 panchtatava yoga mat cover with adjust shoulder strap-trendi green yoga bag (1) sport & fit yoga\n",
              "Name: tags, Length: 21486, dtype: object"
            ]
          },
          "metadata": {},
          "execution_count": 19
        }
      ],
      "source": [
        "dataset2['tags'].apply(stem)"
      ]
    },
    {
      "cell_type": "code",
      "execution_count": 20,
      "id": "946da9f8",
      "metadata": {
        "colab": {
          "base_uri": "https://localhost:8080/"
        },
        "id": "946da9f8",
        "outputId": "d4c35753-5a17-4383-db24-b2d9392209ae"
      },
      "outputs": [
        {
          "output_type": "execute_result",
          "data": {
            "text/plain": [
              "array([[1.        , 0.32444284, 0.18898224, ..., 0.12700013, 0.        ,\n",
              "        0.        ],\n",
              "       [0.32444284, 1.        , 0.30656967, ..., 0.04120428, 0.04783649,\n",
              "        0.05263158],\n",
              "       [0.18898224, 0.30656967, 1.        , ..., 0.04800154, 0.05572782,\n",
              "        0.06131393],\n",
              "       ...,\n",
              "       [0.12700013, 0.04120428, 0.04800154, ..., 1.        , 0.56175441,\n",
              "        0.7004728 ],\n",
              "       [0.        , 0.04783649, 0.05572782, ..., 0.56175441, 1.        ,\n",
              "        0.62187434],\n",
              "       [0.        , 0.05263158, 0.06131393, ..., 0.7004728 , 0.62187434,\n",
              "        1.        ]])"
            ]
          },
          "metadata": {},
          "execution_count": 20
        }
      ],
      "source": [
        "# Import the cosine_similarity function from scikit-learn\n",
        "from sklearn.metrics.pairwise import cosine_similarity\n",
        "\n",
        "# Calculate the cosine similarity between feature vectors\n",
        "similarity = cosine_similarity(vector)\n",
        "\n",
        "# Display the similarity matrix\n",
        "similarity"
      ]
    },
    {
      "cell_type": "code",
      "execution_count": 21,
      "id": "94839f9a",
      "metadata": {
        "colab": {
          "base_uri": "https://localhost:8080/"
        },
        "id": "94839f9a",
        "outputId": "1c74e3eb-223c-4d7c-c344-c9c834680e6c"
      },
      "outputs": [
        {
          "output_type": "execute_result",
          "data": {
            "text/plain": [
              "(21486, 21486)"
            ]
          },
          "metadata": {},
          "execution_count": 21
        }
      ],
      "source": [
        "similarity.shape"
      ]
    },
    {
      "cell_type": "code",
      "execution_count": 22,
      "id": "02be33da",
      "metadata": {
        "colab": {
          "base_uri": "https://localhost:8080/",
          "height": 1000
        },
        "id": "02be33da",
        "outputId": "6a730219-a3b5-4f45-e694-2530589f249c"
      },
      "outputs": [
        {
          "output_type": "execute_result",
          "data": {
            "text/plain": [
              "                                                                                                                                name  \\\n",
              "0                                                                             OGeneral 1.1 Ton 4 Star Eco-Friendly Window AC (White)   \n",
              "1         Pigeon Healthifry Digital Air Fryer, 360° High Speed Air Circulation Technology 1200 W with Non-Stick 4.2 L Basket - Green   \n",
              "2                                       E-COSMOS Smart Handy Multi-Purpose Fruit & Vegetable Cutter Chopper (950ML,Green, Pack of 1)   \n",
              "3                                USHA RapidMix 500-Watt Copper Motor Mixer Grinder with 3 Jars and 5 Years Warranty(Sea Green/White)   \n",
              "4      Coway Professional Air Purifier for Home, Longest Filter Life 8500 Hrs, Green True HEPA Filter, Traps 99.99% Virus & PM 0....   \n",
              "...                                                                                                                              ...   \n",
              "21481  Charged Energy-004 Interlock Knit Hexagon Emboss Round Neck Sports T-Shirt Grape-Green Size Xs And Charged Play-005 Interl...   \n",
              "21482  Cotton Yug Sadhana Cotton Yoga Mat (Brown)- 8mm thick | Machine Washable, Sweat Absorbent & Eco-friendly material | Carry ...   \n",
              "21483                   MatWallah 100%EVA Eco Friendly Yoga Mat and Exercise Mat with Bag and Carry Strap I Army Green 4 mm Yoga Mat   \n",
              "21484                              Evntra Anti-Slip Yoga Mat For Gym Workout, Home Workout and Yoga Excercise, 6MM Thickness (Green)   \n",
              "21485                                            PANCHTATAVA Yoga Mat Cover with Adjustable Shoulder Strap-Trendy Green Yoga Bag (1)   \n",
              "\n",
              "                                                                                                  image  \\\n",
              "0                                        https://m.media-amazon.com/images/I/71fgBwbLjlL._AC_UL320_.jpg   \n",
              "1      https://m.media-amazon.com/images/W/IMAGERENDERING_521856-T1/images/I/61mfMId4dkL._AC_UL320_.jpg   \n",
              "2      https://m.media-amazon.com/images/W/IMAGERENDERING_521856-T2/images/I/51WXRV6NC1L._AC_UL320_.jpg   \n",
              "3      https://m.media-amazon.com/images/W/IMAGERENDERING_521856-T2/images/I/61mde481sCS._AC_UL320_.jpg   \n",
              "4                                        https://m.media-amazon.com/images/I/91mE+0CCnGL._AC_UL320_.jpg   \n",
              "...                                                                                                 ...   \n",
              "21481                                    https://m.media-amazon.com/images/I/81wkCv4nDIL._AC_UL320_.jpg   \n",
              "21482                                    https://m.media-amazon.com/images/I/71MAYlgFIiL._AC_UL320_.jpg   \n",
              "21483  https://m.media-amazon.com/images/W/IMAGERENDERING_521856-T2/images/I/51Gooebad5L._AC_UL320_.jpg   \n",
              "21484                                    https://m.media-amazon.com/images/I/41azNdbxH5S._AC_UL320_.jpg   \n",
              "21485                                    https://m.media-amazon.com/images/I/61BZWeiaGQL._AC_UL320_.jpg   \n",
              "\n",
              "                                                                                                                                            url  \\\n",
              "0                    https://www.amazon.in/OGeneral-Star-Eco-Friendly-Window-White/dp/B09B1RKDHD/ref=sr_1_439?qid=1679134261&s=kitchen&sr=1-439   \n",
              "1        https://www.amazon.in/Pigeon-Healthifry-Circulation-Technology-Non-Stick/dp/B0B8XNPQPN/ref=sr_1_19?qid=1679135585&s=appliances&sr=1-19   \n",
              "2             https://www.amazon.in/COSMOS-Multi-Purpose-Vegetable-Cutter-Chopper/dp/B09XDQ7WNM/ref=sr_1_68?qid=1679135588&s=appliances&sr=1-68   \n",
              "3                     https://www.amazon.in/USHA-RapidMix-500-Watt-Copper-Grinder/dp/B08MXJYB2V/ref=sr_1_70?qid=1679135588&s=appliances&sr=1-70   \n",
              "4         https://www.amazon.in/Coway-Professional-Purifier-Anti-Virus-AP-1019C/dp/B08GJ57MKL/ref=sr_1_165?qid=1679135594&s=appliances&sr=1-165   \n",
              "...                                                                                                                                         ...   \n",
              "21481  https://www.amazon.in/Energy-004-Interlock-Grape-Green-Geomatric-Dark-Grey/dp/B098P58VXM/ref=sr_1_7661?qid=1679217967&s=sports&sr=1-7661   \n",
              "21482         https://www.amazon.in/Cotton-Yug-Absorbent-Eco-friendly-Portability/dp/B09FKKCGKD/ref=sr_1_7958?qid=1679217973&s=sports&sr=1-7958   \n",
              "21483             https://www.amazon.in/MatWallah-100-EVA-Friendly-Exercise-Carry/dp/B0BFZSH8CZ/ref=sr_1_8359?qid=1679217982&s=sports&sr=1-8359   \n",
              "21484          https://www.amazon.in/Evntra-Anti-Slip-Workout-Excercise-Thickness/dp/B096VWBRFL/ref=sr_1_9339?qid=1679217997&s=sports&sr=1-9339   \n",
              "21485    https://www.amazon.in/PANCHTATAVA-Cover-Adjustable-Shoulder-Strap-Trendy/dp/B08YRB6RLK/ref=sr_1_9352?qid=1679217997&s=sports&sr=1-9352   \n",
              "\n",
              "                    ratings no_of_ratings  \\\n",
              "0                       5.0             2   \n",
              "1                       3.9           692   \n",
              "2                       3.9            80   \n",
              "3                       4.0         5,457   \n",
              "4                       4.4         3,856   \n",
              "...                     ...           ...   \n",
              "21481  No ratings available             0   \n",
              "21482                   5.0             1   \n",
              "21483  No ratings available             0   \n",
              "21484                   3.6            15   \n",
              "21485                   4.5             2   \n",
              "\n",
              "                                                                                                                                                          tags  \\\n",
              "0                                                                           OGeneral 1.1 Ton 4 Star Eco-Friendly Window AC (White) appliances Air Conditioners   \n",
              "1         Pigeon Healthifry Digital Air Fryer, 360° High Speed Air Circulation Technology 1200 W with Non-Stick 4.2 L Basket - Green appliances All Appliances   \n",
              "2                                       E-COSMOS Smart Handy Multi-Purpose Fruit & Vegetable Cutter Chopper (950ML,Green, Pack of 1) appliances All Appliances   \n",
              "3                                USHA RapidMix 500-Watt Copper Motor Mixer Grinder with 3 Jars and 5 Years Warranty(Sea Green/White) appliances All Appliances   \n",
              "4      Coway Professional Air Purifier for Home, Longest Filter Life 8500 Hrs, Green True HEPA Filter, Traps 99.99% Virus & PM 0.... appliances All Appliances   \n",
              "...                                                                                                                                                        ...   \n",
              "21481      Charged Energy-004 Interlock Knit Hexagon Emboss Round Neck Sports T-Shirt Grape-Green Size Xs And Charged Play-005 Interl... sports & fitness Yoga   \n",
              "21482      Cotton Yug Sadhana Cotton Yoga Mat (Brown)- 8mm thick | Machine Washable, Sweat Absorbent & Eco-friendly material | Carry ... sports & fitness Yoga   \n",
              "21483                       MatWallah 100%EVA Eco Friendly Yoga Mat and Exercise Mat with Bag and Carry Strap I Army Green 4 mm Yoga Mat sports & fitness Yoga   \n",
              "21484                                  Evntra Anti-Slip Yoga Mat For Gym Workout, Home Workout and Yoga Excercise, 6MM Thickness (Green) sports & fitness Yoga   \n",
              "21485                                                PANCHTATAVA Yoga Mat Cover with Adjustable Shoulder Strap-Trendy Green Yoga Bag (1) sports & fitness Yoga   \n",
              "\n",
              "                      Classification  \n",
              "0      Appliances : Air Conditioners  \n",
              "1        Appliances : All Appliances  \n",
              "2        Appliances : All Appliances  \n",
              "3        Appliances : All Appliances  \n",
              "4        Appliances : All Appliances  \n",
              "...                              ...  \n",
              "21481        Sports & fitness : Yoga  \n",
              "21482        Sports & fitness : Yoga  \n",
              "21483        Sports & fitness : Yoga  \n",
              "21484        Sports & fitness : Yoga  \n",
              "21485        Sports & fitness : Yoga  \n",
              "\n",
              "[21486 rows x 7 columns]"
            ],
            "text/html": [
              "\n",
              "  <div id=\"df-0fa1130e-1dd0-4058-836b-912478a602bd\" class=\"colab-df-container\">\n",
              "    <div>\n",
              "<style scoped>\n",
              "    .dataframe tbody tr th:only-of-type {\n",
              "        vertical-align: middle;\n",
              "    }\n",
              "\n",
              "    .dataframe tbody tr th {\n",
              "        vertical-align: top;\n",
              "    }\n",
              "\n",
              "    .dataframe thead th {\n",
              "        text-align: right;\n",
              "    }\n",
              "</style>\n",
              "<table border=\"1\" class=\"dataframe\">\n",
              "  <thead>\n",
              "    <tr style=\"text-align: right;\">\n",
              "      <th></th>\n",
              "      <th>name</th>\n",
              "      <th>image</th>\n",
              "      <th>url</th>\n",
              "      <th>ratings</th>\n",
              "      <th>no_of_ratings</th>\n",
              "      <th>tags</th>\n",
              "      <th>Classification</th>\n",
              "    </tr>\n",
              "  </thead>\n",
              "  <tbody>\n",
              "    <tr>\n",
              "      <th>0</th>\n",
              "      <td>OGeneral 1.1 Ton 4 Star Eco-Friendly Window AC (White)</td>\n",
              "      <td>https://m.media-amazon.com/images/I/71fgBwbLjlL._AC_UL320_.jpg</td>\n",
              "      <td>https://www.amazon.in/OGeneral-Star-Eco-Friendly-Window-White/dp/B09B1RKDHD/ref=sr_1_439?qid=1679134261&amp;s=kitchen&amp;sr=1-439</td>\n",
              "      <td>5.0</td>\n",
              "      <td>2</td>\n",
              "      <td>OGeneral 1.1 Ton 4 Star Eco-Friendly Window AC (White) appliances Air Conditioners</td>\n",
              "      <td>Appliances : Air Conditioners</td>\n",
              "    </tr>\n",
              "    <tr>\n",
              "      <th>1</th>\n",
              "      <td>Pigeon Healthifry Digital Air Fryer, 360° High Speed Air Circulation Technology 1200 W with Non-Stick 4.2 L Basket - Green</td>\n",
              "      <td>https://m.media-amazon.com/images/W/IMAGERENDERING_521856-T1/images/I/61mfMId4dkL._AC_UL320_.jpg</td>\n",
              "      <td>https://www.amazon.in/Pigeon-Healthifry-Circulation-Technology-Non-Stick/dp/B0B8XNPQPN/ref=sr_1_19?qid=1679135585&amp;s=appliances&amp;sr=1-19</td>\n",
              "      <td>3.9</td>\n",
              "      <td>692</td>\n",
              "      <td>Pigeon Healthifry Digital Air Fryer, 360° High Speed Air Circulation Technology 1200 W with Non-Stick 4.2 L Basket - Green appliances All Appliances</td>\n",
              "      <td>Appliances : All Appliances</td>\n",
              "    </tr>\n",
              "    <tr>\n",
              "      <th>2</th>\n",
              "      <td>E-COSMOS Smart Handy Multi-Purpose Fruit &amp; Vegetable Cutter Chopper (950ML,Green, Pack of 1)</td>\n",
              "      <td>https://m.media-amazon.com/images/W/IMAGERENDERING_521856-T2/images/I/51WXRV6NC1L._AC_UL320_.jpg</td>\n",
              "      <td>https://www.amazon.in/COSMOS-Multi-Purpose-Vegetable-Cutter-Chopper/dp/B09XDQ7WNM/ref=sr_1_68?qid=1679135588&amp;s=appliances&amp;sr=1-68</td>\n",
              "      <td>3.9</td>\n",
              "      <td>80</td>\n",
              "      <td>E-COSMOS Smart Handy Multi-Purpose Fruit &amp; Vegetable Cutter Chopper (950ML,Green, Pack of 1) appliances All Appliances</td>\n",
              "      <td>Appliances : All Appliances</td>\n",
              "    </tr>\n",
              "    <tr>\n",
              "      <th>3</th>\n",
              "      <td>USHA RapidMix 500-Watt Copper Motor Mixer Grinder with 3 Jars and 5 Years Warranty(Sea Green/White)</td>\n",
              "      <td>https://m.media-amazon.com/images/W/IMAGERENDERING_521856-T2/images/I/61mde481sCS._AC_UL320_.jpg</td>\n",
              "      <td>https://www.amazon.in/USHA-RapidMix-500-Watt-Copper-Grinder/dp/B08MXJYB2V/ref=sr_1_70?qid=1679135588&amp;s=appliances&amp;sr=1-70</td>\n",
              "      <td>4.0</td>\n",
              "      <td>5,457</td>\n",
              "      <td>USHA RapidMix 500-Watt Copper Motor Mixer Grinder with 3 Jars and 5 Years Warranty(Sea Green/White) appliances All Appliances</td>\n",
              "      <td>Appliances : All Appliances</td>\n",
              "    </tr>\n",
              "    <tr>\n",
              "      <th>4</th>\n",
              "      <td>Coway Professional Air Purifier for Home, Longest Filter Life 8500 Hrs, Green True HEPA Filter, Traps 99.99% Virus &amp; PM 0....</td>\n",
              "      <td>https://m.media-amazon.com/images/I/91mE+0CCnGL._AC_UL320_.jpg</td>\n",
              "      <td>https://www.amazon.in/Coway-Professional-Purifier-Anti-Virus-AP-1019C/dp/B08GJ57MKL/ref=sr_1_165?qid=1679135594&amp;s=appliances&amp;sr=1-165</td>\n",
              "      <td>4.4</td>\n",
              "      <td>3,856</td>\n",
              "      <td>Coway Professional Air Purifier for Home, Longest Filter Life 8500 Hrs, Green True HEPA Filter, Traps 99.99% Virus &amp; PM 0.... appliances All Appliances</td>\n",
              "      <td>Appliances : All Appliances</td>\n",
              "    </tr>\n",
              "    <tr>\n",
              "      <th>...</th>\n",
              "      <td>...</td>\n",
              "      <td>...</td>\n",
              "      <td>...</td>\n",
              "      <td>...</td>\n",
              "      <td>...</td>\n",
              "      <td>...</td>\n",
              "      <td>...</td>\n",
              "    </tr>\n",
              "    <tr>\n",
              "      <th>21481</th>\n",
              "      <td>Charged Energy-004 Interlock Knit Hexagon Emboss Round Neck Sports T-Shirt Grape-Green Size Xs And Charged Play-005 Interl...</td>\n",
              "      <td>https://m.media-amazon.com/images/I/81wkCv4nDIL._AC_UL320_.jpg</td>\n",
              "      <td>https://www.amazon.in/Energy-004-Interlock-Grape-Green-Geomatric-Dark-Grey/dp/B098P58VXM/ref=sr_1_7661?qid=1679217967&amp;s=sports&amp;sr=1-7661</td>\n",
              "      <td>No ratings available</td>\n",
              "      <td>0</td>\n",
              "      <td>Charged Energy-004 Interlock Knit Hexagon Emboss Round Neck Sports T-Shirt Grape-Green Size Xs And Charged Play-005 Interl... sports &amp; fitness Yoga</td>\n",
              "      <td>Sports &amp; fitness : Yoga</td>\n",
              "    </tr>\n",
              "    <tr>\n",
              "      <th>21482</th>\n",
              "      <td>Cotton Yug Sadhana Cotton Yoga Mat (Brown)- 8mm thick | Machine Washable, Sweat Absorbent &amp; Eco-friendly material | Carry ...</td>\n",
              "      <td>https://m.media-amazon.com/images/I/71MAYlgFIiL._AC_UL320_.jpg</td>\n",
              "      <td>https://www.amazon.in/Cotton-Yug-Absorbent-Eco-friendly-Portability/dp/B09FKKCGKD/ref=sr_1_7958?qid=1679217973&amp;s=sports&amp;sr=1-7958</td>\n",
              "      <td>5.0</td>\n",
              "      <td>1</td>\n",
              "      <td>Cotton Yug Sadhana Cotton Yoga Mat (Brown)- 8mm thick | Machine Washable, Sweat Absorbent &amp; Eco-friendly material | Carry ... sports &amp; fitness Yoga</td>\n",
              "      <td>Sports &amp; fitness : Yoga</td>\n",
              "    </tr>\n",
              "    <tr>\n",
              "      <th>21483</th>\n",
              "      <td>MatWallah 100%EVA Eco Friendly Yoga Mat and Exercise Mat with Bag and Carry Strap I Army Green 4 mm Yoga Mat</td>\n",
              "      <td>https://m.media-amazon.com/images/W/IMAGERENDERING_521856-T2/images/I/51Gooebad5L._AC_UL320_.jpg</td>\n",
              "      <td>https://www.amazon.in/MatWallah-100-EVA-Friendly-Exercise-Carry/dp/B0BFZSH8CZ/ref=sr_1_8359?qid=1679217982&amp;s=sports&amp;sr=1-8359</td>\n",
              "      <td>No ratings available</td>\n",
              "      <td>0</td>\n",
              "      <td>MatWallah 100%EVA Eco Friendly Yoga Mat and Exercise Mat with Bag and Carry Strap I Army Green 4 mm Yoga Mat sports &amp; fitness Yoga</td>\n",
              "      <td>Sports &amp; fitness : Yoga</td>\n",
              "    </tr>\n",
              "    <tr>\n",
              "      <th>21484</th>\n",
              "      <td>Evntra Anti-Slip Yoga Mat For Gym Workout, Home Workout and Yoga Excercise, 6MM Thickness (Green)</td>\n",
              "      <td>https://m.media-amazon.com/images/I/41azNdbxH5S._AC_UL320_.jpg</td>\n",
              "      <td>https://www.amazon.in/Evntra-Anti-Slip-Workout-Excercise-Thickness/dp/B096VWBRFL/ref=sr_1_9339?qid=1679217997&amp;s=sports&amp;sr=1-9339</td>\n",
              "      <td>3.6</td>\n",
              "      <td>15</td>\n",
              "      <td>Evntra Anti-Slip Yoga Mat For Gym Workout, Home Workout and Yoga Excercise, 6MM Thickness (Green) sports &amp; fitness Yoga</td>\n",
              "      <td>Sports &amp; fitness : Yoga</td>\n",
              "    </tr>\n",
              "    <tr>\n",
              "      <th>21485</th>\n",
              "      <td>PANCHTATAVA Yoga Mat Cover with Adjustable Shoulder Strap-Trendy Green Yoga Bag (1)</td>\n",
              "      <td>https://m.media-amazon.com/images/I/61BZWeiaGQL._AC_UL320_.jpg</td>\n",
              "      <td>https://www.amazon.in/PANCHTATAVA-Cover-Adjustable-Shoulder-Strap-Trendy/dp/B08YRB6RLK/ref=sr_1_9352?qid=1679217997&amp;s=sports&amp;sr=1-9352</td>\n",
              "      <td>4.5</td>\n",
              "      <td>2</td>\n",
              "      <td>PANCHTATAVA Yoga Mat Cover with Adjustable Shoulder Strap-Trendy Green Yoga Bag (1) sports &amp; fitness Yoga</td>\n",
              "      <td>Sports &amp; fitness : Yoga</td>\n",
              "    </tr>\n",
              "  </tbody>\n",
              "</table>\n",
              "<p>21486 rows × 7 columns</p>\n",
              "</div>\n",
              "    <div class=\"colab-df-buttons\">\n",
              "\n",
              "  <div class=\"colab-df-container\">\n",
              "    <button class=\"colab-df-convert\" onclick=\"convertToInteractive('df-0fa1130e-1dd0-4058-836b-912478a602bd')\"\n",
              "            title=\"Convert this dataframe to an interactive table.\"\n",
              "            style=\"display:none;\">\n",
              "\n",
              "  <svg xmlns=\"http://www.w3.org/2000/svg\" height=\"24px\" viewBox=\"0 -960 960 960\">\n",
              "    <path d=\"M120-120v-720h720v720H120Zm60-500h600v-160H180v160Zm220 220h160v-160H400v160Zm0 220h160v-160H400v160ZM180-400h160v-160H180v160Zm440 0h160v-160H620v160ZM180-180h160v-160H180v160Zm440 0h160v-160H620v160Z\"/>\n",
              "  </svg>\n",
              "    </button>\n",
              "\n",
              "  <style>\n",
              "    .colab-df-container {\n",
              "      display:flex;\n",
              "      gap: 12px;\n",
              "    }\n",
              "\n",
              "    .colab-df-convert {\n",
              "      background-color: #E8F0FE;\n",
              "      border: none;\n",
              "      border-radius: 50%;\n",
              "      cursor: pointer;\n",
              "      display: none;\n",
              "      fill: #1967D2;\n",
              "      height: 32px;\n",
              "      padding: 0 0 0 0;\n",
              "      width: 32px;\n",
              "    }\n",
              "\n",
              "    .colab-df-convert:hover {\n",
              "      background-color: #E2EBFA;\n",
              "      box-shadow: 0px 1px 2px rgba(60, 64, 67, 0.3), 0px 1px 3px 1px rgba(60, 64, 67, 0.15);\n",
              "      fill: #174EA6;\n",
              "    }\n",
              "\n",
              "    .colab-df-buttons div {\n",
              "      margin-bottom: 4px;\n",
              "    }\n",
              "\n",
              "    [theme=dark] .colab-df-convert {\n",
              "      background-color: #3B4455;\n",
              "      fill: #D2E3FC;\n",
              "    }\n",
              "\n",
              "    [theme=dark] .colab-df-convert:hover {\n",
              "      background-color: #434B5C;\n",
              "      box-shadow: 0px 1px 3px 1px rgba(0, 0, 0, 0.15);\n",
              "      filter: drop-shadow(0px 1px 2px rgba(0, 0, 0, 0.3));\n",
              "      fill: #FFFFFF;\n",
              "    }\n",
              "  </style>\n",
              "\n",
              "    <script>\n",
              "      const buttonEl =\n",
              "        document.querySelector('#df-0fa1130e-1dd0-4058-836b-912478a602bd button.colab-df-convert');\n",
              "      buttonEl.style.display =\n",
              "        google.colab.kernel.accessAllowed ? 'block' : 'none';\n",
              "\n",
              "      async function convertToInteractive(key) {\n",
              "        const element = document.querySelector('#df-0fa1130e-1dd0-4058-836b-912478a602bd');\n",
              "        const dataTable =\n",
              "          await google.colab.kernel.invokeFunction('convertToInteractive',\n",
              "                                                    [key], {});\n",
              "        if (!dataTable) return;\n",
              "\n",
              "        const docLinkHtml = 'Like what you see? Visit the ' +\n",
              "          '<a target=\"_blank\" href=https://colab.research.google.com/notebooks/data_table.ipynb>data table notebook</a>'\n",
              "          + ' to learn more about interactive tables.';\n",
              "        element.innerHTML = '';\n",
              "        dataTable['output_type'] = 'display_data';\n",
              "        await google.colab.output.renderOutput(dataTable, element);\n",
              "        const docLink = document.createElement('div');\n",
              "        docLink.innerHTML = docLinkHtml;\n",
              "        element.appendChild(docLink);\n",
              "      }\n",
              "    </script>\n",
              "  </div>\n",
              "\n",
              "\n",
              "<div id=\"df-abd8c507-4352-4d5d-839b-a8022922b23e\">\n",
              "  <button class=\"colab-df-quickchart\" onclick=\"quickchart('df-abd8c507-4352-4d5d-839b-a8022922b23e')\"\n",
              "            title=\"Suggest charts.\"\n",
              "            style=\"display:none;\">\n",
              "\n",
              "<svg xmlns=\"http://www.w3.org/2000/svg\" height=\"24px\"viewBox=\"0 0 24 24\"\n",
              "     width=\"24px\">\n",
              "    <g>\n",
              "        <path d=\"M19 3H5c-1.1 0-2 .9-2 2v14c0 1.1.9 2 2 2h14c1.1 0 2-.9 2-2V5c0-1.1-.9-2-2-2zM9 17H7v-7h2v7zm4 0h-2V7h2v10zm4 0h-2v-4h2v4z\"/>\n",
              "    </g>\n",
              "</svg>\n",
              "  </button>\n",
              "\n",
              "<style>\n",
              "  .colab-df-quickchart {\n",
              "      --bg-color: #E8F0FE;\n",
              "      --fill-color: #1967D2;\n",
              "      --hover-bg-color: #E2EBFA;\n",
              "      --hover-fill-color: #174EA6;\n",
              "      --disabled-fill-color: #AAA;\n",
              "      --disabled-bg-color: #DDD;\n",
              "  }\n",
              "\n",
              "  [theme=dark] .colab-df-quickchart {\n",
              "      --bg-color: #3B4455;\n",
              "      --fill-color: #D2E3FC;\n",
              "      --hover-bg-color: #434B5C;\n",
              "      --hover-fill-color: #FFFFFF;\n",
              "      --disabled-bg-color: #3B4455;\n",
              "      --disabled-fill-color: #666;\n",
              "  }\n",
              "\n",
              "  .colab-df-quickchart {\n",
              "    background-color: var(--bg-color);\n",
              "    border: none;\n",
              "    border-radius: 50%;\n",
              "    cursor: pointer;\n",
              "    display: none;\n",
              "    fill: var(--fill-color);\n",
              "    height: 32px;\n",
              "    padding: 0;\n",
              "    width: 32px;\n",
              "  }\n",
              "\n",
              "  .colab-df-quickchart:hover {\n",
              "    background-color: var(--hover-bg-color);\n",
              "    box-shadow: 0 1px 2px rgba(60, 64, 67, 0.3), 0 1px 3px 1px rgba(60, 64, 67, 0.15);\n",
              "    fill: var(--button-hover-fill-color);\n",
              "  }\n",
              "\n",
              "  .colab-df-quickchart-complete:disabled,\n",
              "  .colab-df-quickchart-complete:disabled:hover {\n",
              "    background-color: var(--disabled-bg-color);\n",
              "    fill: var(--disabled-fill-color);\n",
              "    box-shadow: none;\n",
              "  }\n",
              "\n",
              "  .colab-df-spinner {\n",
              "    border: 2px solid var(--fill-color);\n",
              "    border-color: transparent;\n",
              "    border-bottom-color: var(--fill-color);\n",
              "    animation:\n",
              "      spin 1s steps(1) infinite;\n",
              "  }\n",
              "\n",
              "  @keyframes spin {\n",
              "    0% {\n",
              "      border-color: transparent;\n",
              "      border-bottom-color: var(--fill-color);\n",
              "      border-left-color: var(--fill-color);\n",
              "    }\n",
              "    20% {\n",
              "      border-color: transparent;\n",
              "      border-left-color: var(--fill-color);\n",
              "      border-top-color: var(--fill-color);\n",
              "    }\n",
              "    30% {\n",
              "      border-color: transparent;\n",
              "      border-left-color: var(--fill-color);\n",
              "      border-top-color: var(--fill-color);\n",
              "      border-right-color: var(--fill-color);\n",
              "    }\n",
              "    40% {\n",
              "      border-color: transparent;\n",
              "      border-right-color: var(--fill-color);\n",
              "      border-top-color: var(--fill-color);\n",
              "    }\n",
              "    60% {\n",
              "      border-color: transparent;\n",
              "      border-right-color: var(--fill-color);\n",
              "    }\n",
              "    80% {\n",
              "      border-color: transparent;\n",
              "      border-right-color: var(--fill-color);\n",
              "      border-bottom-color: var(--fill-color);\n",
              "    }\n",
              "    90% {\n",
              "      border-color: transparent;\n",
              "      border-bottom-color: var(--fill-color);\n",
              "    }\n",
              "  }\n",
              "</style>\n",
              "\n",
              "  <script>\n",
              "    async function quickchart(key) {\n",
              "      const quickchartButtonEl =\n",
              "        document.querySelector('#' + key + ' button');\n",
              "      quickchartButtonEl.disabled = true;  // To prevent multiple clicks.\n",
              "      quickchartButtonEl.classList.add('colab-df-spinner');\n",
              "      try {\n",
              "        const charts = await google.colab.kernel.invokeFunction(\n",
              "            'suggestCharts', [key], {});\n",
              "      } catch (error) {\n",
              "        console.error('Error during call to suggestCharts:', error);\n",
              "      }\n",
              "      quickchartButtonEl.classList.remove('colab-df-spinner');\n",
              "      quickchartButtonEl.classList.add('colab-df-quickchart-complete');\n",
              "    }\n",
              "    (() => {\n",
              "      let quickchartButtonEl =\n",
              "        document.querySelector('#df-abd8c507-4352-4d5d-839b-a8022922b23e button');\n",
              "      quickchartButtonEl.style.display =\n",
              "        google.colab.kernel.accessAllowed ? 'block' : 'none';\n",
              "    })();\n",
              "  </script>\n",
              "</div>\n",
              "    </div>\n",
              "  </div>\n"
            ]
          },
          "metadata": {},
          "execution_count": 22
        }
      ],
      "source": [
        "dataset2"
      ]
    },
    {
      "cell_type": "code",
      "execution_count": 23,
      "id": "22b70a49",
      "metadata": {
        "colab": {
          "base_uri": "https://localhost:8080/",
          "height": 36
        },
        "id": "22b70a49",
        "outputId": "4f844fac-a604-483f-fb8c-70c2133e3890"
      },
      "outputs": [
        {
          "output_type": "execute_result",
          "data": {
            "text/plain": [
              "'Room Air Purifier and Humidifier Aroma Diffuser WITH CHECK DUSTER CLOTH BLUR OR GREEN color as per available'"
            ],
            "application/vnd.google.colaboratory.intrinsic+json": {
              "type": "string"
            }
          },
          "metadata": {},
          "execution_count": 23
        }
      ],
      "source": [
        "# Find the index of the product 'USHA RapidMix 500-Watt Copper Motor Mixer Grinder with 3 Jars and 5 Years Warranty(Sea Green/White)' in the filtered dataset\n",
        "product_index = dataset2[dataset2['name'] == 'USHA RapidMix 500-Watt Copper Motor Mixer Grinder with 3 Jars and 5 Years Warranty(Sea Green/White)'].index[0]\n",
        "\n",
        "# Calculate the cosine similarity distances between the specified product and others\n",
        "distances = similarity[product_index]\n",
        "\n",
        "# Sort and retrieve the top 5 similar products as a list of tuples\n",
        "product_list = sorted(list(enumerate(distances)), reverse=True, key=lambda x: x[1])[1:6]\n",
        "\n",
        "# Display the list of similar products\n",
        "product_list\n",
        "\n",
        "# Get the name of the product at index 44 in the filtered dataset\n",
        "dataset2.get('name')[44]"
      ]
    },
    {
      "cell_type": "code",
      "execution_count": 24,
      "id": "f764b1d4",
      "metadata": {
        "id": "f764b1d4"
      },
      "outputs": [],
      "source": [
        "# Define a function to recommend similar products based on a given product name\n",
        "def recommend(product):\n",
        "    # Find the index of the given product in the filtered dataset\n",
        "    product_index = dataset2[dataset2['name'] == product].index[0]\n",
        "\n",
        "    # Calculate the cosine similarity distances between the specified product and others\n",
        "    distances = similarity[product_index]\n",
        "\n",
        "    # Sort and retrieve the top 5 similar products as a list of tuples\n",
        "    product_list = sorted(list(enumerate(distances)), reverse=True, key=lambda x: x[1])[1:6]\n",
        "\n",
        "    # Print the names of the recommended products\n",
        "    for i in product_list:\n",
        "        print(dataset2.get('name')[i[0]])"
      ]
    },
    {
      "cell_type": "code",
      "execution_count": 25,
      "id": "d6883d2a",
      "metadata": {
        "colab": {
          "base_uri": "https://localhost:8080/"
        },
        "id": "d6883d2a",
        "outputId": "b3506e48-d384-4461-a151-f35722888074"
      },
      "outputs": [
        {
          "output_type": "stream",
          "name": "stdout",
          "text": [
            "USHA RapidMix 500-Watt Copper Motor Mixer Grinder with 3 Jars and 5 Years Warranty(Sea Green/White)\n",
            "USHA RapidMix 500-Watt Copper Motor Mixer Grinder with 3 Jars (Sea Green/White) & Armor AR1100WB 1100 W Dry Iron with Blac...\n",
            "USHA RapidMix 500-Watt Copper Motor Mixer Grinder with 3 Jars (Sea Green/White) & Armor AR1100WB 1100 W Dry Iron with Blac...\n",
            "USHA RapidMix 500-Watt Copper Motor Mixer Grinder with 3 Jars (Sea Green/White) & Armor AR1100WB 1100 W Dry Iron with Blac...\n",
            "USHA RapidMix 500-Watt Copper Motor Mixer Grinder with 3 Jars and 5 Years Warranty(Sea Green/White)\n"
          ]
        }
      ],
      "source": [
        "recommend('USHA RapidMix 500-Watt Copper Motor Mixer Grinder with 3 Jars and 5 Years Warranty(Sea Green/White)')"
      ]
    },
    {
      "cell_type": "code",
      "source": [
        "dataset2.shape"
      ],
      "metadata": {
        "colab": {
          "base_uri": "https://localhost:8080/"
        },
        "id": "tMKF0ycTnDcs",
        "outputId": "1d55816a-f1db-4882-d8f5-b34f9aa12f42"
      },
      "id": "tMKF0ycTnDcs",
      "execution_count": 26,
      "outputs": [
        {
          "output_type": "execute_result",
          "data": {
            "text/plain": [
              "(21486, 7)"
            ]
          },
          "metadata": {},
          "execution_count": 26
        }
      ]
    },
    {
      "cell_type": "code",
      "source": [
        "dataset2.info()"
      ],
      "metadata": {
        "colab": {
          "base_uri": "https://localhost:8080/"
        },
        "id": "D_2e3gu9OKqR",
        "outputId": "00b24cb7-5e3e-4e80-bd20-9d2ad3f6b331"
      },
      "id": "D_2e3gu9OKqR",
      "execution_count": 27,
      "outputs": [
        {
          "output_type": "stream",
          "name": "stdout",
          "text": [
            "<class 'pandas.core.frame.DataFrame'>\n",
            "RangeIndex: 21486 entries, 0 to 21485\n",
            "Data columns (total 7 columns):\n",
            " #   Column          Non-Null Count  Dtype \n",
            "---  ------          --------------  ----- \n",
            " 0   name            21486 non-null  object\n",
            " 1   image           21486 non-null  object\n",
            " 2   url             21486 non-null  object\n",
            " 3   ratings         21486 non-null  object\n",
            " 4   no_of_ratings   21486 non-null  object\n",
            " 5   tags            21486 non-null  object\n",
            " 6   Classification  21486 non-null  object\n",
            "dtypes: object(7)\n",
            "memory usage: 1.1+ MB\n"
          ]
        }
      ]
    },
    {
      "cell_type": "code",
      "execution_count": 28,
      "id": "f1265924",
      "metadata": {
        "id": "f1265924"
      },
      "outputs": [],
      "source": [
        "# Import the pickle module\n",
        "import pickle\n",
        "\n",
        "# Serialize and save the dataset as a dictionary to a binary file\n",
        "pickle.dump(dataset2.to_dict(), open('products2.pkl', 'wb'))"
      ]
    }
  ],
  "metadata": {
    "kernelspec": {
      "display_name": "Python 3 (ipykernel)",
      "language": "python",
      "name": "python3"
    },
    "language_info": {
      "codemirror_mode": {
        "name": "ipython",
        "version": 3
      },
      "file_extension": ".py",
      "mimetype": "text/x-python",
      "name": "python",
      "nbconvert_exporter": "python",
      "pygments_lexer": "ipython3",
      "version": "3.11.1"
    },
    "colab": {
      "provenance": [],
      "include_colab_link": true
    }
  },
  "nbformat": 4,
  "nbformat_minor": 5
}