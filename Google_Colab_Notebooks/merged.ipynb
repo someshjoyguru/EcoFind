{
  "cells": [
    {
      "cell_type": "markdown",
      "metadata": {
        "id": "view-in-github",
        "colab_type": "text"
      },
      "source": [
        "<a href=\"https://colab.research.google.com/github/someshjoyguru/EcoFind/blob/main/Google_Colab_Notebooks/merged.ipynb\" target=\"_parent\"><img src=\"https://colab.research.google.com/assets/colab-badge.svg\" alt=\"Open In Colab\"/></a>"
      ]
    },
    {
      "cell_type": "code",
      "source": [
        "# Mount Google Drive for access\n",
        "from google.colab import drive\n",
        "drive.mount('/content/drive')\n",
        "\n",
        "# Change the working directory to '/content/drive/MyDrive/EcoTech'\n",
        "%cd /content/drive/MyDrive/EcoTech"
      ],
      "metadata": {
        "colab": {
          "base_uri": "https://localhost:8080/"
        },
        "id": "ekpEPafJm4o3",
        "outputId": "f4859b5f-136e-4525-dfe4-8ca44a658472"
      },
      "id": "ekpEPafJm4o3",
      "execution_count": 1,
      "outputs": [
        {
          "output_type": "stream",
          "name": "stdout",
          "text": [
            "Mounted at /content/drive\n",
            "/content/drive/MyDrive/EcoTech\n"
          ]
        }
      ]
    },
    {
      "cell_type": "code",
      "execution_count": 2,
      "id": "70b2f20d",
      "metadata": {
        "id": "70b2f20d"
      },
      "outputs": [],
      "source": [
        "# Import the pandas library for data manipulation\n",
        "import pandas as pd\n",
        "\n",
        "# Import the numpy library for numerical operations\n",
        "import numpy as np"
      ]
    },
    {
      "cell_type": "code",
      "execution_count": 3,
      "id": "504ec4a0",
      "metadata": {
        "id": "504ec4a0"
      },
      "outputs": [],
      "source": [
        "# Load the first .pkl dataset (assuming it's a dictionary)\n",
        "data1 = pd.read_pickle('products1.pkl')\n",
        "\n",
        "# Load the second .pkl dataset (assuming it's a dictionary)\n",
        "data2 = pd.read_pickle('products2.pkl')\n",
        "\n",
        "# Convert the dictionaries to DataFrames\n",
        "df1 = pd.DataFrame(data1)\n",
        "df2 = pd.DataFrame(data2)"
      ]
    },
    {
      "cell_type": "code",
      "source": [
        "# Rename the 'Image' column to 'image' in DataFrame df1\n",
        "df1.rename(columns={'Image': 'image'}, inplace=True)"
      ],
      "metadata": {
        "id": "1hxxi1V2yaih"
      },
      "id": "1hxxi1V2yaih",
      "execution_count": 4,
      "outputs": []
    },
    {
      "cell_type": "code",
      "source": [
        "# Define a function to merge DataFrames vertically (by rows) by default\n",
        "def merge(df1, df2, axis=0):\n",
        "    # axis=0 for vertical stacking (along rows), axis=1 for horizontal (along columns)\n",
        "    return pd.concat([df1, df2], axis=axis)\n",
        "\n",
        "# Merge df1 and df2 vertically (along rows)\n",
        "merged_df = merge(df1, df2, axis=0)\n",
        "\n",
        "# Display information about the merged DataFrame\n",
        "merged_df.info()"
      ],
      "metadata": {
        "id": "7iCjTRHMpAmu",
        "colab": {
          "base_uri": "https://localhost:8080/"
        },
        "outputId": "4c758439-1ba5-46e8-9d65-5c16ad3e4023"
      },
      "id": "7iCjTRHMpAmu",
      "execution_count": 5,
      "outputs": [
        {
          "output_type": "stream",
          "name": "stdout",
          "text": [
            "<class 'pandas.core.frame.DataFrame'>\n",
            "Int64Index: 21552 entries, 0 to 21485\n",
            "Data columns (total 7 columns):\n",
            " #   Column          Non-Null Count  Dtype \n",
            "---  ------          --------------  ----- \n",
            " 0   name            21552 non-null  object\n",
            " 1   url             21552 non-null  object\n",
            " 2   Classification  21552 non-null  object\n",
            " 3   tags            21552 non-null  object\n",
            " 4   ratings         21552 non-null  object\n",
            " 5   no_of_ratings   21552 non-null  object\n",
            " 6   image           21552 non-null  object\n",
            "dtypes: object(7)\n",
            "memory usage: 1.3+ MB\n"
          ]
        }
      ]
    },
    {
      "cell_type": "code",
      "execution_count": 6,
      "id": "0a120ad1",
      "metadata": {
        "id": "0a120ad1"
      },
      "outputs": [],
      "source": [
        "# Import the CountVectorizer class from scikit-learn\n",
        "from sklearn.feature_extraction.text import CountVectorizer\n",
        "\n",
        "# Create a CountVectorizer instance with specific settings\n",
        "cv = CountVectorizer(max_features=5000, stop_words='english')"
      ]
    },
    {
      "cell_type": "code",
      "execution_count": 7,
      "id": "10949373",
      "metadata": {
        "id": "10949373"
      },
      "outputs": [],
      "source": [
        "# Transform the 'tags' column of merged_df into a feature vector\n",
        "vector = cv.fit_transform(merged_df['tags']).toarray()"
      ]
    },
    {
      "cell_type": "code",
      "execution_count": 8,
      "id": "80b6a013",
      "metadata": {
        "id": "80b6a013",
        "colab": {
          "base_uri": "https://localhost:8080/"
        },
        "outputId": "b2f83011-88bf-4361-8d04-d996a240ba59"
      },
      "outputs": [
        {
          "output_type": "execute_result",
          "data": {
            "text/plain": [
              "5000"
            ]
          },
          "metadata": {},
          "execution_count": 8
        }
      ],
      "source": [
        "len(cv.get_feature_names_out())"
      ]
    },
    {
      "cell_type": "code",
      "source": [
        "# Import the nltk library\n",
        "import nltk\n",
        "\n",
        "# Import the PorterStemmer from nltk\n",
        "from nltk.stem.porter import PorterStemmer\n",
        "\n",
        "# Create a PorterStemmer instance\n",
        "ps = PorterStemmer()"
      ],
      "metadata": {
        "id": "MukJrqFVzJuh"
      },
      "id": "MukJrqFVzJuh",
      "execution_count": 9,
      "outputs": []
    },
    {
      "cell_type": "code",
      "source": [
        "# Define a text stemming function\n",
        "def stem(text):\n",
        "    y = []\n",
        "    # Split the text into words and apply stemming to each word\n",
        "    for word in text.split():\n",
        "        y.append(ps.stem(word))\n",
        "    # Join the stemmed words into a single string and return it\n",
        "    return \" \".join(y)"
      ],
      "metadata": {
        "id": "QKVL7UmmzJwX"
      },
      "id": "QKVL7UmmzJwX",
      "execution_count": 10,
      "outputs": []
    },
    {
      "cell_type": "code",
      "source": [
        "merged_df['tags'].apply(stem)"
      ],
      "metadata": {
        "colab": {
          "base_uri": "https://localhost:8080/"
        },
        "id": "aSyis1pKzN1J",
        "outputId": "49d57cce-6656-4aee-971f-1d98bf35d459"
      },
      "id": "aSyis1pKzN1J",
      "execution_count": 11,
      "outputs": [
        {
          "output_type": "execute_result",
          "data": {
            "text/plain": [
              "0        walnut great grip and extra breathabl make the...\n",
              "1        green thi lightweight fli rod deliv outstand p...\n",
              "2        green these tough men heavyduti suspend are ma...\n",
              "3        antiqu pine antiqu white flint blue slate blue...\n",
              "4        black dark flint gray natur for strong lightwe...\n",
              "                               ...                        \n",
              "21481    charg energy-004 interlock knit hexagon emboss...\n",
              "21482    cotton yug sadhana cotton yoga mat (brown)- 8m...\n",
              "21483    matwallah 100%eva eco friendli yoga mat and ex...\n",
              "21484    evntra anti-slip yoga mat for gym workout, hom...\n",
              "21485    panchtatava yoga mat cover with adjust shoulde...\n",
              "Name: tags, Length: 21552, dtype: object"
            ]
          },
          "metadata": {},
          "execution_count": 11
        }
      ]
    },
    {
      "cell_type": "code",
      "source": [
        "# Import the cosine_similarity function from scikit-learn\n",
        "from sklearn.metrics.pairwise import cosine_similarity\n",
        "\n",
        "# Calculate the cosine similarity between feature vectors and store it in 'similarity'\n",
        "similarity = cosine_similarity(vector)\n",
        "\n",
        "# Display the similarity matrix\n",
        "similarity"
      ],
      "metadata": {
        "colab": {
          "base_uri": "https://localhost:8080/"
        },
        "id": "HZSxu_CTzNzK",
        "outputId": "7245f80c-ad5d-4bca-9d77-d4bda83ae8a4"
      },
      "id": "HZSxu_CTzNzK",
      "execution_count": 12,
      "outputs": [
        {
          "output_type": "execute_result",
          "data": {
            "text/plain": [
              "array([[1.        , 0.08829642, 0.05443557, ..., 0.01437993, 0.        ,\n",
              "        0.        ],\n",
              "       [0.08829642, 1.        , 0.08569243, ..., 0.01320484, 0.01533028,\n",
              "        0.01686698],\n",
              "       [0.05443557, 0.08569243, 1.        , ..., 0.01744481, 0.02025271,\n",
              "        0.06684848],\n",
              "       ...,\n",
              "       [0.01437993, 0.01320484, 0.01744481, ..., 1.        , 0.56175441,\n",
              "        0.7004728 ],\n",
              "       [0.        , 0.01533028, 0.02025271, ..., 0.56175441, 1.        ,\n",
              "        0.62187434],\n",
              "       [0.        , 0.01686698, 0.06684848, ..., 0.7004728 , 0.62187434,\n",
              "        1.        ]])"
            ]
          },
          "metadata": {},
          "execution_count": 12
        }
      ]
    },
    {
      "cell_type": "code",
      "source": [
        "similarity.shape"
      ],
      "metadata": {
        "colab": {
          "base_uri": "https://localhost:8080/"
        },
        "id": "OPcJe9TrzTJ7",
        "outputId": "9b9095e7-0292-485b-d798-ce1cab054712"
      },
      "id": "OPcJe9TrzTJ7",
      "execution_count": 13,
      "outputs": [
        {
          "output_type": "execute_result",
          "data": {
            "text/plain": [
              "(21552, 21552)"
            ]
          },
          "metadata": {},
          "execution_count": 13
        }
      ]
    },
    {
      "cell_type": "code",
      "source": [
        "# Find the index of the product in 'merged_df'\n",
        "product_index = merged_df[merged_df['name'] == 'USHA RapidMix 500-Watt Copper Motor Mixer Grinder with 3 Jars and 5 Years Warranty(Sea Green/White)'].index[0]\n",
        "\n",
        "# Calculate the cosine similarity distances for the specified product\n",
        "distances = similarity[product_index]\n",
        "\n",
        "# Sort and retrieve the top 5 similar products as a list of tuples\n",
        "product_list = sorted(list(enumerate(distances)), reverse=True, key=lambda x: x[1])[1:6]\n",
        "\n",
        "# Display the list of similar products\n",
        "product_list\n",
        "\n",
        "# Get the name of the product at index 44 in 'merged_df'\n",
        "merged_df.get('name')[44]"
      ],
      "metadata": {
        "colab": {
          "base_uri": "https://localhost:8080/"
        },
        "id": "KlRXxhfPzXkW",
        "outputId": "e0ac7a19-554e-446a-b894-26c120b6950c"
      },
      "id": "KlRXxhfPzXkW",
      "execution_count": 14,
      "outputs": [
        {
          "output_type": "execute_result",
          "data": {
            "text/plain": [
              "44    Organic Flannel Comforter Cover Collection, St...\n",
              "44    Room Air Purifier and Humidifier Aroma Diffuse...\n",
              "Name: name, dtype: object"
            ]
          },
          "metadata": {},
          "execution_count": 14
        }
      ]
    },
    {
      "cell_type": "code",
      "source": [
        "# Define a function to recommend similar products based on a given product name\n",
        "def recommend(product):\n",
        "    # Find the index of the given product in 'merged_df'\n",
        "    product_index = merged_df[merged_df['name'] == product].index[0]\n",
        "\n",
        "    # Calculate the cosine similarity distances for the specified product\n",
        "    distances = similarity[product_index]\n",
        "\n",
        "    # Sort and retrieve the top 5 similar products as a list of tuples\n",
        "    product_list = sorted(list(enumerate(distances)), reverse=True, key=lambda x: x[1])[1:6]\n",
        "\n",
        "    # Print the names of the recommended products\n",
        "    for i in product_list:\n",
        "        print(merged_df.get('name')[i[0]])\n"
      ],
      "metadata": {
        "id": "FyADDXaqzaIK"
      },
      "id": "FyADDXaqzaIK",
      "execution_count": 15,
      "outputs": []
    },
    {
      "cell_type": "code",
      "source": [
        "recommend('USHA RapidMix 500-Watt Copper Motor Mixer Grinder with 3 Jars and 5 Years Warranty(Sea Green/White)')"
      ],
      "metadata": {
        "colab": {
          "base_uri": "https://localhost:8080/"
        },
        "id": "7rFaeL_LzcV2",
        "outputId": "4bd44c21-dcef-47e8-f57a-3fc061bbd2d8"
      },
      "id": "7rFaeL_LzcV2",
      "execution_count": 16,
      "outputs": [
        {
          "output_type": "stream",
          "name": "stdout",
          "text": [
            "44    Organic Flannel Comforter Cover Collection, St...\n",
            "44    Room Air Purifier and Humidifier Aroma Diffuse...\n",
            "Name: name, dtype: object\n",
            "Kalt Men's Half Sleeves Mandarin Collar Cotton Blend T-Shirt (Dark Grey, White, Green)\n",
            "B&W Organic- Premium Cotton Polo T-Shirt - Red\n",
            "24                L.L.Bean Organic Flannel Tunic, Plaid\n",
            "24    Stylista Fully Automatic Top Load Washing Mach...\n",
            "Name: name, dtype: object\n",
            "8       Lakewashed® Organic Cotton Oxford Shirt, Plaid\n",
            "8    Black + Decker BD BXIR2201IN 2200-Watt Cord & ...\n",
            "Name: name, dtype: object\n"
          ]
        }
      ]
    },
    {
      "cell_type": "code",
      "source": [
        "merged_df.shape"
      ],
      "metadata": {
        "colab": {
          "base_uri": "https://localhost:8080/"
        },
        "id": "3JpUAwWmzcUL",
        "outputId": "31679237-e303-419c-c894-63d768de779a"
      },
      "id": "3JpUAwWmzcUL",
      "execution_count": 17,
      "outputs": [
        {
          "output_type": "execute_result",
          "data": {
            "text/plain": [
              "(21552, 7)"
            ]
          },
          "metadata": {},
          "execution_count": 17
        }
      ]
    },
    {
      "cell_type": "code",
      "source": [
        "# Import the pickle module\n",
        "import pickle\n",
        "\n",
        "# Serialize and save the merged DataFrame as a dictionary to a binary file\n",
        "pickle.dump(merged_df.to_dict(), open('products.pkl', 'wb'))\n",
        "\n",
        "# Serialize and save the similarity matrix to a binary file\n",
        "pickle.dump(similarity, open('similarity.pkl', 'wb'))\n"
      ],
      "metadata": {
        "id": "jrs0hbhgzewj"
      },
      "id": "jrs0hbhgzewj",
      "execution_count": 18,
      "outputs": []
    }
  ],
  "metadata": {
    "kernelspec": {
      "display_name": "Python 3 (ipykernel)",
      "language": "python",
      "name": "python3"
    },
    "language_info": {
      "codemirror_mode": {
        "name": "ipython",
        "version": 3
      },
      "file_extension": ".py",
      "mimetype": "text/x-python",
      "name": "python",
      "nbconvert_exporter": "python",
      "pygments_lexer": "ipython3",
      "version": "3.11.1"
    },
    "colab": {
      "provenance": [],
      "include_colab_link": true
    }
  },
  "nbformat": 4,
  "nbformat_minor": 5
}