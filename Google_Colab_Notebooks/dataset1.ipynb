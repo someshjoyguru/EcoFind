{
  "cells": [
    {
      "cell_type": "markdown",
      "metadata": {
        "id": "view-in-github",
        "colab_type": "text"
      },
      "source": [
        "<a href=\"https://colab.research.google.com/github/someshjoyguru/EcoFind/blob/main/Google_Colab_Notebooks/dataset1.ipynb\" target=\"_parent\"><img src=\"https://colab.research.google.com/assets/colab-badge.svg\" alt=\"Open In Colab\"/></a>"
      ]
    },
    {
      "cell_type": "code",
      "source": [
        "# Mount Google Drive for access\n",
        "from google.colab import drive\n",
        "drive.mount('/content/drive')\n",
        "\n",
        "# Change working directory to EcoTech\n",
        "%cd /content/drive/MyDrive/EcoTech"
      ],
      "metadata": {
        "colab": {
          "base_uri": "https://localhost:8080/"
        },
        "id": "apLFa6U3jEqQ",
        "outputId": "d31ae1c4-fc41-4af9-9a9c-a9212b1e9c09"
      },
      "id": "apLFa6U3jEqQ",
      "execution_count": 1,
      "outputs": [
        {
          "output_type": "stream",
          "name": "stdout",
          "text": [
            "Mounted at /content/drive\n",
            "/content/drive/MyDrive/EcoTech\n"
          ]
        }
      ]
    },
    {
      "cell_type": "code",
      "execution_count": 2,
      "id": "812c6b83",
      "metadata": {
        "id": "812c6b83"
      },
      "outputs": [],
      "source": [
        "# Import necessary libraries\n",
        "import pandas as pd  # For data manipulation\n",
        "import numpy as np   # For numerical operations\n",
        "import re            # For regular expressions"
      ]
    },
    {
      "cell_type": "code",
      "execution_count": 3,
      "id": "ee755143",
      "metadata": {
        "colab": {
          "base_uri": "https://localhost:8080/",
          "height": 1000
        },
        "id": "ee755143",
        "outputId": "6aace27b-1666-4104-fb00-37bf6b17436e"
      },
      "outputs": [
        {
          "output_type": "execute_result",
          "data": {
            "text/plain": [
              "                      colorname desc2  \\\n",
              "0  ['Slate Brown/Chili Pepper']    []   \n",
              "1                  ['Platinum']    []   \n",
              "2                    ['Walnut']    []   \n",
              "3                     ['Green']    []   \n",
              "4                            []    []   \n",
              "\n",
              "                                                                                                                                                                                                                                                description  \\\n",
              "0                                                                                                       ['These waterproof hiking boots for men are rugged enough for peak performance yet light and quick enough to keep feet from feeling weighed down.']   \n",
              "1   [\"The next level of weather protection. This light-up jacket resists the elements and keeps you visible in low-light conditions. From running, biking or walking the dog, the durable construction and innovative safety features won't let you down.\"]   \n",
              "2                                                                                                                                               ['Great grip and extra breathability make these Merrell ventilated hikers ideal for warm, dry conditions.']   \n",
              "3  [\"This lightweight fly rod delivers outstanding performance and can be used as either a traditional one-handed rod or as a two-handed spey rod. Two-handed technique is ideal for larger rivers and situations where there isn't space for a backcast.\"]   \n",
              "4                                                                                                                      ['Add a pop of paddling fun to your bed, chair or sofa with this whimsical throw pillow, handhooked on front for a timeless style.']   \n",
              "\n",
              "  fit                                                        fitinfo  \\\n",
              "0  []                                                             []   \n",
              "1  []  ['Slightly Fitted: Softly shapes the body.', 'Falls at hip.']   \n",
              "2  []                                                             []   \n",
              "3  []                   ['3 Sizes: 12\\'6\" 7wt, 13\\' 8wt, 14\\' 9wt.']   \n",
              "4  []                                                             []   \n",
              "\n",
              "                                                                                                                                                                                                                                                                                                                                                                                                                                                                                                                                                                                                                                                                                                                                                                                                                                                                                                             fulldescription  \\\n",
              "0                                                                                                                                  ['These waterproof hiking boots for men are rugged enough for peak performance yet light and quick enough to keep feet from feeling weighed down.', 'Specs', 'Approx. Weight: 2 lb. 8 oz. per pair.', 'Construction', 'Nubuck leather and abrasion-resistant mesh upper offer durability and breathability.', 'Designed with a dual-density footbed and molded EVA midsole for athletic-shoe comfort and support.', \"Lined with UltraDry waterproof technology to make sure moisture can get out and water can't come in.\", 'Molded TPU shank enhances stability for more control.', 'Vibram Nuasi outsole with XSTrek rubber compound grips on the most challenging terrain.', 'Padded tongue and collar add to the comfort and fit.', 'Imported.', 'Questions?', 'Chat with an Expert']   \n",
              "1  [\"The next level of weather protection. This light-up jacket resists the elements and keeps you visible in low-light conditions. From running, biking or walking the dog, the durable construction and innovative safety features won't let you down.\", 'Size & Fit', 'Slightly Fitted: Softly shapes the body.', 'Falls at hip.', 'Fabric & Care', 'Lightweight, abrasion-resistant 100% nylon.', 'Machine wash and dry.', 'Additional Features', 'Wind- and water-resistant fabric actively repels the elements and regulates moisture.', 'Features two removable, battery-operated LED strips for high visibility.', 'LED strips offer blinking mode for 150 hours and solid mode 75 hours.', 'Reflective trims on front zipper, pockets, right chest and upper back provide extra visibility.', 'Two zippered side pockets.', 'Internal adjustability at the hem.', 'Imported.', 'Questions?', 'Chat with an Expert']   \n",
              "2                                                                                                   ['Great grip and extra breathability make these Merrell ventilated hikers ideal for warm, dry conditions.', 'Specs', 'Approx. weight: 1 lb. 8 oz. per pair.', 'Construction', 'Performance suede leather and mesh upper.', 'Lined with breathable mesh that wicks moisture away.', 'Rubber toe cap and heel counter add protection and make it easy to clean off mud.', 'Ventilated bellows tongue enhances breathability and keeps debris out.', 'Blended EVA contoured footbed, molded nylon arch shank and molded footframe cushion every step.', 'Footbed treated to control odor organically.', 'Air inserts under the heel help absorb shock and enhance stability.', 'Durable Vibram® Multi-Sport™ TC5+ rubber outsole with 5mm lugs provides tenacious grip.', 'Imported.', 'Questions?', 'Chat with an Expert']   \n",
              "3                                                                            [\"This lightweight fly rod delivers outstanding performance and can be used as either a traditional one-handed rod or as a two-handed spey rod. Two-handed technique is ideal for larger rivers and situations where there isn't space for a backcast.\", 'Size & Fit', '3 Sizes: 12\\'6\" 7wt, 13\\' 8wt, 14\\' 9wt.', 'Construction', 'Graphite rod blank with advanced resin technology.', 'Titanium snake guides and two stripper guides with ceramic inserts.', 'Additional Features', 'Easy to cast, medium-fast action fly rod is easy to learn with yet grows with you.', '4-piece design for easy travel and storage.', 'Alignment line and dot at each ferrule for ease of assembly.', 'Includes lightweight, rugged nylon-covered fiberglass rod tube with built in section dividers.', 'Imported.', 'Questions?', 'Chat with an Expert']   \n",
              "4                                                                                                                                                                                                                                                                                                                                                                                                                                                                                   ['Add a pop of paddling fun to your bed, chair or sofa with this whimsical throw pillow, handhooked on front for a timeless style.', 'Specs', 'Dimensions 8\" x 12\".', 'Fabric & Care', '100% wool front.', '100% cotton velveteen back.', '100% polyester insert.', 'Spot clean.', 'Additional Features', 'Wool yarns are hand hooked on front to create design.', 'Removable cover.', 'Imported.', 'Questions?', 'Chat with an Expert']   \n",
              "\n",
              "                                              name  \\\n",
              "0  Men's Vasque Talus Trek Waterproof Hiking Boots   \n",
              "1             Ridge Runner Light-Up Running Jacket   \n",
              "2      Men's Merrell Moab 2 Ventilated Trail Shoes   \n",
              "3             Streamlight Ultra II Switch Fly Rods   \n",
              "4         Wool Hooked Throw Pillow, Wooden Paddles   \n",
              "\n",
              "                                                                                                                                                                url  \\\n",
              "0  https://www.llbean.com/llb/shop/89822?page=men-s-vasque-talus-trek-waterproof-hiking-boots&bc=29-915&feat=915-gn0&csp=f&attrvalue_0=slate%20brown/chili%20pepper   \n",
              "1                   https://www.llbean.com/llb/shop/119583?page=ridge-runner-light-up-running-jacket&bc=32-516686-302-6703&feat=6703-gn3&csp=s&attrvalue_0=platinum   \n",
              "2                        https://www.llbean.com/llb/shop/116740?page=men-s-merrell-moab-2-ventilated-trail-shoes&bc=512576&feat=512576-gn1&csp=a&attrvalue_0=walnut   \n",
              "3                          https://www.llbean.com/llb/shop/121908?page=streamlight-ultra-ii-switch-fly-rod&bc=511742-511747&feat=511747-gn1&csp=a&attrvalue_0=green   \n",
              "4                                        https://www.llbean.com/llb/shop/122223?page=wool-hooked-throw-pillow-wooden-paddles&bc=516761-516271&feat=516271-gn3&csp=a   \n",
              "\n",
              "  Classification  \n",
              "0          Boots  \n",
              "1        Jackets  \n",
              "2          Shoes  \n",
              "3  Fishing Tools  \n",
              "4        Pillows  "
            ],
            "text/html": [
              "\n",
              "  <div id=\"df-3d5073a2-12b7-4385-bbae-d083058c7a79\" class=\"colab-df-container\">\n",
              "    <div>\n",
              "<style scoped>\n",
              "    .dataframe tbody tr th:only-of-type {\n",
              "        vertical-align: middle;\n",
              "    }\n",
              "\n",
              "    .dataframe tbody tr th {\n",
              "        vertical-align: top;\n",
              "    }\n",
              "\n",
              "    .dataframe thead th {\n",
              "        text-align: right;\n",
              "    }\n",
              "</style>\n",
              "<table border=\"1\" class=\"dataframe\">\n",
              "  <thead>\n",
              "    <tr style=\"text-align: right;\">\n",
              "      <th></th>\n",
              "      <th>colorname</th>\n",
              "      <th>desc2</th>\n",
              "      <th>description</th>\n",
              "      <th>fit</th>\n",
              "      <th>fitinfo</th>\n",
              "      <th>fulldescription</th>\n",
              "      <th>name</th>\n",
              "      <th>url</th>\n",
              "      <th>Classification</th>\n",
              "    </tr>\n",
              "  </thead>\n",
              "  <tbody>\n",
              "    <tr>\n",
              "      <th>0</th>\n",
              "      <td>['Slate Brown/Chili Pepper']</td>\n",
              "      <td>[]</td>\n",
              "      <td>['These waterproof hiking boots for men are rugged enough for peak performance yet light and quick enough to keep feet from feeling weighed down.']</td>\n",
              "      <td>[]</td>\n",
              "      <td>[]</td>\n",
              "      <td>['These waterproof hiking boots for men are rugged enough for peak performance yet light and quick enough to keep feet from feeling weighed down.', 'Specs', 'Approx. Weight: 2 lb. 8 oz. per pair.', 'Construction', 'Nubuck leather and abrasion-resistant mesh upper offer durability and breathability.', 'Designed with a dual-density footbed and molded EVA midsole for athletic-shoe comfort and support.', \"Lined with UltraDry waterproof technology to make sure moisture can get out and water can't come in.\", 'Molded TPU shank enhances stability for more control.', 'Vibram Nuasi outsole with XSTrek rubber compound grips on the most challenging terrain.', 'Padded tongue and collar add to the comfort and fit.', 'Imported.', 'Questions?', 'Chat with an Expert']</td>\n",
              "      <td>Men's Vasque Talus Trek Waterproof Hiking Boots</td>\n",
              "      <td>https://www.llbean.com/llb/shop/89822?page=men-s-vasque-talus-trek-waterproof-hiking-boots&amp;bc=29-915&amp;feat=915-gn0&amp;csp=f&amp;attrvalue_0=slate%20brown/chili%20pepper</td>\n",
              "      <td>Boots</td>\n",
              "    </tr>\n",
              "    <tr>\n",
              "      <th>1</th>\n",
              "      <td>['Platinum']</td>\n",
              "      <td>[]</td>\n",
              "      <td>[\"The next level of weather protection. This light-up jacket resists the elements and keeps you visible in low-light conditions. From running, biking or walking the dog, the durable construction and innovative safety features won't let you down.\"]</td>\n",
              "      <td>[]</td>\n",
              "      <td>['Slightly Fitted: Softly shapes the body.', 'Falls at hip.']</td>\n",
              "      <td>[\"The next level of weather protection. This light-up jacket resists the elements and keeps you visible in low-light conditions. From running, biking or walking the dog, the durable construction and innovative safety features won't let you down.\", 'Size &amp; Fit', 'Slightly Fitted: Softly shapes the body.', 'Falls at hip.', 'Fabric &amp; Care', 'Lightweight, abrasion-resistant 100% nylon.', 'Machine wash and dry.', 'Additional Features', 'Wind- and water-resistant fabric actively repels the elements and regulates moisture.', 'Features two removable, battery-operated LED strips for high visibility.', 'LED strips offer blinking mode for 150 hours and solid mode 75 hours.', 'Reflective trims on front zipper, pockets, right chest and upper back provide extra visibility.', 'Two zippered side pockets.', 'Internal adjustability at the hem.', 'Imported.', 'Questions?', 'Chat with an Expert']</td>\n",
              "      <td>Ridge Runner Light-Up Running Jacket</td>\n",
              "      <td>https://www.llbean.com/llb/shop/119583?page=ridge-runner-light-up-running-jacket&amp;bc=32-516686-302-6703&amp;feat=6703-gn3&amp;csp=s&amp;attrvalue_0=platinum</td>\n",
              "      <td>Jackets</td>\n",
              "    </tr>\n",
              "    <tr>\n",
              "      <th>2</th>\n",
              "      <td>['Walnut']</td>\n",
              "      <td>[]</td>\n",
              "      <td>['Great grip and extra breathability make these Merrell ventilated hikers ideal for warm, dry conditions.']</td>\n",
              "      <td>[]</td>\n",
              "      <td>[]</td>\n",
              "      <td>['Great grip and extra breathability make these Merrell ventilated hikers ideal for warm, dry conditions.', 'Specs', 'Approx. weight: 1 lb. 8 oz. per pair.', 'Construction', 'Performance suede leather and mesh upper.', 'Lined with breathable mesh that wicks moisture away.', 'Rubber toe cap and heel counter add protection and make it easy to clean off mud.', 'Ventilated bellows tongue enhances breathability and keeps debris out.', 'Blended EVA contoured footbed, molded nylon arch shank and molded footframe cushion every step.', 'Footbed treated to control odor organically.', 'Air inserts under the heel help absorb shock and enhance stability.', 'Durable Vibram® Multi-Sport™ TC5+ rubber outsole with 5mm lugs provides tenacious grip.', 'Imported.', 'Questions?', 'Chat with an Expert']</td>\n",
              "      <td>Men's Merrell Moab 2 Ventilated Trail Shoes</td>\n",
              "      <td>https://www.llbean.com/llb/shop/116740?page=men-s-merrell-moab-2-ventilated-trail-shoes&amp;bc=512576&amp;feat=512576-gn1&amp;csp=a&amp;attrvalue_0=walnut</td>\n",
              "      <td>Shoes</td>\n",
              "    </tr>\n",
              "    <tr>\n",
              "      <th>3</th>\n",
              "      <td>['Green']</td>\n",
              "      <td>[]</td>\n",
              "      <td>[\"This lightweight fly rod delivers outstanding performance and can be used as either a traditional one-handed rod or as a two-handed spey rod. Two-handed technique is ideal for larger rivers and situations where there isn't space for a backcast.\"]</td>\n",
              "      <td>[]</td>\n",
              "      <td>['3 Sizes: 12\\'6\" 7wt, 13\\' 8wt, 14\\' 9wt.']</td>\n",
              "      <td>[\"This lightweight fly rod delivers outstanding performance and can be used as either a traditional one-handed rod or as a two-handed spey rod. Two-handed technique is ideal for larger rivers and situations where there isn't space for a backcast.\", 'Size &amp; Fit', '3 Sizes: 12\\'6\" 7wt, 13\\' 8wt, 14\\' 9wt.', 'Construction', 'Graphite rod blank with advanced resin technology.', 'Titanium snake guides and two stripper guides with ceramic inserts.', 'Additional Features', 'Easy to cast, medium-fast action fly rod is easy to learn with yet grows with you.', '4-piece design for easy travel and storage.', 'Alignment line and dot at each ferrule for ease of assembly.', 'Includes lightweight, rugged nylon-covered fiberglass rod tube with built in section dividers.', 'Imported.', 'Questions?', 'Chat with an Expert']</td>\n",
              "      <td>Streamlight Ultra II Switch Fly Rods</td>\n",
              "      <td>https://www.llbean.com/llb/shop/121908?page=streamlight-ultra-ii-switch-fly-rod&amp;bc=511742-511747&amp;feat=511747-gn1&amp;csp=a&amp;attrvalue_0=green</td>\n",
              "      <td>Fishing Tools</td>\n",
              "    </tr>\n",
              "    <tr>\n",
              "      <th>4</th>\n",
              "      <td>[]</td>\n",
              "      <td>[]</td>\n",
              "      <td>['Add a pop of paddling fun to your bed, chair or sofa with this whimsical throw pillow, handhooked on front for a timeless style.']</td>\n",
              "      <td>[]</td>\n",
              "      <td>[]</td>\n",
              "      <td>['Add a pop of paddling fun to your bed, chair or sofa with this whimsical throw pillow, handhooked on front for a timeless style.', 'Specs', 'Dimensions 8\" x 12\".', 'Fabric &amp; Care', '100% wool front.', '100% cotton velveteen back.', '100% polyester insert.', 'Spot clean.', 'Additional Features', 'Wool yarns are hand hooked on front to create design.', 'Removable cover.', 'Imported.', 'Questions?', 'Chat with an Expert']</td>\n",
              "      <td>Wool Hooked Throw Pillow, Wooden Paddles</td>\n",
              "      <td>https://www.llbean.com/llb/shop/122223?page=wool-hooked-throw-pillow-wooden-paddles&amp;bc=516761-516271&amp;feat=516271-gn3&amp;csp=a</td>\n",
              "      <td>Pillows</td>\n",
              "    </tr>\n",
              "  </tbody>\n",
              "</table>\n",
              "</div>\n",
              "    <div class=\"colab-df-buttons\">\n",
              "\n",
              "  <div class=\"colab-df-container\">\n",
              "    <button class=\"colab-df-convert\" onclick=\"convertToInteractive('df-3d5073a2-12b7-4385-bbae-d083058c7a79')\"\n",
              "            title=\"Convert this dataframe to an interactive table.\"\n",
              "            style=\"display:none;\">\n",
              "\n",
              "  <svg xmlns=\"http://www.w3.org/2000/svg\" height=\"24px\" viewBox=\"0 -960 960 960\">\n",
              "    <path d=\"M120-120v-720h720v720H120Zm60-500h600v-160H180v160Zm220 220h160v-160H400v160Zm0 220h160v-160H400v160ZM180-400h160v-160H180v160Zm440 0h160v-160H620v160ZM180-180h160v-160H180v160Zm440 0h160v-160H620v160Z\"/>\n",
              "  </svg>\n",
              "    </button>\n",
              "\n",
              "  <style>\n",
              "    .colab-df-container {\n",
              "      display:flex;\n",
              "      gap: 12px;\n",
              "    }\n",
              "\n",
              "    .colab-df-convert {\n",
              "      background-color: #E8F0FE;\n",
              "      border: none;\n",
              "      border-radius: 50%;\n",
              "      cursor: pointer;\n",
              "      display: none;\n",
              "      fill: #1967D2;\n",
              "      height: 32px;\n",
              "      padding: 0 0 0 0;\n",
              "      width: 32px;\n",
              "    }\n",
              "\n",
              "    .colab-df-convert:hover {\n",
              "      background-color: #E2EBFA;\n",
              "      box-shadow: 0px 1px 2px rgba(60, 64, 67, 0.3), 0px 1px 3px 1px rgba(60, 64, 67, 0.15);\n",
              "      fill: #174EA6;\n",
              "    }\n",
              "\n",
              "    .colab-df-buttons div {\n",
              "      margin-bottom: 4px;\n",
              "    }\n",
              "\n",
              "    [theme=dark] .colab-df-convert {\n",
              "      background-color: #3B4455;\n",
              "      fill: #D2E3FC;\n",
              "    }\n",
              "\n",
              "    [theme=dark] .colab-df-convert:hover {\n",
              "      background-color: #434B5C;\n",
              "      box-shadow: 0px 1px 3px 1px rgba(0, 0, 0, 0.15);\n",
              "      filter: drop-shadow(0px 1px 2px rgba(0, 0, 0, 0.3));\n",
              "      fill: #FFFFFF;\n",
              "    }\n",
              "  </style>\n",
              "\n",
              "    <script>\n",
              "      const buttonEl =\n",
              "        document.querySelector('#df-3d5073a2-12b7-4385-bbae-d083058c7a79 button.colab-df-convert');\n",
              "      buttonEl.style.display =\n",
              "        google.colab.kernel.accessAllowed ? 'block' : 'none';\n",
              "\n",
              "      async function convertToInteractive(key) {\n",
              "        const element = document.querySelector('#df-3d5073a2-12b7-4385-bbae-d083058c7a79');\n",
              "        const dataTable =\n",
              "          await google.colab.kernel.invokeFunction('convertToInteractive',\n",
              "                                                    [key], {});\n",
              "        if (!dataTable) return;\n",
              "\n",
              "        const docLinkHtml = 'Like what you see? Visit the ' +\n",
              "          '<a target=\"_blank\" href=https://colab.research.google.com/notebooks/data_table.ipynb>data table notebook</a>'\n",
              "          + ' to learn more about interactive tables.';\n",
              "        element.innerHTML = '';\n",
              "        dataTable['output_type'] = 'display_data';\n",
              "        await google.colab.output.renderOutput(dataTable, element);\n",
              "        const docLink = document.createElement('div');\n",
              "        docLink.innerHTML = docLinkHtml;\n",
              "        element.appendChild(docLink);\n",
              "      }\n",
              "    </script>\n",
              "  </div>\n",
              "\n",
              "\n",
              "<div id=\"df-18d7a04a-ff44-4614-9d7b-8e9dda205dbe\">\n",
              "  <button class=\"colab-df-quickchart\" onclick=\"quickchart('df-18d7a04a-ff44-4614-9d7b-8e9dda205dbe')\"\n",
              "            title=\"Suggest charts.\"\n",
              "            style=\"display:none;\">\n",
              "\n",
              "<svg xmlns=\"http://www.w3.org/2000/svg\" height=\"24px\"viewBox=\"0 0 24 24\"\n",
              "     width=\"24px\">\n",
              "    <g>\n",
              "        <path d=\"M19 3H5c-1.1 0-2 .9-2 2v14c0 1.1.9 2 2 2h14c1.1 0 2-.9 2-2V5c0-1.1-.9-2-2-2zM9 17H7v-7h2v7zm4 0h-2V7h2v10zm4 0h-2v-4h2v4z\"/>\n",
              "    </g>\n",
              "</svg>\n",
              "  </button>\n",
              "\n",
              "<style>\n",
              "  .colab-df-quickchart {\n",
              "      --bg-color: #E8F0FE;\n",
              "      --fill-color: #1967D2;\n",
              "      --hover-bg-color: #E2EBFA;\n",
              "      --hover-fill-color: #174EA6;\n",
              "      --disabled-fill-color: #AAA;\n",
              "      --disabled-bg-color: #DDD;\n",
              "  }\n",
              "\n",
              "  [theme=dark] .colab-df-quickchart {\n",
              "      --bg-color: #3B4455;\n",
              "      --fill-color: #D2E3FC;\n",
              "      --hover-bg-color: #434B5C;\n",
              "      --hover-fill-color: #FFFFFF;\n",
              "      --disabled-bg-color: #3B4455;\n",
              "      --disabled-fill-color: #666;\n",
              "  }\n",
              "\n",
              "  .colab-df-quickchart {\n",
              "    background-color: var(--bg-color);\n",
              "    border: none;\n",
              "    border-radius: 50%;\n",
              "    cursor: pointer;\n",
              "    display: none;\n",
              "    fill: var(--fill-color);\n",
              "    height: 32px;\n",
              "    padding: 0;\n",
              "    width: 32px;\n",
              "  }\n",
              "\n",
              "  .colab-df-quickchart:hover {\n",
              "    background-color: var(--hover-bg-color);\n",
              "    box-shadow: 0 1px 2px rgba(60, 64, 67, 0.3), 0 1px 3px 1px rgba(60, 64, 67, 0.15);\n",
              "    fill: var(--button-hover-fill-color);\n",
              "  }\n",
              "\n",
              "  .colab-df-quickchart-complete:disabled,\n",
              "  .colab-df-quickchart-complete:disabled:hover {\n",
              "    background-color: var(--disabled-bg-color);\n",
              "    fill: var(--disabled-fill-color);\n",
              "    box-shadow: none;\n",
              "  }\n",
              "\n",
              "  .colab-df-spinner {\n",
              "    border: 2px solid var(--fill-color);\n",
              "    border-color: transparent;\n",
              "    border-bottom-color: var(--fill-color);\n",
              "    animation:\n",
              "      spin 1s steps(1) infinite;\n",
              "  }\n",
              "\n",
              "  @keyframes spin {\n",
              "    0% {\n",
              "      border-color: transparent;\n",
              "      border-bottom-color: var(--fill-color);\n",
              "      border-left-color: var(--fill-color);\n",
              "    }\n",
              "    20% {\n",
              "      border-color: transparent;\n",
              "      border-left-color: var(--fill-color);\n",
              "      border-top-color: var(--fill-color);\n",
              "    }\n",
              "    30% {\n",
              "      border-color: transparent;\n",
              "      border-left-color: var(--fill-color);\n",
              "      border-top-color: var(--fill-color);\n",
              "      border-right-color: var(--fill-color);\n",
              "    }\n",
              "    40% {\n",
              "      border-color: transparent;\n",
              "      border-right-color: var(--fill-color);\n",
              "      border-top-color: var(--fill-color);\n",
              "    }\n",
              "    60% {\n",
              "      border-color: transparent;\n",
              "      border-right-color: var(--fill-color);\n",
              "    }\n",
              "    80% {\n",
              "      border-color: transparent;\n",
              "      border-right-color: var(--fill-color);\n",
              "      border-bottom-color: var(--fill-color);\n",
              "    }\n",
              "    90% {\n",
              "      border-color: transparent;\n",
              "      border-bottom-color: var(--fill-color);\n",
              "    }\n",
              "  }\n",
              "</style>\n",
              "\n",
              "  <script>\n",
              "    async function quickchart(key) {\n",
              "      const quickchartButtonEl =\n",
              "        document.querySelector('#' + key + ' button');\n",
              "      quickchartButtonEl.disabled = true;  // To prevent multiple clicks.\n",
              "      quickchartButtonEl.classList.add('colab-df-spinner');\n",
              "      try {\n",
              "        const charts = await google.colab.kernel.invokeFunction(\n",
              "            'suggestCharts', [key], {});\n",
              "      } catch (error) {\n",
              "        console.error('Error during call to suggestCharts:', error);\n",
              "      }\n",
              "      quickchartButtonEl.classList.remove('colab-df-spinner');\n",
              "      quickchartButtonEl.classList.add('colab-df-quickchart-complete');\n",
              "    }\n",
              "    (() => {\n",
              "      let quickchartButtonEl =\n",
              "        document.querySelector('#df-18d7a04a-ff44-4614-9d7b-8e9dda205dbe button');\n",
              "      quickchartButtonEl.style.display =\n",
              "        google.colab.kernel.accessAllowed ? 'block' : 'none';\n",
              "    })();\n",
              "  </script>\n",
              "</div>\n",
              "    </div>\n",
              "  </div>\n"
            ]
          },
          "metadata": {},
          "execution_count": 3
        }
      ],
      "source": [
        "# Read the CSV file into a DataFrame\n",
        "df = pd.read_csv(\"dataset_final/productsclassified.csv\")\n",
        "\n",
        "# Set an option to display the full column width\n",
        "pd.set_option('display.max_colwidth', None)\n",
        "\n",
        "# Display the first few rows of the DataFrame\n",
        "df.head()\n",
        "\n",
        "# Create a new DataFrame 'final_dataset' by dropping the 'itemid' column\n",
        "final_dataset = df.drop(['itemid'], axis=1)\n",
        "\n",
        "# Display the first few rows of the 'final_dataset'\n",
        "final_dataset.head()"
      ]
    },
    {
      "cell_type": "code",
      "execution_count": 4,
      "id": "caa7010c",
      "metadata": {
        "id": "caa7010c"
      },
      "outputs": [],
      "source": [
        "def clean_and_split(text):\n",
        "    # Remove non-alphanumeric characters and convert to lowercase\n",
        "    cleaned_text = re.sub(r'[^a-zA-Z0-9\\s]', '', str(text).lower())\n",
        "    # Split into sentences (assuming sentences are separated by '.')\n",
        "    sentences = cleaned_text.split('.')\n",
        "    # Remove empty sentences\n",
        "    sentences = [sentence.strip() for sentence in sentences if sentence.strip()]\n",
        "    # Join the sentences into a long sentence with space-separated words\n",
        "    long_sentence = ' '.join(sentences)\n",
        "    return long_sentence"
      ]
    },
    {
      "cell_type": "code",
      "execution_count": 5,
      "id": "5b252771",
      "metadata": {
        "scrolled": true,
        "colab": {
          "base_uri": "https://localhost:8080/"
        },
        "id": "5b252771",
        "outputId": "3cdac7fc-a674-44e3-a55d-7f66193f67b6"
      },
      "outputs": [
        {
          "output_type": "stream",
          "name": "stdout",
          "text": [
            "<class 'pandas.core.frame.DataFrame'>\n",
            "RangeIndex: 247 entries, 0 to 246\n",
            "Data columns (total 9 columns):\n",
            " #   Column           Non-Null Count  Dtype \n",
            "---  ------           --------------  ----- \n",
            " 0   colorname        247 non-null    object\n",
            " 1   desc2            247 non-null    object\n",
            " 2   description      247 non-null    object\n",
            " 3   fit              247 non-null    object\n",
            " 4   fitinfo          247 non-null    object\n",
            " 5   fulldescription  247 non-null    object\n",
            " 6   name             247 non-null    object\n",
            " 7   url              247 non-null    object\n",
            " 8   Classification   247 non-null    object\n",
            "dtypes: object(9)\n",
            "memory usage: 17.5+ KB\n"
          ]
        }
      ],
      "source": [
        "# Apply the clean_and_split function to specific columns in the DataFrame\n",
        "final_dataset['description'] = final_dataset['description'].apply(clean_and_split)\n",
        "final_dataset['fulldescription'] = final_dataset['fulldescription'].apply(clean_and_split)\n",
        "final_dataset['desc2'] = final_dataset['desc2'].apply(clean_and_split)\n",
        "final_dataset['colorname'] = final_dataset['colorname'].apply(clean_and_split)\n",
        "final_dataset['fit'] = final_dataset['fit'].apply(clean_and_split)\n",
        "final_dataset['fitinfo'] = final_dataset['fitinfo'].apply(clean_and_split)\n",
        "\n",
        "# Display the modified DataFrame information\n",
        "final_dataset.info()"
      ]
    },
    {
      "cell_type": "code",
      "execution_count": 6,
      "id": "444b546d",
      "metadata": {
        "colab": {
          "base_uri": "https://localhost:8080/"
        },
        "id": "444b546d",
        "outputId": "94dd50c6-4423-4473-c81e-9b9712406009"
      },
      "outputs": [
        {
          "output_type": "stream",
          "name": "stdout",
          "text": [
            "<class 'pandas.core.frame.DataFrame'>\n",
            "RangeIndex: 247 entries, 0 to 246\n",
            "Data columns (total 4 columns):\n",
            " #   Column          Non-Null Count  Dtype \n",
            "---  ------          --------------  ----- \n",
            " 0   name            247 non-null    object\n",
            " 1   url             247 non-null    object\n",
            " 2   Classification  247 non-null    object\n",
            " 3   tags            247 non-null    object\n",
            "dtypes: object(4)\n",
            "memory usage: 7.8+ KB\n"
          ]
        }
      ],
      "source": [
        "# Define a function to concatenate non-empty values from multiple columns\n",
        "def concatenate_columns(row):\n",
        "    concatenated_values = []\n",
        "\n",
        "    # Loop through columns and add non-empty values to the list\n",
        "    columns_to_concatenate = ['colorname', 'desc2', 'description', 'fit', 'fitinfo', 'fulldescription', 'name', 'Classification']\n",
        "    for column in columns_to_concatenate:\n",
        "        if not pd.isna(row[column]) and row[column].strip():\n",
        "            concatenated_values.append(row[column])\n",
        "\n",
        "    # Join the non-empty values with space-separated words\n",
        "    tags = ' '.join(concatenated_values)\n",
        "\n",
        "    return tags\n",
        "\n",
        "# Apply the function to create the 'tags' column for each row\n",
        "final_dataset['tags'] = final_dataset.apply(concatenate_columns, axis=1)\n",
        "\n",
        "# Select the columns you need in the final DataFrame\n",
        "final_dataset = final_dataset[['name', 'url', 'Classification', 'tags']]\n",
        "\n",
        "# Display the modified DataFrame information\n",
        "final_dataset.info()\n"
      ]
    },
    {
      "cell_type": "code",
      "execution_count": 7,
      "id": "ea95fa3c",
      "metadata": {
        "id": "ea95fa3c"
      },
      "outputs": [],
      "source": [
        "# Import the 'eco_friendly_words' module\n",
        "import eco_friendly_words\n",
        "\n",
        "# Access the list of eco-friendly keywords\n",
        "eco_friendly_keywords = eco_friendly_words.eco_friendly_words\n"
      ]
    },
    {
      "cell_type": "code",
      "execution_count": 8,
      "id": "237a288b",
      "metadata": {
        "id": "237a288b"
      },
      "outputs": [],
      "source": [
        "# Set default values for 'ratings', 'no_of_ratings', and 'Image' columns\n",
        "final_dataset['ratings'] = 'No ratings available'\n",
        "final_dataset['no_of_ratings'] = 0\n",
        "final_dataset['Image'] = ''"
      ]
    },
    {
      "cell_type": "code",
      "execution_count": 9,
      "id": "8fe3ffa1",
      "metadata": {
        "colab": {
          "base_uri": "https://localhost:8080/"
        },
        "id": "8fe3ffa1",
        "outputId": "3ebbb674-785c-4c83-9b4a-a7791d550683"
      },
      "outputs": [
        {
          "output_type": "stream",
          "name": "stdout",
          "text": [
            "<class 'pandas.core.frame.DataFrame'>\n",
            "RangeIndex: 66 entries, 0 to 65\n",
            "Data columns (total 7 columns):\n",
            " #   Column          Non-Null Count  Dtype \n",
            "---  ------          --------------  ----- \n",
            " 0   name            66 non-null     object\n",
            " 1   url             66 non-null     object\n",
            " 2   Classification  66 non-null     object\n",
            " 3   tags            66 non-null     object\n",
            " 4   ratings         66 non-null     object\n",
            " 5   no_of_ratings   66 non-null     int64 \n",
            " 6   Image           66 non-null     object\n",
            "dtypes: int64(1), object(6)\n",
            "memory usage: 3.7+ KB\n"
          ]
        }
      ],
      "source": [
        "# Create a regex pattern by joining eco-friendly keywords with '|'\n",
        "pattern = '|'.join(eco_friendly_keywords)\n",
        "\n",
        "# Filter rows containing eco-friendly keywords using str.contains()\n",
        "filtered_dataset = final_dataset[final_dataset['tags'].str.contains(pattern, case=False, na=False)]\n",
        "\n",
        "# Reset the index of the filtered DataFrame\n",
        "dataset1 = filtered_dataset.reset_index(drop=True)\n",
        "\n",
        "# Display information about the filtered DataFrame\n",
        "dataset1.info()"
      ]
    },
    {
      "cell_type": "code",
      "execution_count": 10,
      "id": "05a82b0e",
      "metadata": {
        "colab": {
          "base_uri": "https://localhost:8080/"
        },
        "id": "05a82b0e",
        "outputId": "60399161-5b79-4e19-8857-b03447187e13"
      },
      "outputs": [
        {
          "output_type": "execute_result",
          "data": {
            "text/plain": [
              "(66, 7)"
            ]
          },
          "metadata": {},
          "execution_count": 10
        }
      ],
      "source": [
        "dataset1.shape"
      ]
    },
    {
      "cell_type": "code",
      "execution_count": 11,
      "id": "1fb18ea3",
      "metadata": {
        "colab": {
          "base_uri": "https://localhost:8080/",
          "height": 123
        },
        "id": "1fb18ea3",
        "outputId": "4e3626d2-c915-42fb-bf63-3106634a9567"
      },
      "outputs": [
        {
          "output_type": "execute_result",
          "data": {
            "text/plain": [
              "'green this lightweight fly rod delivers outstanding performance and can be used as either a traditional onehanded rod or as a twohanded spey rod twohanded technique is ideal for larger rivers and situations where there isnt space for a backcast 3 sizes 126 7wt 13 8wt 14 9wt this lightweight fly rod delivers outstanding performance and can be used as either a traditional onehanded rod or as a twohanded spey rod twohanded technique is ideal for larger rivers and situations where there isnt space for a backcast size  fit 3 sizes 126 7wt 13 8wt 14 9wt construction graphite rod blank with advanced resin technology titanium snake guides and two stripper guides with ceramic inserts additional features easy to cast mediumfast action fly rod is easy to learn with yet grows with you 4piece design for easy travel and storage alignment line and dot at each ferrule for ease of assembly includes lightweight rugged nyloncovered fiberglass rod tube with built in section dividers imported questions chat with an expert Streamlight Ultra II Switch Fly Rods Fishing Tools'"
            ],
            "application/vnd.google.colaboratory.intrinsic+json": {
              "type": "string"
            }
          },
          "metadata": {},
          "execution_count": 11
        }
      ],
      "source": [
        "dataset1['tags'][1]"
      ]
    },
    {
      "cell_type": "code",
      "execution_count": 12,
      "id": "aec95d24",
      "metadata": {
        "id": "aec95d24"
      },
      "outputs": [],
      "source": [
        "# Import the CountVectorizer module from scikit-learn\n",
        "from sklearn.feature_extraction.text import CountVectorizer\n",
        "\n",
        "# Create a CountVectorizer with a maximum of 300 features and English stop words\n",
        "cv = CountVectorizer(max_features=300, stop_words='english')\n"
      ]
    },
    {
      "cell_type": "code",
      "execution_count": 13,
      "id": "51093b65",
      "metadata": {
        "id": "51093b65"
      },
      "outputs": [],
      "source": [
        "# Transform the 'tags' column of the filtered dataset into a feature vector\n",
        "vector = cv.fit_transform(dataset1['tags']).toarray()"
      ]
    },
    {
      "cell_type": "code",
      "execution_count": 14,
      "id": "e2b89498",
      "metadata": {
        "scrolled": true,
        "colab": {
          "base_uri": "https://localhost:8080/"
        },
        "id": "e2b89498",
        "outputId": "d7b7b5d2-3827-44a2-a186-75e61224664b"
      },
      "outputs": [
        {
          "output_type": "execute_result",
          "data": {
            "text/plain": [
              "array([0, 0, 0, 0, 0, 0, 0, 0, 0, 0, 0, 0, 1, 0, 1, 0, 0, 0, 0, 0, 0, 0,\n",
              "       0, 0, 0, 1, 0, 0, 0, 0, 0, 0, 0, 1, 0, 0, 0, 1, 0, 0, 0, 0, 0, 2,\n",
              "       1, 1, 0, 0, 0, 0, 0, 0, 0, 0, 0, 0, 0, 0, 0, 0, 0, 0, 0, 0, 2, 0,\n",
              "       0, 1, 1, 0, 0, 0, 0, 0, 0, 1, 0, 2, 0, 0, 0, 0, 0, 0, 0, 0, 0, 0,\n",
              "       0, 0, 0, 0, 0, 0, 0, 0, 0, 0, 0, 2, 0, 0, 0, 0, 0, 0, 2, 0, 0, 0,\n",
              "       0, 0, 0, 0, 0, 2, 0, 0, 1, 0, 0, 0, 0, 0, 0, 0, 0, 1, 0, 0, 0, 0,\n",
              "       0, 1, 1, 0, 0, 0, 0, 0, 1, 0, 0, 0, 0, 0, 0, 0, 0, 0, 0, 0, 0, 0,\n",
              "       0, 0, 0, 0, 0, 0, 1, 0, 0, 2, 0, 0, 0, 1, 0, 0, 0, 0, 0, 0, 1, 1,\n",
              "       0, 0, 0, 0, 1, 0, 1, 0, 1, 0, 0, 1, 0, 0, 0, 0, 0, 0, 0, 0, 0, 0,\n",
              "       1, 0, 1, 0, 1, 0, 0, 0, 0, 0, 0, 0, 0, 2, 0, 0, 0, 0, 0, 0, 0, 0,\n",
              "       0, 2, 0, 0, 0, 0, 0, 0, 0, 0, 0, 0, 0, 0, 0, 0, 0, 0, 0, 0, 0, 0,\n",
              "       1, 0, 0, 0, 0, 0, 0, 0, 0, 0, 0, 0, 0, 0, 0, 0, 0, 0, 0, 0, 0, 0,\n",
              "       0, 0, 0, 0, 1, 1, 0, 0, 0, 0, 1, 0, 0, 0, 4, 0, 2, 0, 0, 0, 0, 0,\n",
              "       0, 0, 1, 0, 0, 0, 1, 0, 0, 0, 0, 0, 0, 0])"
            ]
          },
          "metadata": {},
          "execution_count": 14
        }
      ],
      "source": [
        "vector[0]"
      ]
    },
    {
      "cell_type": "code",
      "execution_count": 15,
      "id": "304ce208",
      "metadata": {
        "colab": {
          "base_uri": "https://localhost:8080/"
        },
        "id": "304ce208",
        "outputId": "6bbecc07-d87d-410c-dc56-6d6584574a87"
      },
      "outputs": [
        {
          "output_type": "execute_result",
          "data": {
            "text/plain": [
              "300"
            ]
          },
          "metadata": {},
          "execution_count": 15
        }
      ],
      "source": [
        "len(cv.get_feature_names_out())"
      ]
    },
    {
      "cell_type": "code",
      "execution_count": 16,
      "id": "b18be026",
      "metadata": {
        "id": "b18be026",
        "colab": {
          "base_uri": "https://localhost:8080/"
        },
        "outputId": "d4d3f517-c00f-4dda-8a95-7df41d3d1c5d"
      },
      "outputs": [
        {
          "output_type": "stream",
          "name": "stdout",
          "text": [
            "Requirement already satisfied: nltk in /usr/local/lib/python3.10/dist-packages (3.8.1)\n",
            "Requirement already satisfied: click in /usr/local/lib/python3.10/dist-packages (from nltk) (8.1.7)\n",
            "Requirement already satisfied: joblib in /usr/local/lib/python3.10/dist-packages (from nltk) (1.3.2)\n",
            "Requirement already satisfied: regex>=2021.8.3 in /usr/local/lib/python3.10/dist-packages (from nltk) (2023.6.3)\n",
            "Requirement already satisfied: tqdm in /usr/local/lib/python3.10/dist-packages (from nltk) (4.66.1)\n"
          ]
        }
      ],
      "source": [
        "# Install the nltk library using pip\n",
        "!pip install nltk\n",
        "\n",
        "# Import the nltk library\n",
        "import nltk\n",
        "\n",
        "# Import the PorterStemmer from nltk\n",
        "from nltk.stem.porter import PorterStemmer\n",
        "\n",
        "# Create an instance of the PorterStemmer\n",
        "ps = PorterStemmer()\n"
      ]
    },
    {
      "cell_type": "code",
      "execution_count": 17,
      "id": "fd467bd0",
      "metadata": {
        "id": "fd467bd0"
      },
      "outputs": [],
      "source": [
        "# Define a function to stem words in a given text\n",
        "def stem(text):\n",
        "    y = []\n",
        "    # Loop through words in the text and apply stemming\n",
        "    for word in text.split():\n",
        "        y.append(ps.stem(word))\n",
        "    # Join the stemmed words into a single string\n",
        "    return \" \".join(y)\n"
      ]
    },
    {
      "cell_type": "code",
      "execution_count": 18,
      "id": "41b643cd",
      "metadata": {
        "colab": {
          "base_uri": "https://localhost:8080/"
        },
        "id": "41b643cd",
        "outputId": "92772b62-8c1b-4f21-e8e1-5f828f95bbb1"
      },
      "outputs": [
        {
          "output_type": "execute_result",
          "data": {
            "text/plain": [
              "0                                                                                                                                                                                                                                                                                                                                                                                                                     walnut great grip and extra breathabl make these merrel ventil hiker ideal for warm dri condit great grip and extra breathabl make these merrel ventil hiker ideal for warm dri condit spec approx weight 1 lb 8 oz per pair construct perform sued leather and mesh upper line with breathabl mesh that wick moistur away rubber toe cap and heel counter add protect and make it easi to clean off mud ventil bellow tongu enhanc breathabl and keep debri out blend eva contour footb mold nylon arch shank and mold footfram cushion everi step footb treat to control odor organ air insert under the heel help absorb shock and enhanc stabil durabl vibram multisport tc5 rubber outsol with 5mm lug provid tenaci grip import question chat with an expert men' merrel moab 2 ventil trail shoe shoe\n",
              "1                                                                                                                                                                                                                                      green thi lightweight fli rod deliv outstand perform and can be use as either a tradit onehand rod or as a twohand spey rod twohand techniqu is ideal for larger river and situat where there isnt space for a backcast 3 size 126 7wt 13 8wt 14 9wt thi lightweight fli rod deliv outstand perform and can be use as either a tradit onehand rod or as a twohand spey rod twohand techniqu is ideal for larger river and situat where there isnt space for a backcast size fit 3 size 126 7wt 13 8wt 14 9wt construct graphit rod blank with advanc resin technolog titanium snake guid and two stripper guid with ceram insert addit featur easi to cast mediumfast action fli rod is easi to learn with yet grow with you 4piec design for easi travel and storag align line and dot at each ferrul for eas of assembl includ lightweight rug nyloncov fiberglass rod tube with built in section divid import question chat with an expert streamlight ultra ii switch fli rod fish tool\n",
              "2                                                                                                                                                                                                                                                                                                                                                                                                                                                                                                                                                          green these tough men heavyduti suspend are made to hold up heavi wool pant without stretch medium 4042 long 44 extralong 46 to determin size measur at beltlin from front pocket over your shoulder and diagon down to opposit back pocket these tough men heavyduti suspend are made to hold up heavi wool pant without stretch size fit medium 4042 long 44 extralong 46 to determin size measur at beltlin from front pocket over your shoulder and diagon down to opposit back pocket construct highgrad heavyduti 1wide elast web leatherend style fasten to suspend button addit featur 4 oz import question chat with an expert men' heavy-duti suspend suspend\n",
              "3                                                                                                                                                                                                                                                                                                                                    antiqu pine antiqu white flint blue slate blue sunlight vapor gray white all the soft and absorb youv come to expect from llbean towel in certifi organ cotton for natur ecofriendli comfort all the soft and absorb youv come to expect from llbean towel in certifi organ cotton for natur ecofriendli comfort spec overs bath towel dimens 34 x 62 bath towel dimens 30 x 58 hand towel dimens 16 x 30 facecloth dimens 12 x 13 fabric care 500 gram of premium turkish comb cotton addit featur lightweight and quick dri a great choic for everyday use cotton is loop on both side for longlast dri power and durabl resist the bleachedout stain caus by benzoyl peroxid avail in standard and overs style coordin with our other organ textur cotton towel style and set sold separ got certifi cu 808230 made in turkey question chat with an expert organ textur cotton towel towel\n",
              "4                                                                                                                                                                                                                                                                                                                                                                                                                                                                                                                                                                                                                                                                                                                                                                   black dark flint gray natur for strong lightweight comfort without bulk our men silk crewneck make for an ideal first layer against the cold from slope to lodg to shovel snow for strong lightweight comfort without bulk our men silk crewneck make for an ideal first layer against the cold from slope to lodg to shovel snow fabric care 100 silk fabric machin wash dri flat import question chat with an expert men' silk underwear, crewneck underwear\n",
              "                                                                                                                                                                                                                                                                                                                                                                                                                                                                                                                                                                                                                  ...                                                                                                                                                                                                                                                                                                                                                                                                                                                                                                                                                                                                             \n",
              "61    alo green shitak grey thi lightweight technic day pack is great for long day hike your daili carri to work or for run errand on a bike it simpli built make it perfect for the minimalist hiker who want to carri onli what necessari thi lightweight technic day pack is great for long day hike your daili carri to work or for run errand on a bike it simpli built make it perfect for the minimalist hiker who want to carri onli what necessari spec capac 1098 cu in 18 liter weight 1 lb 8 oz dimens 1811h x 945w x 1083d construct pack bodi made from 100denier nylon mini diamond shadow bottom is tough 500denier nylon packcloth biostretch ventil har featur perfor eva foam for breathabl airspe back panel suspend the pack bodi off back increas ventil and improv comfort integr rain cover keep your gear dri on raini day addit featur intern hydrat sleev accommod up to a 3 liter reservoir sold separ scratchresist organ pocket for sunglass and electron stretch mesh side pocket for smaller item trek pole attach with upper compress strap captur compress strap stabil your load remov web hipbelt sternum strap with whistl import question chat with an expert osprey hikelit 18 day pack bag\n",
              "62                                                                                                                                                                                                                                                             dark clay as rug and durabl as the vintag pair they were inspir by these canva util pant are built for tough for colder month wear them indoor or out in the yard theyr sure to stand the test of time slimstraight fit slim straight our slimmest pant sit below the natur waist and are fit through the hip and thigh with a narrow straight leg below the knee as rug and durabl as the vintag pair they were inspir by these canva util pant are built for tough for colder month wear them indoor or out in the yard theyr sure to stand the test of time size fit slim straight our slimmest pant sit below the natur waist and are fit through the hip and thigh with a narrow straight leg below the knee fabric care 100 cotton canva machin wash and dri addit featur front and back pocket with side util pocket all deep and great for stash your belong cuff are doubl layer for ad durabl import question chat with an expert signatur util pant pant\n",
              "63                                                                                                                                                                                                                                                                                                                                                                                                                                                               green thi bright camp lantern is lightweight and compact enough take with you on backcountri adventur with fold leg and a collaps dome it wont take up much space in your pack thi bright camp lantern is lightweight and compact enough take with you on backcountri adventur with fold leg and a collaps dome it wont take up much space in your pack spec open height 5 collaps height 25 weight 55 oz addit featur put out up to 150 lumen of light dimmabl to 30 remov globe let you use it as a hang tent light or as a flashlight builtin hook in each leg provid multipl hang option dimmabl green led for preserv night vision run up to 32 hour on three aaa batteri includ import question chat with an expert l.l.bean stowaway lantern portabl light\n",
              "64                                                                                                                                                                                                                                                                                                                                                                                                                                                                                                        black heather dark oliv our exclus wool perform fabric is an ideal base layer for coolweath sport our exclus wool perform fabric is an ideal base layer for coolweath sport fabric care made of itchfre 100 merino wool natur best insul machin wash and dri addit featur speed moistur away from your bodi and trap heat so you stay warm and comfort provid more warmth for the weight natur resist odor for the lifetim of the fabric finegaug knit with flatlock seam for a remark soft smooth fit midweight fabric is our most versatil weight for warmth dure a rang of activ thumbhol cuff keep sleev snug at wrist import question chat with an expert cresta wool midweight 250 base layer, quarter-zip baselay\n",
              "65                                                                                                                                                                                                                                                                                                                                                  dark vintag dark wash fade denim wash indigo craft from premium denim that will last wear after wear our natur fit 1912 jean are special wash for unbeat comfort right from the start natur fit natur fit sit at the natur waist and relax through the hip and thigh craft from premium denim that will last wear after wear our natur fit 1912 jean are special wash for unbeat comfort right from the start size fit natur fit sit at the natur waist and relax through the hip and thigh whi we love them custom rave that these jean look great and feel great while also tell us that the cut and fit are perfect we make them from premium ringspun denim known for it strength soft and authent vintag charact fabric care 100 cotton machin wash and dri addit featur prewash for instant soft import question chat with an expert l.l.bean 1912 jeans, natur fit pant\n",
              "Name: tags, Length: 66, dtype: object"
            ]
          },
          "metadata": {},
          "execution_count": 18
        }
      ],
      "source": [
        "dataset1['tags'].apply(stem)"
      ]
    },
    {
      "cell_type": "code",
      "execution_count": 19,
      "id": "a4141207",
      "metadata": {
        "colab": {
          "base_uri": "https://localhost:8080/"
        },
        "id": "a4141207",
        "outputId": "613c2396-a513-4292-d3cb-33afba7ccb2b"
      },
      "outputs": [
        {
          "output_type": "execute_result",
          "data": {
            "text/plain": [
              "array([[1.        , 0.12065379, 0.09883694, ..., 0.1112373 , 0.19224311,\n",
              "        0.06909875],\n",
              "       [0.12065379, 1.        , 0.12849851, ..., 0.21693046, 0.11510231,\n",
              "        0.07860625],\n",
              "       [0.09883694, 0.12849851, 1.        , ..., 0.17770466, 0.18857857,\n",
              "        0.16312769],\n",
              "       ...,\n",
              "       [0.1112373 , 0.21693046, 0.17770466, ..., 1.        , 0.1131937 ,\n",
              "        0.06763995],\n",
              "       [0.19224311, 0.11510231, 0.18857857, ..., 0.1131937 , 1.        ,\n",
              "        0.16611689],\n",
              "       [0.06909875, 0.07860625, 0.16312769, ..., 0.06763995, 0.16611689,\n",
              "        1.        ]])"
            ]
          },
          "metadata": {},
          "execution_count": 19
        }
      ],
      "source": [
        "# Import the cosine_similarity function from scikit-learn\n",
        "from sklearn.metrics.pairwise import cosine_similarity\n",
        "\n",
        "# Calculate the cosine similarity between feature vectors\n",
        "similarity = cosine_similarity(vector)\n",
        "\n",
        "# Display the similarity matrix\n",
        "similarity"
      ]
    },
    {
      "cell_type": "code",
      "execution_count": 20,
      "id": "aa1cf1e7",
      "metadata": {
        "colab": {
          "base_uri": "https://localhost:8080/"
        },
        "id": "aa1cf1e7",
        "outputId": "4a86c65e-5ffc-499b-f6f2-6de6cceecee6"
      },
      "outputs": [
        {
          "output_type": "execute_result",
          "data": {
            "text/plain": [
              "(66, 66)"
            ]
          },
          "metadata": {},
          "execution_count": 20
        }
      ],
      "source": [
        "similarity.shape"
      ]
    },
    {
      "cell_type": "code",
      "execution_count": 21,
      "id": "84680797",
      "metadata": {
        "colab": {
          "base_uri": "https://localhost:8080/"
        },
        "id": "84680797",
        "outputId": "0f9c9012-444d-4d86-b97a-db53ba671608"
      },
      "outputs": [
        {
          "output_type": "execute_result",
          "data": {
            "text/plain": [
              "3"
            ]
          },
          "metadata": {},
          "execution_count": 21
        }
      ],
      "source": [
        "dataset1[dataset1['name'] == 'Organic Textured Cotton Towel'].index[0]"
      ]
    },
    {
      "cell_type": "markdown",
      "source": [
        "**For Testing Purposes**"
      ],
      "metadata": {
        "id": "1qG1F0kS3RXM"
      },
      "id": "1qG1F0kS3RXM"
    },
    {
      "cell_type": "code",
      "execution_count": 22,
      "id": "e4e08eda",
      "metadata": {
        "colab": {
          "base_uri": "https://localhost:8080/",
          "height": 36
        },
        "id": "e4e08eda",
        "outputId": "14acd0b7-12d1-48a0-de8b-55d91588bf2d"
      },
      "outputs": [
        {
          "output_type": "execute_result",
          "data": {
            "text/plain": [
              "'Organic Flannel Comforter Cover Collection, Stripe'"
            ],
            "application/vnd.google.colaboratory.intrinsic+json": {
              "type": "string"
            }
          },
          "metadata": {},
          "execution_count": 22
        }
      ],
      "source": [
        "# Find the index of the product 'Organic Textured Cotton Towel' in the filtered dataset\n",
        "product_index = dataset1[dataset1['name'] == 'Organic Textured Cotton Towel'].index[0]\n",
        "\n",
        "# Calculate the cosine similarity distances between the specified product and others\n",
        "distances = similarity[product_index]\n",
        "\n",
        "# Sort and retrieve the top 5 similar products as a list of tuples\n",
        "product_list = sorted(list(enumerate(distances)), reverse=True, key=lambda x: x[1])[1:6]\n",
        "\n",
        "# Display the list of similar products\n",
        "product_list\n",
        "\n",
        "# Get the name of the product at index 44 in the filtered dataset\n",
        "dataset1.get('name')[44]\n"
      ]
    },
    {
      "cell_type": "code",
      "execution_count": 23,
      "id": "817c4b73",
      "metadata": {
        "id": "817c4b73"
      },
      "outputs": [],
      "source": [
        "# Define a function to recommend similar products based on a given product name\n",
        "def recommend(product):\n",
        "    # Find the index of the given product in the filtered dataset\n",
        "    product_index = dataset1[dataset1['name'] == product].index[0]\n",
        "\n",
        "    # Calculate the cosine similarity distances between the specified product and others\n",
        "    distances = similarity[product_index]\n",
        "\n",
        "    # Sort and retrieve the top 5 similar products as a list of tuples\n",
        "    product_list = sorted(list(enumerate(distances)), reverse=True, key=lambda x: x[1])[1:6]\n",
        "\n",
        "    # Print the names of the recommended products\n",
        "    for i in product_list:\n",
        "        print(dataset1.get('name')[i[0]])\n"
      ]
    },
    {
      "cell_type": "code",
      "execution_count": 24,
      "id": "27452491",
      "metadata": {
        "colab": {
          "base_uri": "https://localhost:8080/"
        },
        "id": "27452491",
        "outputId": "9ee320ec-a45e-4f9f-81c6-be2a66f69435"
      },
      "outputs": [
        {
          "output_type": "stream",
          "name": "stdout",
          "text": [
            "Ultrasoft Comfort Flannel Comforter Cover Collection, Stripe\n",
            "Organic Textured Cotton Towel\n",
            "L.L.Bean Organic Flannel Tunic, Plaid\n",
            "Lakewashed® Organic Cotton Oxford Shirt, Plaid\n",
            "Rangeley Flannel Tunic, Plaid\n"
          ]
        }
      ],
      "source": [
        "recommend('Organic Flannel Comforter Cover Collection, Stripe')"
      ]
    },
    {
      "cell_type": "code",
      "source": [
        "dataset1.shape"
      ],
      "metadata": {
        "colab": {
          "base_uri": "https://localhost:8080/"
        },
        "id": "pYxMzodjkWxV",
        "outputId": "8d5cae62-eb29-4899-db4c-8d5eaeefdca8"
      },
      "id": "pYxMzodjkWxV",
      "execution_count": 25,
      "outputs": [
        {
          "output_type": "execute_result",
          "data": {
            "text/plain": [
              "(66, 7)"
            ]
          },
          "metadata": {},
          "execution_count": 25
        }
      ]
    },
    {
      "cell_type": "code",
      "execution_count": 26,
      "id": "57057ce1",
      "metadata": {
        "id": "57057ce1"
      },
      "outputs": [],
      "source": [
        "# Import the pickle module\n",
        "import pickle\n",
        "\n",
        "# Serialize and save the dataset as a dictionary to a binary file\n",
        "pickle.dump(dataset1.to_dict(), open('products1.pkl', 'wb'))\n"
      ]
    },
    {
      "cell_type": "markdown",
      "source": [
        "# **Another method tried by me**\n",
        "Here I have tried another way of recommending products where I have taken the phrases typed by the user as input and created a similarity matrix along with that input. The accuracy of the model increases and user gets more flexibilty of expressing the product they want. But the speed decreases significantly and we have to retrain the model again and again."
      ],
      "metadata": {
        "id": "OB7brKX40Q5N"
      },
      "id": "OB7brKX40Q5N"
    },
    {
      "cell_type": "code",
      "execution_count": 27,
      "id": "f931721b",
      "metadata": {
        "id": "f931721b"
      },
      "outputs": [],
      "source": [
        "############### My Way ####################"
      ]
    },
    {
      "cell_type": "code",
      "execution_count": 28,
      "id": "9d967bf2",
      "metadata": {
        "id": "9d967bf2"
      },
      "outputs": [],
      "source": [
        "# import nltk\n",
        "# from nltk.stem.porter import PorterStemmer\n",
        "# ps=PorterStemmer()\n",
        "# def stem(text):\n",
        "#     y=[]\n",
        "#     for i in text.split():\n",
        "#         y.append(ps.stem(i))\n",
        "#     return \" \".join(y)"
      ]
    },
    {
      "cell_type": "code",
      "execution_count": 29,
      "id": "3a369bc8",
      "metadata": {
        "id": "3a369bc8"
      },
      "outputs": [],
      "source": [
        "# def ultimate_recommender(product):\n",
        "#         stemmed_product=stem(product)\n",
        "#         new_record={'name':product,'url':product,'Classification':product,'tags':stemmed_product}\n",
        "#         global dataset1\n",
        "#         dataset1 = dataset1.append(new_record, ignore_index=True)\n",
        "#         product_index = dataset1[dataset1['name'] == product].index[0]\n",
        "#         from sklearn.feature_extraction.text import CountVectorizer\n",
        "#         cv = CountVectorizer(max_features=300,stop_words='english')\n",
        "#         vector = cv.fit_transform(dataset1['tags']).toarray()\n",
        "#         similarity = cosine_similarity(vector)\n",
        "#         distances = similarity[product_index]\n",
        "#         product_list = sorted(list(enumerate(distances)),reverse=True,key = lambda x: x[1])[2:6]\n",
        "#         print(product_list)\n",
        "#         for i in product_list:\n",
        "#             print(dataset1.get('name')[i[0]])\n",
        "#         dataset1.drop(66, axis=0, inplace=True)\n"
      ]
    },
    {
      "cell_type": "code",
      "execution_count": 30,
      "id": "bb1d72b4",
      "metadata": {
        "id": "bb1d72b4"
      },
      "outputs": [],
      "source": [
        "# ultimate_recommender('sweater')"
      ]
    },
    {
      "cell_type": "code",
      "execution_count": 31,
      "id": "8887a7ee",
      "metadata": {
        "id": "8887a7ee"
      },
      "outputs": [],
      "source": [
        "# dataset1.shape"
      ]
    },
    {
      "cell_type": "code",
      "execution_count": 32,
      "id": "614d9c2e",
      "metadata": {
        "id": "614d9c2e"
      },
      "outputs": [],
      "source": [
        "# dataset1.drop(67, axis=0, inplace=True)"
      ]
    }
  ],
  "metadata": {
    "kernelspec": {
      "display_name": "Python 3 (ipykernel)",
      "language": "python",
      "name": "python3"
    },
    "language_info": {
      "codemirror_mode": {
        "name": "ipython",
        "version": 3
      },
      "file_extension": ".py",
      "mimetype": "text/x-python",
      "name": "python",
      "nbconvert_exporter": "python",
      "pygments_lexer": "ipython3",
      "version": "3.11.1"
    },
    "colab": {
      "provenance": [],
      "include_colab_link": true
    }
  },
  "nbformat": 4,
  "nbformat_minor": 5
}